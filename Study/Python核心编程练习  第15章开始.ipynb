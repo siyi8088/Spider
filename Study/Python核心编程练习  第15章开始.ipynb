{
 "cells": [
  {
   "cell_type": "code",
   "execution_count": 1,
   "metadata": {
    "collapsed": true
   },
   "outputs": [],
   "source": [
    "import re"
   ]
  },
  {
   "cell_type": "code",
   "execution_count": null,
   "metadata": {
    "collapsed": true
   },
   "outputs": [],
   "source": [
    "#15-1\n",
    "p='[bh][aiu]t'"
   ]
  },
  {
   "cell_type": "code",
   "execution_count": 3,
   "metadata": {
    "collapsed": false
   },
   "outputs": [
    {
     "data": {
      "text/plain": [
       "'This is'"
      ]
     },
     "execution_count": 3,
     "metadata": {},
     "output_type": "execute_result"
    }
   ],
   "source": [
    "#15-2\n",
    "p='[A-Za-z]+\\s[A-Za-z]+'\n",
    "test_string='This is'\n",
    "re.search(p,test_string).group()"
   ]
  },
  {
   "cell_type": "code",
   "execution_count": 69,
   "metadata": {
    "collapsed": false
   },
   "outputs": [
    {
     "data": {
      "text/plain": [
       "<_sre.SRE_Match object; span=(0, 13), match='www.yahoo.com'>"
      ]
     },
     "execution_count": 69,
     "metadata": {},
     "output_type": "execute_result"
    }
   ],
   "source": [
    "#15-6\n",
    "p=r'\\bw{3}\\..*?\\.(com|net|edu)'\n",
    "test_string='www.yahoo.com   www.ucsc.edu'\n",
    "re.search(p,test_string)"
   ]
  },
  {
   "cell_type": "code",
   "execution_count": 44,
   "metadata": {
    "collapsed": true
   },
   "outputs": [],
   "source": [
    "a='this is a test.'\n",
    "p=r'\\b\\w+'\n",
    "items=re.findall(p,a)"
   ]
  },
  {
   "cell_type": "code",
   "execution_count": 20,
   "metadata": {
    "collapsed": false
   },
   "outputs": [
    {
     "data": {
      "text/plain": [
       "['this', 'is', 'a', 'test']"
      ]
     },
     "execution_count": 20,
     "metadata": {},
     "output_type": "execute_result"
    }
   ],
   "source": [
    "items"
   ]
  },
  {
   "cell_type": "code",
   "execution_count": 70,
   "metadata": {
    "collapsed": false
   },
   "outputs": [
    {
     "data": {
      "text/plain": [
       "int"
      ]
     },
     "execution_count": 70,
     "metadata": {},
     "output_type": "execute_result"
    }
   ],
   "source": [
    "type(0)"
   ]
  },
  {
   "cell_type": "code",
   "execution_count": 71,
   "metadata": {
    "collapsed": true
   },
   "outputs": [],
   "source": [
    "#15-15\n",
    "p='\\d{4}-\\d{6}-\\d{5}|\\d{4}(-\\d{4}){3})'"
   ]
  },
  {
   "cell_type": "code",
   "execution_count": 94,
   "metadata": {
    "collapsed": false
   },
   "outputs": [],
   "source": [
    "#gendata,py\n",
    "from random import randint,choice\n",
    "from time import ctime\n",
    "from string import ascii_lowercase\n",
    "doms=('com','edu','net','org','gov')\n",
    "redata=[]\n",
    "for i in range(randint(5,10)):\n",
    "    dtint=randint(1400000000,1483703417)\n",
    "    dtstr=ctime(dtint)\n",
    "    shorter=randint(4,7)\n",
    "    em=''\n",
    "    for j in range(shorter):\n",
    "        em+=choice(ascii_lowercase)\n",
    "    longer=randint(shorter,12)\n",
    "    dn=''\n",
    "    for j in range(longer):\n",
    "        dn+=choice(ascii_lowercase)\n",
    "    redata.append('%s::%s@%s.%s::%d-%d-%d'%(dtstr,em,dn,choice(doms),dtint,shorter,longer))"
   ]
  },
  {
   "cell_type": "code",
   "execution_count": 95,
   "metadata": {
    "collapsed": false
   },
   "outputs": [],
   "source": [
    "import os\n",
    "with open('redata.txt','w') as f:\n",
    "    for line in redata:\n",
    "        f.writelines(line+os.linesep)"
   ]
  },
  {
   "cell_type": "code",
   "execution_count": 96,
   "metadata": {
    "collapsed": true
   },
   "outputs": [],
   "source": [
    "with open('redata.txt','r') as f:\n",
    "    redata=f.read()"
   ]
  },
  {
   "cell_type": "code",
   "execution_count": 97,
   "metadata": {
    "collapsed": false
   },
   "outputs": [
    {
     "name": "stdout",
     "output_type": "stream",
     "text": [
      "Sun Nov 13 09:42:45 2016::eeoe@tajjy.com::1479001365-4-5\n",
      "Sun May 10 08:24:30 2015::yaat@nrewpniohx.edu::1431217470-4-10\n",
      "Thu Jan 14 13:09:46 2016::bctbk@hbowwdewlfs.edu::1452748186-5-11\n",
      "Mon Apr 25 04:19:26 2016::ctdzhbc@dionizsh.gov::1461529166-7-8\n",
      "Fri Feb 19 19:25:16 2016::hypzslm@rkgbwzinr.com::1455881116-7-9\n",
      "Wed Aug  3 06:28:03 2016::wxdd@vlimcdk.com::1470176883-4-7\n",
      "\n"
     ]
    }
   ],
   "source": [
    "print(redata)"
   ]
  },
  {
   "cell_type": "code",
   "execution_count": 100,
   "metadata": {
    "collapsed": false
   },
   "outputs": [],
   "source": [
    "#15-17 统计星期出现的次数\n",
    "p=re.compile(r'^\\w{3}',re.M)\n",
    "items=re.findall(p,redata)"
   ]
  },
  {
   "cell_type": "code",
   "execution_count": 104,
   "metadata": {
    "collapsed": false
   },
   "outputs": [
    {
     "name": "stdout",
     "output_type": "stream",
     "text": [
      "Sun 2\n",
      "Sun 2\n",
      "Thu 1\n",
      "Mon 1\n",
      "Fri 1\n",
      "Wed 1\n"
     ]
    }
   ],
   "source": [
    "for item in items:\n",
    "    print(item, items.count(item))"
   ]
  },
  {
   "cell_type": "code",
   "execution_count": 92,
   "metadata": {
    "collapsed": false
   },
   "outputs": [
    {
     "data": {
      "text/plain": [
       "'\\n'"
      ]
     },
     "execution_count": 92,
     "metadata": {},
     "output_type": "execute_result"
    }
   ],
   "source": [
    "os.linesep"
   ]
  },
  {
   "cell_type": "code",
   "execution_count": null,
   "metadata": {
    "collapsed": true
   },
   "outputs": [],
   "source": []
  }
 ],
 "metadata": {
  "kernelspec": {
   "display_name": "Python 3",
   "language": "python",
   "name": "python3"
  },
  "language_info": {
   "codemirror_mode": {
    "name": "ipython",
    "version": 3
   },
   "file_extension": ".py",
   "mimetype": "text/x-python",
   "name": "python",
   "nbconvert_exporter": "python",
   "pygments_lexer": "ipython3",
   "version": "3.5.2"
  }
 },
 "nbformat": 4,
 "nbformat_minor": 1
}
