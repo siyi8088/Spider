{
 "cells": [
  {
   "cell_type": "code",
   "execution_count": 31,
   "metadata": {
    "collapsed": true
   },
   "outputs": [],
   "source": [
    "#moneyfmt.py\n",
    "class MoneyFmt(object):\n",
    "    def __init__(self,value=0.0):\n",
    "        self.value=float(value)\n",
    "    def update(self,value=None):\n",
    "        self.value=float(value)\n",
    "    def __repr__(self):\n",
    "        return repr(self.value)\n",
    "    def __str__(self):\n",
    "        if self.value<0:\n",
    "            flag='-'\n",
    "            val='%s$%s'%(flag,format(-self.value,','))\n",
    "        else:\n",
    "            flag=''\n",
    "            val='%s$%s'%(flag,format(self.value,','))\n",
    "        return val\n",
    "    def __nozero__(self):\n",
    "        return int(self.value) "
   ]
  },
  {
   "cell_type": "code",
   "execution_count": 32,
   "metadata": {
    "collapsed": true
   },
   "outputs": [],
   "source": [
    "cash=MoneyFmt(123.45)"
   ]
  },
  {
   "cell_type": "code",
   "execution_count": 7,
   "metadata": {
    "collapsed": false
   },
   "outputs": [
    {
     "data": {
      "text/plain": [
       "123.45"
      ]
     },
     "execution_count": 7,
     "metadata": {},
     "output_type": "execute_result"
    }
   ],
   "source": [
    "cash"
   ]
  },
  {
   "cell_type": "code",
   "execution_count": 11,
   "metadata": {
    "collapsed": false
   },
   "outputs": [
    {
     "name": "stdout",
     "output_type": "stream",
     "text": [
      "$123.45\n"
     ]
    }
   ],
   "source": [
    "print(cash)"
   ]
  },
  {
   "cell_type": "code",
   "execution_count": 12,
   "metadata": {
    "collapsed": true
   },
   "outputs": [],
   "source": [
    "cash.update(1000.4567)"
   ]
  },
  {
   "cell_type": "code",
   "execution_count": 13,
   "metadata": {
    "collapsed": false
   },
   "outputs": [
    {
     "data": {
      "text/plain": [
       "1000.4567"
      ]
     },
     "execution_count": 13,
     "metadata": {},
     "output_type": "execute_result"
    }
   ],
   "source": [
    "cash"
   ]
  },
  {
   "cell_type": "code",
   "execution_count": 14,
   "metadata": {
    "collapsed": false
   },
   "outputs": [
    {
     "name": "stdout",
     "output_type": "stream",
     "text": [
      "$1000.4567\n"
     ]
    }
   ],
   "source": [
    "print(cash)"
   ]
  },
  {
   "cell_type": "code",
   "execution_count": 22,
   "metadata": {
    "collapsed": true
   },
   "outputs": [],
   "source": [
    "cash.update(-0.3)"
   ]
  },
  {
   "cell_type": "code",
   "execution_count": 23,
   "metadata": {
    "collapsed": false
   },
   "outputs": [
    {
     "name": "stdout",
     "output_type": "stream",
     "text": [
      "-$0.3\n"
     ]
    }
   ],
   "source": [
    "print(cash)"
   ]
  },
  {
   "cell_type": "code",
   "execution_count": 24,
   "metadata": {
    "collapsed": false
   },
   "outputs": [
    {
     "data": {
      "text/plain": [
       "-0.3"
      ]
     },
     "execution_count": 24,
     "metadata": {},
     "output_type": "execute_result"
    }
   ],
   "source": [
    "cash"
   ]
  },
  {
   "cell_type": "code",
   "execution_count": 25,
   "metadata": {
    "collapsed": false
   },
   "outputs": [
    {
     "data": {
      "text/plain": [
       "True"
      ]
     },
     "execution_count": 25,
     "metadata": {},
     "output_type": "execute_result"
    }
   ],
   "source": [
    "bool(cash)"
   ]
  },
  {
   "cell_type": "code",
   "execution_count": 34,
   "metadata": {
    "collapsed": false
   },
   "outputs": [],
   "source": [
    "cash.update(123456789)"
   ]
  },
  {
   "cell_type": "code",
   "execution_count": 35,
   "metadata": {
    "collapsed": false
   },
   "outputs": [
    {
     "name": "stdout",
     "output_type": "stream",
     "text": [
      "$123,456,789.0\n"
     ]
    }
   ],
   "source": [
    "print(cash)"
   ]
  },
  {
   "cell_type": "code",
   "execution_count": 41,
   "metadata": {
    "collapsed": false
   },
   "outputs": [],
   "source": [
    "#13-4\n",
    "import datetime\n",
    "db={}\n",
    "class UserData(object):\n",
    "    def __init__(self,name,pwd):\n",
    "        self.name=name\n",
    "        self.pwd=pwd\n",
    "        self._time=datetime.datetime.now()\n",
    "    def login(self):\n",
    "        password=db[self.name][0]\n",
    "        if self.pwd==password:\n",
    "            print('Wellcome, the time you login last time is %s'%datetime.datetime.ctime(db[self.name][1]))\n",
    "        else:\n",
    "            print('incorrect.')\n",
    "    def insert(self):\n",
    "        db[self.name]=[self.pwd,datetime.datetime.now()]\n",
    "    def update(self):\n",
    "        if self.name in db:\n",
    "            db[self.name]=[self.pwd,datetime.datetime.now()]\n",
    "        else:\n",
    "            self.insert()"
   ]
  },
  {
   "cell_type": "code",
   "execution_count": null,
   "metadata": {
    "collapsed": true
   },
   "outputs": [],
   "source": []
  },
  {
   "cell_type": "code",
   "execution_count": 56,
   "metadata": {
    "collapsed": true
   },
   "outputs": [],
   "source": [
    "aa=UserData('siyi','siyi')"
   ]
  },
  {
   "cell_type": "code",
   "execution_count": 57,
   "metadata": {
    "collapsed": false
   },
   "outputs": [],
   "source": [
    "aa.insert()"
   ]
  },
  {
   "cell_type": "code",
   "execution_count": 58,
   "metadata": {
    "collapsed": true
   },
   "outputs": [],
   "source": [
    "bb=UserData('haha','haha')"
   ]
  },
  {
   "cell_type": "code",
   "execution_count": 59,
   "metadata": {
    "collapsed": true
   },
   "outputs": [],
   "source": [
    "bb.insert()"
   ]
  },
  {
   "cell_type": "code",
   "execution_count": 60,
   "metadata": {
    "collapsed": false
   },
   "outputs": [
    {
     "name": "stdout",
     "output_type": "stream",
     "text": [
      "Wellcome, the time you login last time is Sun Jan  1 20:14:07 2017\n"
     ]
    }
   ],
   "source": [
    "aa.login()"
   ]
  },
  {
   "cell_type": "code",
   "execution_count": 61,
   "metadata": {
    "collapsed": false
   },
   "outputs": [
    {
     "name": "stdout",
     "output_type": "stream",
     "text": [
      "Wellcome, the time you login last time is Sun Jan  1 20:14:09 2017\n"
     ]
    }
   ],
   "source": [
    "bb.login()"
   ]
  },
  {
   "cell_type": "code",
   "execution_count": 69,
   "metadata": {
    "collapsed": true
   },
   "outputs": [],
   "source": [
    "cc=UserData('siyi','haha')"
   ]
  },
  {
   "cell_type": "code",
   "execution_count": 70,
   "metadata": {
    "collapsed": false
   },
   "outputs": [],
   "source": [
    "cc.update()"
   ]
  },
  {
   "cell_type": "code",
   "execution_count": 64,
   "metadata": {
    "collapsed": false
   },
   "outputs": [
    {
     "data": {
      "text/plain": [
       "{'haha': ['haha', 'Sun Jan  1 20:14:09 2017'],\n",
       " 'siyi': ['haha', 'Sun Jan  1 20:15:03 2017']}"
      ]
     },
     "execution_count": 64,
     "metadata": {},
     "output_type": "execute_result"
    }
   ],
   "source": [
    "db"
   ]
  },
  {
   "cell_type": "code",
   "execution_count": 89,
   "metadata": {
    "collapsed": true
   },
   "outputs": [],
   "source": [
    "#13-5\n",
    "class Point:\n",
    "    def __init__(self,x=0,y=0):\n",
    "        self.x=x\n",
    "        self.y=y\n",
    "    def __str__(self):\n",
    "        return '(%s,%s)'%(self.x,self.y)\n",
    "    __repr__=__str__"
   ]
  },
  {
   "cell_type": "code",
   "execution_count": 90,
   "metadata": {
    "collapsed": true
   },
   "outputs": [],
   "source": [
    "a=Point()"
   ]
  },
  {
   "cell_type": "code",
   "execution_count": 91,
   "metadata": {
    "collapsed": false
   },
   "outputs": [
    {
     "name": "stdout",
     "output_type": "stream",
     "text": [
      "(0,0)\n"
     ]
    }
   ],
   "source": [
    "print(a)"
   ]
  },
  {
   "cell_type": "code",
   "execution_count": 92,
   "metadata": {
    "collapsed": false
   },
   "outputs": [
    {
     "data": {
      "text/plain": [
       "(0,0)"
      ]
     },
     "execution_count": 92,
     "metadata": {},
     "output_type": "execute_result"
    }
   ],
   "source": [
    "a"
   ]
  },
  {
   "cell_type": "code",
   "execution_count": 1,
   "metadata": {
    "collapsed": true
   },
   "outputs": [],
   "source": [
    "#13-6\n",
    "from math import sqrt\n",
    "class Line:\n",
    "    def __init__(self,x1,y1,x2,y2):\n",
    "        self.x1=x1\n",
    "        self.y1=y1\n",
    "        self.x2=x2\n",
    "        self.y2=y2\n",
    "    def __str__(self):\n",
    "        return '((%s,%s),(%s,%s))'%(x1,y1,x2,y2)\n",
    "    __repr__=__str__\n",
    "    def length(self):\n",
    "        return '%.2f'%sqrt((self.x1-self.x2)**2+(self.y1-self.y2)**2)\n",
    "    def slope(self):\n",
    "        if self.x1==self.x2:\n",
    "            return None\n",
    "        else:\n",
    "            return (self.y1-self.y2)/(self.x1-self.x2)"
   ]
  },
  {
   "cell_type": "code",
   "execution_count": 2,
   "metadata": {
    "collapsed": true
   },
   "outputs": [],
   "source": [
    "a=Line(1,2,8,9)"
   ]
  },
  {
   "cell_type": "code",
   "execution_count": 4,
   "metadata": {
    "collapsed": false
   },
   "outputs": [
    {
     "name": "stdout",
     "output_type": "stream",
     "text": [
      "9.90\n"
     ]
    }
   ],
   "source": [
    "print(a.length())"
   ]
  },
  {
   "cell_type": "code",
   "execution_count": 104,
   "metadata": {
    "collapsed": false
   },
   "outputs": [
    {
     "data": {
      "text/plain": [
       "1.0"
      ]
     },
     "execution_count": 104,
     "metadata": {},
     "output_type": "execute_result"
    }
   ],
   "source": [
    "a.slope()"
   ]
  },
  {
   "cell_type": "code",
   "execution_count": 155,
   "metadata": {
    "collapsed": false
   },
   "outputs": [],
   "source": [
    "#13-7\n",
    "from datetime import date\n",
    "class TimeData(object):\n",
    "    def __init__(self,ts=date.today()):\n",
    "        self.ts=ts\n",
    "    def update(self,newts):\n",
    "        self.ts=newts\n",
    "    def display(self,fmt):\n",
    "        if fmt.upper()=='MDY':\n",
    "            return self.ts.strftime('%m/%d/%y')\n",
    "        elif fmt.upper()=='MDYY':\n",
    "            return self.ts.strftime('%m/%d/%Y')\n",
    "        elif fmt.upper()=='DMY':\n",
    "            return self.ts.strftime('%d/%m/%y')\n",
    "        elif fmt.upper()=='DMYY':\n",
    "            return self.ts.strftime('%d/%m/%Y')\n",
    "        elif fmt.upper()=='MODYY':\n",
    "            return self.ts.strftime('%b %d, %Y')"
   ]
  },
  {
   "cell_type": "code",
   "execution_count": 164,
   "metadata": {
    "collapsed": false
   },
   "outputs": [],
   "source": [
    "a=TimeData()"
   ]
  },
  {
   "cell_type": "code",
   "execution_count": 165,
   "metadata": {
    "collapsed": false
   },
   "outputs": [
    {
     "data": {
      "text/plain": [
       "'Jan 01, 2017'"
      ]
     },
     "execution_count": 165,
     "metadata": {},
     "output_type": "execute_result"
    }
   ],
   "source": [
    "a.display('MODYY')"
   ]
  },
  {
   "cell_type": "code",
   "execution_count": 30,
   "metadata": {
    "collapsed": false
   },
   "outputs": [],
   "source": [
    "#13-8 堆栈\n",
    "class Stack:\n",
    "    def __init__(self,seq=[]):\n",
    "        self.seq=seq\n",
    "    def push(self,val):\n",
    "        self.seq.append(val)\n",
    "    def pop(self):\n",
    "        try:\n",
    "            return self.seq.pop()\n",
    "        except IndexError as e:\n",
    "            print(e)\n",
    "    def isempty(self):\n",
    "        if len(self.seq)==0:\n",
    "            return True\n",
    "        else:\n",
    "            return False\n",
    "    def peak(self):\n",
    "        try:\n",
    "            return self.seq[-1]\n",
    "        except IndexError as e:\n",
    "            print(e)"
   ]
  },
  {
   "cell_type": "code",
   "execution_count": 31,
   "metadata": {
    "collapsed": false
   },
   "outputs": [],
   "source": [
    "aa=Stack()"
   ]
  },
  {
   "cell_type": "code",
   "execution_count": 10,
   "metadata": {
    "collapsed": false
   },
   "outputs": [
    {
     "data": {
      "text/plain": [
       "True"
      ]
     },
     "execution_count": 10,
     "metadata": {},
     "output_type": "execute_result"
    }
   ],
   "source": [
    "aa.isempty()"
   ]
  },
  {
   "cell_type": "code",
   "execution_count": 15,
   "metadata": {
    "collapsed": false
   },
   "outputs": [],
   "source": [
    "aa.push(1)"
   ]
  },
  {
   "cell_type": "code",
   "execution_count": 20,
   "metadata": {
    "collapsed": false
   },
   "outputs": [
    {
     "data": {
      "text/plain": [
       "1"
      ]
     },
     "execution_count": 20,
     "metadata": {},
     "output_type": "execute_result"
    }
   ],
   "source": [
    "aa.pop()"
   ]
  },
  {
   "cell_type": "code",
   "execution_count": 28,
   "metadata": {
    "collapsed": false
   },
   "outputs": [
    {
     "name": "stdout",
     "output_type": "stream",
     "text": [
      "list index out of range\n"
     ]
    }
   ],
   "source": [
    "aa.peak()"
   ]
  },
  {
   "cell_type": "code",
   "execution_count": 32,
   "metadata": {
    "collapsed": false
   },
   "outputs": [
    {
     "name": "stdout",
     "output_type": "stream",
     "text": [
      "pop from empty list\n"
     ]
    }
   ],
   "source": [
    "aa.pop()"
   ]
  },
  {
   "cell_type": "code",
   "execution_count": 33,
   "metadata": {
    "collapsed": true
   },
   "outputs": [],
   "source": [
    "a=[]"
   ]
  },
  {
   "cell_type": "code",
   "execution_count": 35,
   "metadata": {
    "collapsed": false
   },
   "outputs": [
    {
     "data": {
      "text/plain": [
       "True"
      ]
     },
     "execution_count": 35,
     "metadata": {},
     "output_type": "execute_result"
    }
   ],
   "source": [
    "hasattr(a,'pop')"
   ]
  },
  {
   "cell_type": "code",
   "execution_count": 46,
   "metadata": {
    "collapsed": true
   },
   "outputs": [],
   "source": [
    "#13-9  队列\n",
    "class Queue(object):\n",
    "    def __init__(self,seq=[]):\n",
    "        self.seq=seq\n",
    "    def enqueue(self,val):\n",
    "        self.seq.append(val)\n",
    "    def dequeue(self):\n",
    "        try:\n",
    "            return self.seq.pop(0)\n",
    "        except IndexError as e:\n",
    "            print(e)"
   ]
  },
  {
   "cell_type": "code",
   "execution_count": 47,
   "metadata": {
    "collapsed": false
   },
   "outputs": [],
   "source": [
    "bb=Queue([1,2,3,4])"
   ]
  },
  {
   "cell_type": "code",
   "execution_count": 43,
   "metadata": {
    "collapsed": false
   },
   "outputs": [
    {
     "data": {
      "text/plain": [
       "1"
      ]
     },
     "execution_count": 43,
     "metadata": {},
     "output_type": "execute_result"
    }
   ],
   "source": [
    "bb.dequeue()"
   ]
  },
  {
   "cell_type": "code",
   "execution_count": 44,
   "metadata": {
    "collapsed": false
   },
   "outputs": [
    {
     "data": {
      "text/plain": [
       "2"
      ]
     },
     "execution_count": 44,
     "metadata": {},
     "output_type": "execute_result"
    }
   ],
   "source": [
    "bb.dequeue()"
   ]
  },
  {
   "cell_type": "code",
   "execution_count": 48,
   "metadata": {
    "collapsed": false
   },
   "outputs": [],
   "source": [
    "bb.enqueue(4)"
   ]
  },
  {
   "cell_type": "code",
   "execution_count": 61,
   "metadata": {
    "collapsed": true
   },
   "outputs": [],
   "source": [
    "#13-10 堆栈和队列\n",
    "class StackQueue(object):\n",
    "    def __init__(self,seq=[]):\n",
    "        self.seq=seq\n",
    "    def shift(self):\n",
    "        try:\n",
    "            return self.seq.pop(0)\n",
    "        except IndexError as e:\n",
    "            print(e)\n",
    "    def unshift(self,val):\n",
    "        self.seq.insert(0,val)\n",
    "    def push(self,val):\n",
    "        self.seq.append(val)\n",
    "    def pop(self):\n",
    "        try:\n",
    "            return self.seq.pop()\n",
    "        except IndexError as e:\n",
    "            print(e)"
   ]
  },
  {
   "cell_type": "code",
   "execution_count": 62,
   "metadata": {
    "collapsed": false
   },
   "outputs": [],
   "source": [
    "cc=StackQueue()"
   ]
  },
  {
   "cell_type": "code",
   "execution_count": 63,
   "metadata": {
    "collapsed": true
   },
   "outputs": [],
   "source": [
    "cc.unshift(3)"
   ]
  },
  {
   "cell_type": "code",
   "execution_count": 64,
   "metadata": {
    "collapsed": true
   },
   "outputs": [],
   "source": [
    "cc.push(35)"
   ]
  },
  {
   "cell_type": "code",
   "execution_count": 65,
   "metadata": {
    "collapsed": false
   },
   "outputs": [
    {
     "data": {
      "text/plain": [
       "3"
      ]
     },
     "execution_count": 65,
     "metadata": {},
     "output_type": "execute_result"
    }
   ],
   "source": [
    "cc.shift()"
   ]
  },
  {
   "cell_type": "code",
   "execution_count": 66,
   "metadata": {
    "collapsed": false
   },
   "outputs": [
    {
     "data": {
      "text/plain": [
       "35"
      ]
     },
     "execution_count": 66,
     "metadata": {},
     "output_type": "execute_result"
    }
   ],
   "source": [
    "cc.pop()"
   ]
  },
  {
   "cell_type": "code",
   "execution_count": 72,
   "metadata": {
    "collapsed": true
   },
   "outputs": [],
   "source": [
    "#13-11 电子商务\n",
    "class Item(object):\n",
    "    def __init__(self,item=None):\n",
    "        self.item=item\n",
    "class Cart(object):\n",
    "    def __init__(self,cart=None,item=[]):\n",
    "        self.cart=cart\n",
    "        self.item=item\n",
    "class User(object):\n",
    "    def __init__(self,user=None,cart=[]):\n",
    "        self.user=user\n",
    "        self.cart=cart"
   ]
  },
  {
   "cell_type": "code",
   "execution_count": 76,
   "metadata": {
    "collapsed": false
   },
   "outputs": [],
   "source": [
    "a,b=Item(1),Item(2)"
   ]
  },
  {
   "cell_type": "code",
   "execution_count": 78,
   "metadata": {
    "collapsed": false
   },
   "outputs": [],
   "source": [
    "aa,bb=Cart('a',a),Cart('b',[a,b])"
   ]
  },
  {
   "cell_type": "code",
   "execution_count": 79,
   "metadata": {
    "collapsed": true
   },
   "outputs": [],
   "source": [
    "u=User('siyi',[aa,bb])"
   ]
  },
  {
   "cell_type": "code",
   "execution_count": 81,
   "metadata": {
    "collapsed": false
   },
   "outputs": [
    {
     "data": {
      "text/plain": [
       "('siyi',\n",
       " [<__main__.Cart at 0x7fb4c43eecf8>, <__main__.Cart at 0x7fb4c43ee908>])"
      ]
     },
     "execution_count": 81,
     "metadata": {},
     "output_type": "execute_result"
    }
   ],
   "source": [
    "u.user,u.cart"
   ]
  },
  {
   "cell_type": "code",
   "execution_count": 82,
   "metadata": {
    "collapsed": true
   },
   "outputs": [],
   "source": [
    "#13-11 电子商务\n",
    "class Item(object):\n",
    "    def __init__(self,item=None):\n",
    "        self.item=item\n",
    "class Cart(Item):\n",
    "    def __init__(self,cart=None,item=[]):\n",
    "        super(Cart,self).__init__(item)\n",
    "        self.cart=cart       \n",
    "class User(Cart):\n",
    "    def __init__(self,user=None,cart=[],item=[]):\n",
    "        super(User,self).__init__(cart,item)\n",
    "        self.user=user"
   ]
  },
  {
   "cell_type": "code",
   "execution_count": 83,
   "metadata": {
    "collapsed": true
   },
   "outputs": [],
   "source": [
    "user='siyi';aa,bb='a','b';a,b=1,2"
   ]
  },
  {
   "cell_type": "code",
   "execution_count": 84,
   "metadata": {
    "collapsed": true
   },
   "outputs": [],
   "source": [
    "inst=User(user,[aa,bb],[a,b])"
   ]
  },
  {
   "cell_type": "code",
   "execution_count": 98,
   "metadata": {
    "collapsed": false
   },
   "outputs": [],
   "source": [
    "#13-12  聊天室\n",
    "class Message(object):\n",
    "    def __init__(self,message,**args):\n",
    "        self.message=message\n",
    "        self.args=args\n",
    "    def __str__(self):\n",
    "        return str(message)\n",
    "class User(object):\n",
    "    def __init__(self,user_id,**args):\n",
    "        self.user_id=user_id\n",
    "        self.args=args\n",
    "class Room(object):\n",
    "    def __init__(self,room,users=[]):\n",
    "        self.room=room\n",
    "        self.users=users\n",
    "class Chat(User,Message,Room):\n",
    "    def __init__(self,user_id,message,room=None):\n",
    "        #super(Chat,self).__init__(user_id,message,room)  传参是个问题..\n",
    "        User.__init__(self,user_id)\n",
    "        Message.__init__(self,message)\n",
    "        Room.__init__(self,room)\n",
    "    def reply(self,text):\n",
    "        return Message(text)"
   ]
  },
  {
   "cell_type": "code",
   "execution_count": 99,
   "metadata": {
    "collapsed": false
   },
   "outputs": [],
   "source": [
    "a=Chat('001','haha',1)"
   ]
  },
  {
   "cell_type": "code",
   "execution_count": 101,
   "metadata": {
    "collapsed": false
   },
   "outputs": [
    {
     "data": {
      "text/plain": [
       "('001', 'haha', 1)"
      ]
     },
     "execution_count": 101,
     "metadata": {},
     "output_type": "execute_result"
    }
   ],
   "source": [
    "a.user_id,a.message,a.room"
   ]
  },
  {
   "cell_type": "code",
   "execution_count": 116,
   "metadata": {
    "collapsed": false
   },
   "outputs": [],
   "source": [
    "#13-13  股票投资组合\n",
    "db={}\n",
    "from datetime import date\n",
    "class Stock(object):\n",
    "    def insert(self,stack_id,date,price,quantity):\n",
    "        db[stack_id]=[date,price,quantity]\n",
    "    def delete(self,stock_id):\n",
    "        del db[stock_id]\n",
    "        #db.pop(stock_id)\n",
    "    def ROI(self,stock_id,price_now):\n",
    "        hold_time=(today-date(db[stock_id][0])).days\n",
    "        ROI=(price_now-db[stock_id][1])*360/hold_time\n",
    "        return ROI"
   ]
  },
  {
   "cell_type": "code",
   "execution_count": 123,
   "metadata": {
    "collapsed": false
   },
   "outputs": [
    {
     "name": "stdout",
     "output_type": "stream",
     "text": [
      "Please input the command:ls\n"
     ]
    },
    {
     "data": {
      "text/plain": [
       "0"
      ]
     },
     "execution_count": 123,
     "metadata": {},
     "output_type": "execute_result"
    }
   ],
   "source": [
    "#13-14 ODS\n",
    "import os\n",
    "command=input('Please input the command:')\n",
    "db={'ls':'dir','more':'more','cat':'type','cp':'copy','mv':'ren','rm':'del'}\n",
    "key=command.split()[0]\n",
    "command=command.replace(key,db[key])\n",
    "os.system(command)"
   ]
  },
  {
   "cell_type": "code",
   "execution_count": 119,
   "metadata": {
    "collapsed": false
   },
   "outputs": [],
   "source": [
    "#13-16  授权\n",
    "#Capopen\n",
    "import os\n",
    "class CapOpen(object):\n",
    "    def __init__(self,file,mode='r',buf=-1):\n",
    "        self.file=open(file,mode,buf)\n",
    "    def __str__(self):\n",
    "        return str(self.file)\n",
    "    def __repr(self):\n",
    "        return repr(self.file)\n",
    "    def write(self,line):\n",
    "        self.file.write(line.upper())\n",
    "    def writelines(self,lines,linesep=False):\n",
    "        for line in lines:\n",
    "            if linesep:\n",
    "                self.file.write(line+os.linesep)\n",
    "            else:\n",
    "                self.file.write(line)\n",
    "    def __getattr__(self,attr):\n",
    "        return getattr(self.file,attr)"
   ]
  },
  {
   "cell_type": "code",
   "execution_count": 23,
   "metadata": {
    "collapsed": false
   },
   "outputs": [],
   "source": [
    "#13-17 #moneyfmt.py  数值类型子类化\n",
    "class MoneyFmt(float):\n",
    "    def __init__(self,value=0.0):\n",
    "        self.value=float(value)\n",
    "    def update(self,value=None):\n",
    "        self.value=float(value)\n",
    "    def __repr__(self):\n",
    "        return repr(self.value)\n",
    "    def __str__(self):\n",
    "        if self.value<0:\n",
    "            flag='-'\n",
    "            val='%s$%s'%(flag,format(-self.value,','))\n",
    "        else:\n",
    "            flag=''\n",
    "            val='%s$%s'%(flag,format(self.value,','))\n",
    "        return val\n",
    "    def __nozero__(self):\n",
    "        return int(self.value)\n",
    "    def __add__(self,other):\n",
    "        return MoneyFmt(self.value+other)\n",
    "    def __sub__(self,other):\n",
    "        return MoneyFmt(self.value-other)\n",
    "    def __mul__(self,other):\n",
    "        return MoneyFmt(self.value*other)\n",
    "    def __div__(self,other):\n",
    "        return MoneyFmt(self.value/other)"
   ]
  },
  {
   "cell_type": "code",
   "execution_count": 24,
   "metadata": {
    "collapsed": false
   },
   "outputs": [],
   "source": [
    "a=MoneyFmt(1.5);b=MoneyFmt(65)"
   ]
  },
  {
   "cell_type": "code",
   "execution_count": 25,
   "metadata": {
    "collapsed": false
   },
   "outputs": [
    {
     "name": "stdout",
     "output_type": "stream",
     "text": [
      "-$63.5\n"
     ]
    }
   ],
   "source": [
    "print(a-b)"
   ]
  },
  {
   "cell_type": "code",
   "execution_count": 12,
   "metadata": {
    "collapsed": false
   },
   "outputs": [
    {
     "name": "stdout",
     "output_type": "stream",
     "text": [
      "$1.5\n"
     ]
    }
   ],
   "source": [
    "print(a)"
   ]
  },
  {
   "cell_type": "code",
   "execution_count": 32,
   "metadata": {
    "collapsed": false
   },
   "outputs": [],
   "source": [
    "#13-18  序列类型子类化\n",
    "db={}\n",
    "import datetime\n",
    "class UserInfo(UserData):\n",
    "    def update(self):\n",
    "        if self.name in db:\n",
    "            db[self.name]=[self.pwd,datetime.datetime.now()]\n",
    "        else:\n",
    "            self.insert()\n",
    "    def login(self):\n",
    "        password=db[self.name][0]\n",
    "        time_delta=datetime.datetime.now=db[self.name][1]\n",
    "        if self.pwd==password and time_delta.days<365:\n",
    "            print('Wellcome, the time you login last time is %s'%datetime.datetime.ctime(db[self.name][1]))\n",
    "        elif self.pwd==password and time_delta.days>365:\n",
    "            print('Your password have passed its expiry date, please alter your password.')\n",
    "        else:\n",
    "            print('Your password is incorrect.')"
   ]
  },
  {
   "cell_type": "code",
   "execution_count": 37,
   "metadata": {
    "collapsed": false
   },
   "outputs": [],
   "source": [
    "a=datetime.datetime.now()"
   ]
  },
  {
   "cell_type": "code",
   "execution_count": 38,
   "metadata": {
    "collapsed": false
   },
   "outputs": [
    {
     "data": {
      "text/plain": [
       "'Tue Jan  3 20:09:25 2017'"
      ]
     },
     "execution_count": 38,
     "metadata": {},
     "output_type": "execute_result"
    }
   ],
   "source": [
    "datetime.datetime.ctime(a)"
   ]
  },
  {
   "cell_type": "code",
   "execution_count": 45,
   "metadata": {
    "collapsed": false
   },
   "outputs": [],
   "source": [
    "b=a+datetime.timedelta(days=365)"
   ]
  },
  {
   "cell_type": "code",
   "execution_count": 47,
   "metadata": {
    "collapsed": false
   },
   "outputs": [
    {
     "data": {
      "text/plain": [
       "365"
      ]
     },
     "execution_count": 47,
     "metadata": {},
     "output_type": "execute_result"
    }
   ],
   "source": [
    "(b-a).days"
   ]
  },
  {
   "cell_type": "code",
   "execution_count": 61,
   "metadata": {
    "collapsed": true
   },
   "outputs": [],
   "source": [
    "#13-19  映射类型子类化   这样会导致无限递归,,Why?\n",
    "class SortedDict(dict):\n",
    "    def keys(self):\n",
    "        return sorted(self.keys())"
   ]
  },
  {
   "cell_type": "code",
   "execution_count": 57,
   "metadata": {
    "collapsed": false
   },
   "outputs": [],
   "source": [
    "class SortedDict(dict):\n",
    "    def keys(self):\n",
    "        return sorted(super(SortedDict,self).keys())"
   ]
  },
  {
   "cell_type": "code",
   "execution_count": 62,
   "metadata": {
    "collapsed": false
   },
   "outputs": [],
   "source": [
    "a={'siyi':12,'hha':34,'heihei':56}"
   ]
  },
  {
   "cell_type": "code",
   "execution_count": 63,
   "metadata": {
    "collapsed": false
   },
   "outputs": [],
   "source": [
    "a=SortedDict(a)"
   ]
  },
  {
   "cell_type": "code",
   "execution_count": null,
   "metadata": {
    "collapsed": false
   },
   "outputs": [],
   "source": []
  },
  {
   "cell_type": "code",
   "execution_count": null,
   "metadata": {
    "collapsed": true
   },
   "outputs": [],
   "source": []
  }
 ],
 "metadata": {
  "kernelspec": {
   "display_name": "Python 3",
   "language": "python",
   "name": "python3"
  },
  "language_info": {
   "codemirror_mode": {
    "name": "ipython",
    "version": 3
   },
   "file_extension": ".py",
   "mimetype": "text/x-python",
   "name": "python",
   "nbconvert_exporter": "python",
   "pygments_lexer": "ipython3",
   "version": "3.5.2"
  }
 },
 "nbformat": 4,
 "nbformat_minor": 1
}
