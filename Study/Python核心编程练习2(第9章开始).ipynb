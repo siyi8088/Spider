{
 "cells": [
  {
   "cell_type": "code",
   "execution_count": 1,
   "metadata": {
    "collapsed": true
   },
   "outputs": [],
   "source": [
    "#9-1\n",
    "with open('dianping.py','r')as f:\n",
    "    data=[line.strip() for line in f]"
   ]
  },
  {
   "cell_type": "code",
   "execution_count": null,
   "metadata": {
    "collapsed": true
   },
   "outputs": [],
   "source": [
    "if not line.startswith('#'):\n",
    "    print(line)"
   ]
  },
  {
   "cell_type": "code",
   "execution_count": 18,
   "metadata": {
    "collapsed": false
   },
   "outputs": [],
   "source": [
    "#9-6 #比较两个文本文件\n",
    "def comparefile():\n",
    "    with open('zhihu_newlogin.py','r') as f:file1=f.readlines()\n",
    "    with open('zhihu_login.py','r') as g:file2=g.readlines()\n",
    "    for line1,line2 in zip(file1,file2):\n",
    "        for word1,word2 in zip(line1,line2):\n",
    "            if word1!=word2:\n",
    "                return (file1.index(line1),line1.index(word1))\n",
    "        if len(line1)>len(line2):\n",
    "            return (file1.index(line1),len(line2)+1)\n",
    "        else:\n",
    "            return (file1.index(line1),len(line1)+1)\n",
    "    if len(file1)>len(file2):\n",
    "        return (len(file1)+1,0)\n",
    "    else:\n",
    "        return (len(file2)+1,0)"
   ]
  },
  {
   "cell_type": "code",
   "execution_count": 19,
   "metadata": {
    "collapsed": false
   },
   "outputs": [
    {
     "data": {
      "text/plain": [
       "(0, 2)"
      ]
     },
     "execution_count": 19,
     "metadata": {},
     "output_type": "execute_result"
    }
   ],
   "source": [
    "comparefile()"
   ]
  },
  {
   "cell_type": "code",
   "execution_count": 20,
   "metadata": {
    "collapsed": false
   },
   "outputs": [],
   "source": [
    "#9-9 python文档字符串归档\n",
    "import os\n",
    "def modulestr():\n",
    "    path=r'/home/siyi/.local/lib/python3.5/site-packages'\n",
    "    temp=[]\n",
    "    os.chdir(path)\n",
    "    files=[ele for ele in os.listdir() if '.py' in ele]\n",
    "    for file in files:\n",
    "        with open(file) as f:\n",
    "            data=f.read()\n",
    "        if '__doc__' in data:\n",
    "            with open('/home/siyi/study/python/module.txt','a')as g:\n",
    "                g.write(data)\n",
    "        else:\n",
    "            temp.append(fiel)\n",
    "    with open('/home/siyi/study/python/module.txt','a') as h:\n",
    "        h.write(temp)"
   ]
  },
  {
   "cell_type": "code",
   "execution_count": 34,
   "metadata": {
    "collapsed": false
   },
   "outputs": [],
   "source": [
    "import pickle"
   ]
  },
  {
   "cell_type": "code",
   "execution_count": 45,
   "metadata": {
    "collapsed": false
   },
   "outputs": [],
   "source": [
    "f=open('comparefile.pkl','wb')"
   ]
  },
  {
   "cell_type": "code",
   "execution_count": 46,
   "metadata": {
    "collapsed": false
   },
   "outputs": [],
   "source": [
    "pickle.dump(comparefile,f)"
   ]
  },
  {
   "cell_type": "code",
   "execution_count": 47,
   "metadata": {
    "collapsed": true
   },
   "outputs": [],
   "source": [
    "f.close()"
   ]
  },
  {
   "cell_type": "code",
   "execution_count": 48,
   "metadata": {
    "collapsed": true
   },
   "outputs": [],
   "source": [
    "g=open('comparefile.pkl','rb')"
   ]
  },
  {
   "cell_type": "code",
   "execution_count": 49,
   "metadata": {
    "collapsed": true
   },
   "outputs": [],
   "source": [
    "aa=pickle.load(g)"
   ]
  },
  {
   "cell_type": "code",
   "execution_count": 51,
   "metadata": {
    "collapsed": false
   },
   "outputs": [
    {
     "data": {
      "text/plain": [
       "(0, 2)"
      ]
     },
     "execution_count": 51,
     "metadata": {},
     "output_type": "execute_result"
    }
   ],
   "source": [
    "aa()"
   ]
  },
  {
   "cell_type": "code",
   "execution_count": 52,
   "metadata": {
    "collapsed": true
   },
   "outputs": [],
   "source": [
    "import shelve"
   ]
  },
  {
   "cell_type": "code",
   "execution_count": 55,
   "metadata": {
    "collapsed": false
   },
   "outputs": [],
   "source": [
    "f=shelve.open('comparefile.date')"
   ]
  },
  {
   "cell_type": "code",
   "execution_count": 56,
   "metadata": {
    "collapsed": true
   },
   "outputs": [],
   "source": [
    "f['comparefile']=comparefile"
   ]
  },
  {
   "cell_type": "code",
   "execution_count": 57,
   "metadata": {
    "collapsed": true
   },
   "outputs": [],
   "source": [
    "f.close()"
   ]
  },
  {
   "cell_type": "code",
   "execution_count": 58,
   "metadata": {
    "collapsed": true
   },
   "outputs": [],
   "source": [
    "g=shelve.open('comparefile.date')"
   ]
  },
  {
   "cell_type": "code",
   "execution_count": 60,
   "metadata": {
    "collapsed": false
   },
   "outputs": [
    {
     "data": {
      "text/plain": [
       "(0, 2)"
      ]
     },
     "execution_count": 60,
     "metadata": {},
     "output_type": "execute_result"
    }
   ],
   "source": [
    "g['comparefile']()"
   ]
  },
  {
   "cell_type": "code",
   "execution_count": 61,
   "metadata": {
    "collapsed": true
   },
   "outputs": [],
   "source": [
    "g.close()"
   ]
  },
  {
   "cell_type": "code",
   "execution_count": 2,
   "metadata": {
    "collapsed": false
   },
   "outputs": [],
   "source": [
    "#9-13 打印所有的命令行参数\n",
    "import sys\n",
    "def print_argv():\n",
    "    for item in sys.argv[1:]:\n",
    "        print(item)"
   ]
  },
  {
   "cell_type": "code",
   "execution_count": 22,
   "metadata": {
    "collapsed": false
   },
   "outputs": [],
   "source": [
    "#9-14 记录结果\n",
    "#calc.py\n",
    "import pickle\n",
    "import sys\n",
    "\n",
    "def calc(exp):\n",
    "    f=open('calc.pkl','wb')\n",
    "    pickle.dump(exp,f)\n",
    "    if '+' in exp:\n",
    "        items=[float(ele) for ele in exp.strip().split('+')]\n",
    "        result=items[0]+items[1]\n",
    "    elif '-' in exp:\n",
    "        items=[float(ele) for ele in exp.strip().split('-')]\n",
    "        result=items[0]-items[1]\n",
    "    elif '**' in exp:\n",
    "        items=[float(ele) for ele in exp.strip().split('**')]\n",
    "        result=items[0]**items[1]\n",
    "    elif '/' in exp:\n",
    "        items=[float(ele) for ele in exp.strip().split('/')]\n",
    "        result=items[0]/items[1]\n",
    "    elif '%' in exp:\n",
    "        items=[float(ele) for ele in exp.strip().split('%')]\n",
    "        result=items[0]%items[1]\n",
    "    elif '*' in exp:\n",
    "        items=[float(ele) for ele in exp.strip().split('*')]\n",
    "        result=items[0]*items[1]\n",
    "    pickle.dump(result,f)\n",
    "    f.close()\n",
    "    return result\n",
    "\n",
    "def print_record():\n",
    "    f=open('calc.pkl','rb+')\n",
    "    while True:\n",
    "        try:\n",
    "            data=pickle.load(f)\n",
    "            print(data)\n",
    "        except:\n",
    "            break\n",
    "    f.truncate()\n",
    "    f.close()\n",
    "    \n",
    "if __name__=='__main__':\n",
    "    exp=sys.argv[1]\n",
    "    if exp=='print':\n",
    "        print_record()\n",
    "    else:\n",
    "        print(calc(exp))"
   ]
  },
  {
   "cell_type": "code",
   "execution_count": 25,
   "metadata": {
    "collapsed": true
   },
   "outputs": [],
   "source": [
    "#9-16\n",
    "def max_80(file_name):\n",
    "    result=[]\n",
    "    with open(file_name,'r') as f:\n",
    "        data=f.readlines()\n",
    "    for line in data:\n",
    "        if len(line)>80:\n",
    "            index=line.rfind(' ')\n",
    "            result.extend([line[:index+1],line[index:]])\n",
    "        else:\n",
    "            result.append(line)\n",
    "    with open(file_name,'w') as f:\n",
    "        f.writelilnes(result)"
   ]
  },
  {
   "cell_type": "code",
   "execution_count": 27,
   "metadata": {
    "collapsed": false
   },
   "outputs": [],
   "source": [
    "#9-19  生成二进制数据文件,指定字符次数\n",
    "import random\n",
    "def createfile(value,cnt,length):\n",
    "    file_list=[]\n",
    "    for i in range(length-cnt):\n",
    "        a=random.randint(0,255)\n",
    "        if a!=value:\n",
    "            file_list.append(a)\n",
    "    for j in range(cnt):\n",
    "        file_list.insert(random.randint(length-cnt),value)"
   ]
  },
  {
   "cell_type": "code",
   "execution_count": null,
   "metadata": {
    "collapsed": true
   },
   "outputs": [],
   "source": [
    "import random\n",
    "def createfile(value,cnt,length):\n",
    "    if value==0:\n",
    "        arange=range(1,256)\n",
    "    elif value==255:\n",
    "        arange=range(0,255)\n",
    "    else:\n",
    "        arange=list(range(0,value))+list(range(value+1,256))\n",
    "    file_list=[random.choice(arange) for i in range(length-cnt)]\n",
    "    for i in range(cnt):\n",
    "        file_list.insert(random.randint(length-cnt),value)"
   ]
  },
  {
   "cell_type": "code",
   "execution_count": 10,
   "metadata": {
    "collapsed": false
   },
   "outputs": [],
   "source": [
    "#9-20  压缩 解压缩gzip或者bzip文件\n",
    "import gzip\n",
    "def compress(file_name,zip_file_name):\n",
    "    with open(file_name,'rb') as plain_file:\n",
    "        with gzip.open(zip_file_name,'wb') as com_file:\n",
    "            com_file.writelines(plain_file)\n",
    "\n",
    "def decompress(zip_file_name,file_name):\n",
    "    with gzip.open(zip_file_name,'rb') as com_file:\n",
    "        with open(file_name,'wb') as plain_file:\n",
    "            plain_file.writelines(com_file)"
   ]
  },
  {
   "cell_type": "code",
   "execution_count": 9,
   "metadata": {
    "collapsed": false
   },
   "outputs": [],
   "source": [
    "compress('test.txt','test.gzip')"
   ]
  },
  {
   "cell_type": "code",
   "execution_count": 11,
   "metadata": {
    "collapsed": false
   },
   "outputs": [],
   "source": [
    "compress('SHGRP.DWA_GRP_ACCT_INFO_YYYYMM.xml','SHGRP.DWA_GRP_ACCT_INFO_YYYYMM.gzip')"
   ]
  },
  {
   "cell_type": "code",
   "execution_count": 12,
   "metadata": {
    "collapsed": false
   },
   "outputs": [],
   "source": [
    "decompress('test.gzip','test.txt')"
   ]
  },
  {
   "cell_type": "code",
   "execution_count": 13,
   "metadata": {
    "collapsed": true
   },
   "outputs": [],
   "source": [
    "import os"
   ]
  },
  {
   "cell_type": "code",
   "execution_count": 14,
   "metadata": {
    "collapsed": true
   },
   "outputs": [],
   "source": [
    "os.remove('test.gzip')"
   ]
  },
  {
   "cell_type": "code",
   "execution_count": 19,
   "metadata": {
    "collapsed": true
   },
   "outputs": [],
   "source": [
    "test=b'this is a test, so I can write everything, haha...'"
   ]
  },
  {
   "cell_type": "code",
   "execution_count": 21,
   "metadata": {
    "collapsed": false
   },
   "outputs": [],
   "source": [
    "a=gzip.compress(test)"
   ]
  },
  {
   "cell_type": "code",
   "execution_count": 22,
   "metadata": {
    "collapsed": false
   },
   "outputs": [
    {
     "data": {
      "text/plain": [
       "b'this is a test, so I can write everything, haha...'"
      ]
     },
     "execution_count": 22,
     "metadata": {},
     "output_type": "execute_result"
    }
   ],
   "source": [
    "gzip.decompress(a)"
   ]
  },
  {
   "cell_type": "code",
   "execution_count": 2,
   "metadata": {
    "collapsed": true
   },
   "outputs": [],
   "source": [
    "import zipfile"
   ]
  },
  {
   "cell_type": "code",
   "execution_count": 33,
   "metadata": {
    "collapsed": false
   },
   "outputs": [],
   "source": [
    "def create_zipfile(zip_file_name,file_name):\n",
    "    with zipfile.ZipFile(zip_file_name,'w') as myzip:\n",
    "        myzip.write(file_name)\n",
    "def add_zipfile(zip_file_name,file_name):\n",
    "    with zipfile.ZipFile(zip_file_name,'a') as myzip:\n",
    "        myzip.write(file_name)\n",
    "def extract_file(zip_file_name,file_name):\n",
    "    with zipfile.ZipFile(zip_file_name,'r') as myzip:\n",
    "        myzip.extract(file_name)"
   ]
  },
  {
   "cell_type": "code",
   "execution_count": 28,
   "metadata": {
    "collapsed": false
   },
   "outputs": [],
   "source": [
    "create_zipfile('myzip.zip','test.txt')"
   ]
  },
  {
   "cell_type": "code",
   "execution_count": 29,
   "metadata": {
    "collapsed": true
   },
   "outputs": [],
   "source": [
    "add_zipfile('myzip.zip','README.md')"
   ]
  },
  {
   "cell_type": "code",
   "execution_count": 34,
   "metadata": {
    "collapsed": true
   },
   "outputs": [],
   "source": [
    "add_zipfile('myzip.zip','hot_shops.csv')"
   ]
  },
  {
   "cell_type": "code",
   "execution_count": 15,
   "metadata": {
    "collapsed": false
   },
   "outputs": [
    {
     "name": "stdout",
     "output_type": "stream",
     "text": [
      "16\n",
      "49\n"
     ]
    }
   ],
   "source": [
    "with zipfile.ZipFile('myzip.zip','r') as myzip:\n",
    "    for info in myzip.infolist():\n",
    "        print(info.file_size)"
   ]
  },
  {
   "cell_type": "code",
   "execution_count": 31,
   "metadata": {
    "collapsed": false
   },
   "outputs": [
    {
     "name": "stdout",
     "output_type": "stream",
     "text": [
      "['test.txt', 'README.md']\n"
     ]
    }
   ],
   "source": [
    "with zipfile.ZipFile('myzip.zip','r') as myzip:\n",
    "    print(myzip.namelist())"
   ]
  },
  {
   "cell_type": "code",
   "execution_count": 28,
   "metadata": {
    "collapsed": false
   },
   "outputs": [],
   "source": [
    "#9-22 lszip\n",
    "import zipfile,time,os\n",
    "def lszip(zip_file_name):\n",
    "    with zipfile.ZipFile(zip_file_name,'r') as myzip:\n",
    "        for info in myzip.infolist():\n",
    "            t=time.mktime(info.date_time+(0,0,0))\n",
    "            data=(info.filename,info.file_size,info.compress_size,info.compress_size/info.file_size,t)\n",
    "            print('file_name:%s, file_size:%s, compress_size:%s, compress_rate:%s, time:%s'%data)"
   ]
  },
  {
   "cell_type": "code",
   "execution_count": 35,
   "metadata": {
    "collapsed": false
   },
   "outputs": [
    {
     "name": "stdout",
     "output_type": "stream",
     "text": [
      "file_name:test.txt, file_size:16, compress_size:16, compress_rate:1.0, time:1481895592.0\n",
      "file_name:README.md, file_size:49, compress_size:49, compress_rate:1.0, time:1474641734.0\n",
      "file_name:hot_shops.csv, file_size:2403268, compress_size:2403268, compress_rate:1.0, time:1478177726.0\n"
     ]
    }
   ],
   "source": [
    "lszip('myzip.zip')"
   ]
  },
  {
   "cell_type": "code",
   "execution_count": 32,
   "metadata": {
    "collapsed": false
   },
   "outputs": [
    {
     "data": {
      "text/plain": [
       "os.stat_result(st_mode=33204, st_ino=6949786, st_dev=2049, st_nlink=1, st_uid=1000, st_gid=1000, st_size=49, st_atime=1481898237, st_mtime=1474641735, st_ctime=1474641735)"
      ]
     },
     "execution_count": 32,
     "metadata": {},
     "output_type": "execute_result"
    }
   ],
   "source": [
    "os.stat('README.md')"
   ]
  },
  {
   "cell_type": "code",
   "execution_count": 40,
   "metadata": {
    "collapsed": false
   },
   "outputs": [],
   "source": [
    "#9-23\n",
    "import tarfile\n",
    "def create_tarfile(tar_file_name,file_name):\n",
    "    with tarfile.open(tar_file_name,'w:gz')  as f:\n",
    "        f.add(file_name)\n",
    "def extract_tarfile(tar_file_file,file_name):\n",
    "    with tarfile.open(tar_file_name,'r:gz') as g:\n",
    "        g.extract(file_name)"
   ]
  },
  {
   "cell_type": "code",
   "execution_count": 41,
   "metadata": {
    "collapsed": true
   },
   "outputs": [],
   "source": [
    "create_tarfile('mytar.tar.gz','test.txt')"
   ]
  },
  {
   "cell_type": "code",
   "execution_count": 50,
   "metadata": {
    "collapsed": false
   },
   "outputs": [
    {
     "name": "stdout",
     "output_type": "stream",
     "text": [
      "README.md 49 b'0'\n"
     ]
    }
   ],
   "source": [
    "with tarfile.open('mytar.tar.gz','r:gz') as f:\n",
    "    for tarinfo in f:\n",
    "        print(tarinfo.name,tarinfo.size,tarinfo.type)"
   ]
  },
  {
   "cell_type": "code",
   "execution_count": 49,
   "metadata": {
    "collapsed": true
   },
   "outputs": [],
   "source": [
    "create_tarfile('mytar.tar.gz','README.md')"
   ]
  },
  {
   "cell_type": "code",
   "execution_count": 1,
   "metadata": {
    "collapsed": false
   },
   "outputs": [
    {
     "ename": "SyntaxError",
     "evalue": "invalid syntax (<ipython-input-1-2ea90a82aa6d>, line 1)",
     "output_type": "error",
     "traceback": [
      "\u001b[0;36m  File \u001b[0;32m\"<ipython-input-1-2ea90a82aa6d>\"\u001b[0;36m, line \u001b[0;32m1\u001b[0m\n\u001b[0;31m    if 3<4 then:\u001b[0m\n\u001b[0m              ^\u001b[0m\n\u001b[0;31mSyntaxError\u001b[0m\u001b[0;31m:\u001b[0m invalid syntax\n"
     ]
    }
   ],
   "source": [
    "if 3<4 then:\n",
    "    print('3 is less than 4')"
   ]
  },
  {
   "cell_type": "code",
   "execution_count": 2,
   "metadata": {
    "collapsed": false
   },
   "outputs": [],
   "source": [
    "import math"
   ]
  },
  {
   "cell_type": "code",
   "execution_count": 3,
   "metadata": {
    "collapsed": false
   },
   "outputs": [
    {
     "ename": "ValueError",
     "evalue": "math domain error",
     "output_type": "error",
     "traceback": [
      "\u001b[0;31m---------------------------------------------------------------------------\u001b[0m",
      "\u001b[0;31mValueError\u001b[0m                                Traceback (most recent call last)",
      "\u001b[0;32m<ipython-input-3-6221a5c62f34>\u001b[0m in \u001b[0;36m<module>\u001b[0;34m()\u001b[0m\n\u001b[0;32m----> 1\u001b[0;31m \u001b[0mi\u001b[0m\u001b[0;34m=\u001b[0m\u001b[0mmath\u001b[0m\u001b[0;34m.\u001b[0m\u001b[0msqrt\u001b[0m\u001b[0;34m(\u001b[0m\u001b[0;34m-\u001b[0m\u001b[0;36m1\u001b[0m\u001b[0;34m)\u001b[0m\u001b[0;34m\u001b[0m\u001b[0m\n\u001b[0m",
      "\u001b[0;31mValueError\u001b[0m: math domain error"
     ]
    }
   ],
   "source": [
    "i=math.sqrt(-1)"
   ]
  },
  {
   "cell_type": "code",
   "execution_count": 4,
   "metadata": {
    "collapsed": true
   },
   "outputs": [],
   "source": [
    "#10-6 改进版open()\n",
    "def new_open(file_name):\n",
    "    try:\n",
    "        f=new_open(file_name)\n",
    "    except Exception:\n",
    "        f=None\n",
    "    return f"
   ]
  },
  {
   "cell_type": "code",
   "execution_count": null,
   "metadata": {
    "collapsed": true
   },
   "outputs": [],
   "source": [
    "#10-8 input的改进版\n",
    "def safe_input(string):\n",
    "    try:\n",
    "        return string\n",
    "    except (EOFError,KeyboardInterrupt):\n",
    "        return None"
   ]
  },
  {
   "cell_type": "code",
   "execution_count": null,
   "metadata": {
    "collapsed": true
   },
   "outputs": [],
   "source": [
    "#10-9\n",
    "import math,cmath\n",
    "def safe_sqrt(num):\n",
    "    try:\n",
    "        return math.sqrt(num)\n",
    "    except ValueError:\n",
    "        return cmath.sqrt(num)"
   ]
  },
  {
   "cell_type": "code",
   "execution_count": 1,
   "metadata": {
    "collapsed": true
   },
   "outputs": [],
   "source": [
    "#11-3 b\n",
    "max2=lambda x,y:x if x>y else y\n",
    "min2=lambda x,y:x if x<y else y"
   ]
  },
  {
   "cell_type": "code",
   "execution_count": 2,
   "metadata": {
    "collapsed": false
   },
   "outputs": [
    {
     "data": {
      "text/plain": [
       "(8, 4)"
      ]
     },
     "execution_count": 2,
     "metadata": {},
     "output_type": "execute_result"
    }
   ],
   "source": [
    "max2(8,4),min2(8,4)"
   ]
  },
  {
   "cell_type": "code",
   "execution_count": 3,
   "metadata": {
    "collapsed": true
   },
   "outputs": [],
   "source": [
    "#11-3 b\n",
    "def my_max(*args):\n",
    "    retval=args[0]\n",
    "    for ele in args:\n",
    "        retval=max2(ele,reval)\n",
    "    return retval\n",
    "\n",
    "def my_min(*args):\n",
    "    retval=args[0]\n",
    "    for ele in args:\n",
    "        retval=min2(ele,retval)\n",
    "    return retval"
   ]
  },
  {
   "cell_type": "code",
   "execution_count": 4,
   "metadata": {
    "collapsed": true
   },
   "outputs": [],
   "source": [
    "#11-4\n",
    "def transtime(minutes):\n",
    "    h,m=divmod(minutes,60)\n",
    "    print('%d:%d'%(h,m))"
   ]
  },
  {
   "cell_type": "code",
   "execution_count": 5,
   "metadata": {
    "collapsed": false
   },
   "outputs": [
    {
     "name": "stdout",
     "output_type": "stream",
     "text": [
      "1:27\n"
     ]
    }
   ],
   "source": [
    "transtime(87)"
   ]
  },
  {
   "cell_type": "code",
   "execution_count": 6,
   "metadata": {
    "collapsed": true
   },
   "outputs": [],
   "source": [
    "#11-6\n",
    "def printf(format_,*var):\n",
    "    print(format_%var)"
   ]
  },
  {
   "cell_type": "code",
   "execution_count": 7,
   "metadata": {
    "collapsed": false
   },
   "outputs": [
    {
     "name": "stdout",
     "output_type": "stream",
     "text": [
      "0:0:0\n"
     ]
    }
   ],
   "source": [
    "printf('%s:%s:%s',0,0,0)"
   ]
  },
  {
   "cell_type": "code",
   "execution_count": 8,
   "metadata": {
    "collapsed": true
   },
   "outputs": [],
   "source": [
    "#11-7\n",
    "def my_func(seq1,seq2):\n",
    "    return map(lambda x,y:(x,y),seq1,seq2)"
   ]
  },
  {
   "cell_type": "code",
   "execution_count": 9,
   "metadata": {
    "collapsed": false
   },
   "outputs": [
    {
     "data": {
      "text/plain": [
       "[(1, 'abc'), (2, 'def'), (3, 'ghi')]"
      ]
     },
     "execution_count": 9,
     "metadata": {},
     "output_type": "execute_result"
    }
   ],
   "source": [
    "list(my_func([1,2,3],['abc','def','ghi']))"
   ]
  },
  {
   "cell_type": "code",
   "execution_count": 10,
   "metadata": {
    "collapsed": true
   },
   "outputs": [],
   "source": [
    "aa=lambda seq1,seq2:zip(seq1,seq2)"
   ]
  },
  {
   "cell_type": "code",
   "execution_count": 11,
   "metadata": {
    "collapsed": false
   },
   "outputs": [
    {
     "data": {
      "text/plain": [
       "[(1, 'abc'), (2, 'def'), (3, 'ghi')]"
      ]
     },
     "execution_count": 11,
     "metadata": {},
     "output_type": "execute_result"
    }
   ],
   "source": [
    "list(aa([1,2,3],['abc','def','ghi']))"
   ]
  },
  {
   "cell_type": "code",
   "execution_count": 12,
   "metadata": {
    "collapsed": true
   },
   "outputs": [],
   "source": [
    "#11-8\n",
    "def leap_year(year):\n",
    "    if not year%4 and not year%100:\n",
    "        return True\n",
    "    elif not year%4 and year%100:\n",
    "        return True\n",
    "    else:\n",
    "        return False\n",
    "bb=lambda x:filter(leap_year,x)"
   ]
  },
  {
   "cell_type": "code",
   "execution_count": 14,
   "metadata": {
    "collapsed": false
   },
   "outputs": [
    {
     "data": {
      "text/plain": [
       "[2004, 2008]"
      ]
     },
     "execution_count": 14,
     "metadata": {},
     "output_type": "execute_result"
    }
   ],
   "source": [
    "list(bb([2004,2005,2006,2007,2008,2010]))"
   ]
  },
  {
   "cell_type": "code",
   "execution_count": 15,
   "metadata": {
    "collapsed": true
   },
   "outputs": [],
   "source": [
    "from functools import reduce"
   ]
  },
  {
   "cell_type": "code",
   "execution_count": 20,
   "metadata": {
    "collapsed": true
   },
   "outputs": [],
   "source": [
    "#11-9\n",
    "def average(*seq):\n",
    "    result=[]\n",
    "    for items in seq:\n",
    "        result.append(reduce(lambda x,y:x+y,items)/len(items))\n",
    "    return result"
   ]
  },
  {
   "cell_type": "code",
   "execution_count": 17,
   "metadata": {
    "collapsed": true
   },
   "outputs": [],
   "source": [
    "a=[1,2,3,4,5,6]\n",
    "b=[2,34,45,6,67,67]"
   ]
  },
  {
   "cell_type": "code",
   "execution_count": 21,
   "metadata": {
    "collapsed": false
   },
   "outputs": [
    {
     "data": {
      "text/plain": [
       "[3.5, 36.833333333333336]"
      ]
     },
     "execution_count": 21,
     "metadata": {},
     "output_type": "execute_result"
    }
   ],
   "source": [
    "average(a,b)"
   ]
  },
  {
   "cell_type": "code",
   "execution_count": 23,
   "metadata": {
    "collapsed": false
   },
   "outputs": [],
   "source": [
    "#11-10\n",
    "import os\n",
    "files=filter(lambda x:x and x[0]!='.',os.listdir('.'))"
   ]
  },
  {
   "cell_type": "code",
   "execution_count": 28,
   "metadata": {
    "collapsed": false
   },
   "outputs": [],
   "source": [
    "#11-11\n",
    "def clean_file(file_name):\n",
    "    choice=input('Replace the file y/n ?')\n",
    "    if choice.lower()=='y':\n",
    "        out_file_name=file_name\n",
    "    else:\n",
    "        out_file_name='out_'+file_name\n",
    "    with open(file_name,'r') as f:\n",
    "        with open(out_file_name,'w') as g:\n",
    "            g.writelines(map(lambda x:x.strip(),f))    "
   ]
  },
  {
   "cell_type": "code",
   "execution_count": 30,
   "metadata": {
    "collapsed": false
   },
   "outputs": [
    {
     "name": "stdout",
     "output_type": "stream",
     "text": [
      "Replace the file y/n?n\n"
     ]
    }
   ],
   "source": [
    "clean_file('test.txt')"
   ]
  },
  {
   "cell_type": "code",
   "execution_count": 31,
   "metadata": {
    "collapsed": true
   },
   "outputs": [],
   "source": [
    "a='test\\n'"
   ]
  },
  {
   "cell_type": "code",
   "execution_count": 33,
   "metadata": {
    "collapsed": false
   },
   "outputs": [
    {
     "name": "stdout",
     "output_type": "stream",
     "text": [
      "test\n",
      "\n"
     ]
    }
   ],
   "source": [
    "print(a)"
   ]
  },
  {
   "cell_type": "code",
   "execution_count": 34,
   "metadata": {
    "collapsed": false
   },
   "outputs": [
    {
     "name": "stdout",
     "output_type": "stream",
     "text": [
      "test\n"
     ]
    }
   ],
   "source": [
    "print(a.strip())"
   ]
  },
  {
   "cell_type": "code",
   "execution_count": 39,
   "metadata": {
    "collapsed": true
   },
   "outputs": [],
   "source": [
    "#11-12\n",
    "import time\n",
    "def timeit(func,*nkwargs,**kwargs):\n",
    "    start_time=time.time()\n",
    "    retval=func(*nkwargs,**kwargs)\n",
    "    return (time.time()-start_time)"
   ]
  },
  {
   "cell_type": "code",
   "execution_count": 44,
   "metadata": {
    "collapsed": false
   },
   "outputs": [],
   "source": [
    "#11-13\n",
    "#(a)\n",
    "mult=lambda x,y:x*y\n",
    "#(b)\n",
    "def factorial1(n):\n",
    "    return reduce(mult,range(1,n+1))\n",
    "#(c)\n",
    "def factorial2(n):\n",
    "    return reduce(lambda x,y:x*y,range(1,n+1))\n",
    "#(d)\n",
    "def factorial3(n):\n",
    "    if n==0 or n==1:\n",
    "        return 1\n",
    "    else:\n",
    "        return n*factorial3(n-1)"
   ]
  },
  {
   "cell_type": "code",
   "execution_count": 46,
   "metadata": {
    "collapsed": false
   },
   "outputs": [
    {
     "data": {
      "text/plain": [
       "(3.337860107421875e-05, 2.7894973754882812e-05, 6.175041198730469e-05)"
      ]
     },
     "execution_count": 46,
     "metadata": {},
     "output_type": "execute_result"
    }
   ],
   "source": [
    "timeit(factorial1,100),timeit(factorial2,100),timeit(factorial3,100)"
   ]
  },
  {
   "cell_type": "code",
   "execution_count": 48,
   "metadata": {
    "collapsed": true
   },
   "outputs": [],
   "source": [
    "#11-14\n",
    "def fibonacci(n):\n",
    "    if n<=2:\n",
    "        return 1\n",
    "    else:\n",
    "        return fibonacci(n-1)+fibonacci(n-2)"
   ]
  },
  {
   "cell_type": "code",
   "execution_count": 49,
   "metadata": {
    "collapsed": true
   },
   "outputs": [],
   "source": [
    "import sys"
   ]
  },
  {
   "cell_type": "code",
   "execution_count": null,
   "metadata": {
    "collapsed": false
   },
   "outputs": [],
   "source": [
    "sys.modules  #返回一个包含模块信息的字典 "
   ]
  },
  {
   "cell_type": "code",
   "execution_count": 24,
   "metadata": {
    "collapsed": false
   },
   "outputs": [],
   "source": [
    "sys=__import__('sys')"
   ]
  },
  {
   "cell_type": "code",
   "execution_count": 26,
   "metadata": {
    "collapsed": false,
    "scrolled": true
   },
   "outputs": [],
   "source": [
    "functools=__import__('functools',fromlist=['reduce'])\n",
    "reduce=functools.reduce"
   ]
  },
  {
   "cell_type": "code",
   "execution_count": 27,
   "metadata": {
    "collapsed": false
   },
   "outputs": [
    {
     "data": {
      "text/plain": [
       "10"
      ]
     },
     "execution_count": 27,
     "metadata": {},
     "output_type": "execute_result"
    }
   ],
   "source": [
    "reduce(lambda x,y:x+y,[1,2,3,4])"
   ]
  },
  {
   "cell_type": "code",
   "execution_count": 32,
   "metadata": {
    "collapsed": false
   },
   "outputs": [],
   "source": [
    "#12-6\n",
    "def importAS(module):\n",
    "    return __import__(module)"
   ]
  },
  {
   "cell_type": "code",
   "execution_count": 33,
   "metadata": {
    "collapsed": false
   },
   "outputs": [],
   "source": [
    "os=importAS('os')"
   ]
  },
  {
   "cell_type": "code",
   "execution_count": null,
   "metadata": {
    "collapsed": true
   },
   "outputs": [],
   "source": []
  }
 ],
 "metadata": {
  "kernelspec": {
   "display_name": "Python 3",
   "language": "python",
   "name": "python3"
  },
  "language_info": {
   "codemirror_mode": {
    "name": "ipython",
    "version": 3
   },
   "file_extension": ".py",
   "mimetype": "text/x-python",
   "name": "python",
   "nbconvert_exporter": "python",
   "pygments_lexer": "ipython3",
   "version": "3.5.2"
  }
 },
 "nbformat": 4,
 "nbformat_minor": 1
}
