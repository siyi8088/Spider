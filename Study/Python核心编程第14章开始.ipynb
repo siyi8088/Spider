{
 "cells": [
  {
   "cell_type": "code",
   "execution_count": 4,
   "metadata": {
    "collapsed": false
   },
   "outputs": [
    {
     "data": {
      "text/plain": [
       "'builtins'"
      ]
     },
     "execution_count": 4,
     "metadata": {},
     "output_type": "execute_result"
    }
   ],
   "source": [
    "dict.__module__"
   ]
  },
  {
   "cell_type": "code",
   "execution_count": 5,
   "metadata": {
    "collapsed": false
   },
   "outputs": [
    {
     "data": {
      "text/plain": [
       "builtin_function_or_method"
      ]
     },
     "execution_count": 5,
     "metadata": {},
     "output_type": "execute_result"
    }
   ],
   "source": [
    "type(dir)"
   ]
  },
  {
   "cell_type": "code",
   "execution_count": 6,
   "metadata": {
    "collapsed": false
   },
   "outputs": [
    {
     "data": {
      "text/plain": [
       "type"
      ]
     },
     "execution_count": 6,
     "metadata": {},
     "output_type": "execute_result"
    }
   ],
   "source": [
    "type(int)"
   ]
  },
  {
   "cell_type": "code",
   "execution_count": 7,
   "metadata": {
    "collapsed": false
   },
   "outputs": [
    {
     "data": {
      "text/plain": [
       "function"
      ]
     },
     "execution_count": 7,
     "metadata": {},
     "output_type": "execute_result"
    }
   ],
   "source": [
    "type(lambda :1)"
   ]
  },
  {
   "cell_type": "code",
   "execution_count": 8,
   "metadata": {
    "collapsed": true
   },
   "outputs": [],
   "source": [
    "def foo():\n",
    "    pass"
   ]
  },
  {
   "cell_type": "code",
   "execution_count": 9,
   "metadata": {
    "collapsed": false
   },
   "outputs": [
    {
     "data": {
      "text/plain": [
       "function"
      ]
     },
     "execution_count": 9,
     "metadata": {},
     "output_type": "execute_result"
    }
   ],
   "source": [
    "type(foo)"
   ]
  },
  {
   "cell_type": "code",
   "execution_count": 10,
   "metadata": {
    "collapsed": true
   },
   "outputs": [],
   "source": [
    "a=lambda:1"
   ]
  },
  {
   "cell_type": "code",
   "execution_count": 11,
   "metadata": {
    "collapsed": false
   },
   "outputs": [
    {
     "data": {
      "text/plain": [
       "'<lambda>'"
      ]
     },
     "execution_count": 11,
     "metadata": {},
     "output_type": "execute_result"
    }
   ],
   "source": [
    "a.__name__"
   ]
  },
  {
   "cell_type": "code",
   "execution_count": 13,
   "metadata": {
    "collapsed": false
   },
   "outputs": [
    {
     "data": {
      "text/plain": [
       "'foo'"
      ]
     },
     "execution_count": 13,
     "metadata": {},
     "output_type": "execute_result"
    }
   ],
   "source": [
    "foo.__name__"
   ]
  },
  {
   "cell_type": "code",
   "execution_count": 14,
   "metadata": {
    "collapsed": true
   },
   "outputs": [],
   "source": [
    "class C(object):\n",
    "    def foo(self):\n",
    "        pass"
   ]
  },
  {
   "cell_type": "code",
   "execution_count": 15,
   "metadata": {
    "collapsed": true
   },
   "outputs": [],
   "source": [
    "c=C()"
   ]
  },
  {
   "cell_type": "code",
   "execution_count": 16,
   "metadata": {
    "collapsed": false
   },
   "outputs": [
    {
     "data": {
      "text/plain": [
       "type"
      ]
     },
     "execution_count": 16,
     "metadata": {},
     "output_type": "execute_result"
    }
   ],
   "source": [
    "type(C)"
   ]
  },
  {
   "cell_type": "code",
   "execution_count": 17,
   "metadata": {
    "collapsed": false
   },
   "outputs": [
    {
     "data": {
      "text/plain": [
       "__main__.C"
      ]
     },
     "execution_count": 17,
     "metadata": {},
     "output_type": "execute_result"
    }
   ],
   "source": [
    "type(c)"
   ]
  },
  {
   "cell_type": "code",
   "execution_count": 18,
   "metadata": {
    "collapsed": false
   },
   "outputs": [
    {
     "data": {
      "text/plain": [
       "function"
      ]
     },
     "execution_count": 18,
     "metadata": {},
     "output_type": "execute_result"
    }
   ],
   "source": [
    "type(C.foo)"
   ]
  },
  {
   "cell_type": "code",
   "execution_count": 19,
   "metadata": {
    "collapsed": false
   },
   "outputs": [
    {
     "data": {
      "text/plain": [
       "method"
      ]
     },
     "execution_count": 19,
     "metadata": {},
     "output_type": "execute_result"
    }
   ],
   "source": [
    "type(c.foo)"
   ]
  },
  {
   "cell_type": "code",
   "execution_count": 20,
   "metadata": {
    "collapsed": false
   },
   "outputs": [
    {
     "data": {
      "text/plain": [
       "<function __main__.C.foo>"
      ]
     },
     "execution_count": 20,
     "metadata": {},
     "output_type": "execute_result"
    }
   ],
   "source": [
    "C.foo"
   ]
  },
  {
   "cell_type": "code",
   "execution_count": 21,
   "metadata": {
    "collapsed": false
   },
   "outputs": [
    {
     "data": {
      "text/plain": [
       "<bound method C.foo of <__main__.C object at 0x7f955020b748>>"
      ]
     },
     "execution_count": 21,
     "metadata": {},
     "output_type": "execute_result"
    }
   ],
   "source": [
    "c.foo"
   ]
  },
  {
   "cell_type": "code",
   "execution_count": 22,
   "metadata": {
    "collapsed": false
   },
   "outputs": [
    {
     "data": {
      "text/plain": [
       "<__main__.C at 0x7f955020b748>"
      ]
     },
     "execution_count": 22,
     "metadata": {},
     "output_type": "execute_result"
    }
   ],
   "source": [
    "c"
   ]
  },
  {
   "cell_type": "code",
   "execution_count": 34,
   "metadata": {
    "collapsed": false
   },
   "outputs": [
    {
     "data": {
      "text/plain": [
       "['__class__',\n",
       " '__delattr__',\n",
       " '__dict__',\n",
       " '__dir__',\n",
       " '__doc__',\n",
       " '__eq__',\n",
       " '__format__',\n",
       " '__ge__',\n",
       " '__getattribute__',\n",
       " '__gt__',\n",
       " '__hash__',\n",
       " '__init__',\n",
       " '__le__',\n",
       " '__lt__',\n",
       " '__module__',\n",
       " '__ne__',\n",
       " '__new__',\n",
       " '__reduce__',\n",
       " '__reduce_ex__',\n",
       " '__repr__',\n",
       " '__setattr__',\n",
       " '__sizeof__',\n",
       " '__str__',\n",
       " '__subclasshook__',\n",
       " '__weakref__',\n",
       " 'foo']"
      ]
     },
     "execution_count": 34,
     "metadata": {},
     "output_type": "execute_result"
    }
   ],
   "source": [
    "dir(C)"
   ]
  },
  {
   "cell_type": "code",
   "execution_count": 33,
   "metadata": {
    "collapsed": false
   },
   "outputs": [
    {
     "data": {
      "text/plain": [
       "mappingproxy({'__dict__': <attribute '__dict__' of 'C' objects>,\n",
       "              '__doc__': None,\n",
       "              '__module__': '__main__',\n",
       "              '__weakref__': <attribute '__weakref__' of 'C' objects>,\n",
       "              'foo': <function __main__.C.foo>})"
      ]
     },
     "execution_count": 33,
     "metadata": {},
     "output_type": "execute_result"
    }
   ],
   "source": [
    "C.__dict__"
   ]
  },
  {
   "cell_type": "code",
   "execution_count": 35,
   "metadata": {
    "collapsed": true
   },
   "outputs": [],
   "source": [
    "class C(object):\n",
    "    def __call__(self,*args):\n",
    "        print('I am callable! Called with args:',args)"
   ]
  },
  {
   "cell_type": "code",
   "execution_count": 36,
   "metadata": {
    "collapsed": true
   },
   "outputs": [],
   "source": [
    "c=C()"
   ]
  },
  {
   "cell_type": "code",
   "execution_count": 37,
   "metadata": {
    "collapsed": false
   },
   "outputs": [
    {
     "data": {
      "text/plain": [
       "<__main__.C at 0x7f9550195be0>"
      ]
     },
     "execution_count": 37,
     "metadata": {},
     "output_type": "execute_result"
    }
   ],
   "source": [
    "c"
   ]
  },
  {
   "cell_type": "code",
   "execution_count": 38,
   "metadata": {
    "collapsed": false
   },
   "outputs": [
    {
     "data": {
      "text/plain": [
       "True"
      ]
     },
     "execution_count": 38,
     "metadata": {},
     "output_type": "execute_result"
    }
   ],
   "source": [
    "callable(c)"
   ]
  },
  {
   "cell_type": "code",
   "execution_count": 39,
   "metadata": {
    "collapsed": false
   },
   "outputs": [
    {
     "name": "stdout",
     "output_type": "stream",
     "text": [
      "I am callable! Called with args: ()\n"
     ]
    }
   ],
   "source": [
    "c()"
   ]
  },
  {
   "cell_type": "code",
   "execution_count": 40,
   "metadata": {
    "collapsed": false
   },
   "outputs": [
    {
     "name": "stdout",
     "output_type": "stream",
     "text": [
      "I am callable! Called with args: (3,)\n"
     ]
    }
   ],
   "source": [
    "c(3)"
   ]
  },
  {
   "cell_type": "code",
   "execution_count": 1,
   "metadata": {
    "collapsed": false
   },
   "outputs": [
    {
     "data": {
      "text/plain": [
       "True"
      ]
     },
     "execution_count": 1,
     "metadata": {},
     "output_type": "execute_result"
    }
   ],
   "source": [
    "callable(dir)"
   ]
  },
  {
   "cell_type": "code",
   "execution_count": 2,
   "metadata": {
    "collapsed": false
   },
   "outputs": [
    {
     "data": {
      "text/plain": [
       "False"
      ]
     },
     "execution_count": 2,
     "metadata": {},
     "output_type": "execute_result"
    }
   ],
   "source": [
    "callable(1)"
   ]
  },
  {
   "cell_type": "code",
   "execution_count": 3,
   "metadata": {
    "collapsed": false
   },
   "outputs": [
    {
     "data": {
      "text/plain": [
       "300"
      ]
     },
     "execution_count": 3,
     "metadata": {},
     "output_type": "execute_result"
    }
   ],
   "source": [
    "eval('100+200')"
   ]
  },
  {
   "cell_type": "code",
   "execution_count": 4,
   "metadata": {
    "collapsed": true
   },
   "outputs": [],
   "source": [
    "eval_code=compile('100+200','','eval')"
   ]
  },
  {
   "cell_type": "code",
   "execution_count": 5,
   "metadata": {
    "collapsed": false
   },
   "outputs": [
    {
     "data": {
      "text/plain": [
       "300"
      ]
     },
     "execution_count": 5,
     "metadata": {},
     "output_type": "execute_result"
    }
   ],
   "source": [
    "eval(eval_code)"
   ]
  },
  {
   "cell_type": "code",
   "execution_count": 7,
   "metadata": {
    "collapsed": false
   },
   "outputs": [],
   "source": [
    "single_code=compile('print(\"hello world!\")','','single')"
   ]
  },
  {
   "cell_type": "code",
   "execution_count": 8,
   "metadata": {
    "collapsed": false
   },
   "outputs": [
    {
     "data": {
      "text/plain": [
       "<code object <module> at 0x7f2d2c6388a0, file \"\", line 1>"
      ]
     },
     "execution_count": 8,
     "metadata": {},
     "output_type": "execute_result"
    }
   ],
   "source": [
    "single_code"
   ]
  },
  {
   "cell_type": "code",
   "execution_count": 10,
   "metadata": {
    "collapsed": false
   },
   "outputs": [
    {
     "name": "stdout",
     "output_type": "stream",
     "text": [
      "hello world!\n"
     ]
    }
   ],
   "source": [
    "exec(single_code)"
   ]
  },
  {
   "cell_type": "code",
   "execution_count": 17,
   "metadata": {
    "collapsed": false
   },
   "outputs": [],
   "source": [
    "exec_code=compile('''req=input(\"Count how many numbers?\") \n",
    "for eachnum in range(int(req)):print(eachnum)''','','exec')"
   ]
  },
  {
   "cell_type": "code",
   "execution_count": 18,
   "metadata": {
    "collapsed": false
   },
   "outputs": [
    {
     "name": "stdout",
     "output_type": "stream",
     "text": [
      "Count how many numbers?6\n",
      "0\n",
      "1\n",
      "2\n",
      "3\n",
      "4\n",
      "5\n"
     ]
    }
   ],
   "source": [
    "exec(exec_code)"
   ]
  },
  {
   "cell_type": "code",
   "execution_count": 41,
   "metadata": {
    "collapsed": true
   },
   "outputs": [],
   "source": [
    "#loopmake.py\n",
    "dashes='\\n'+'-'*50\n",
    "exec_dict={\n",
    "    'f':'''for %s in %s:\n",
    "    print(%s)''',\n",
    "    's':'''%s=0\n",
    "%s=%s\n",
    "while %s<len(%s):\n",
    "    print(%s[%s])\n",
    "    %s=%s+1''',\n",
    "    'n':'''%s=%d\n",
    "while %s<%d:\n",
    "    print(%s)\n",
    "    %s=%s+%d'''}\n",
    "def main():\n",
    "    ltype=input('Loop types? (For/While)')\n",
    "    dtype=input('Data type? (Number/Seq)')\n",
    "    if dtype=='n':\n",
    "        start=int(input('Starting value?'))\n",
    "        stop=int(input('Ending value (non-inclusive)?'))\n",
    "        step=int(input('Stepping value?'))\n",
    "        seq=str(range(start,stop,step))\n",
    "    else:\n",
    "        seq=input('Enter sequence:')\n",
    "    var=input('Iterative variable name?')\n",
    "    if ltype=='f':\n",
    "        exec_str=exec_dict['f']%(var,seq,var)\n",
    "    elif ltype=='w':\n",
    "        if dtype=='s':\n",
    "            svar=input('Enter sequence name?')\n",
    "            exec_str=exec_dict['s']%(var,svar,seq,var,svar,svar,var,var,var)\n",
    "        elif dtype=='n':\n",
    "            exec_str=exec_dict['n']%(var,start,var,stop,var,var,var,step)\n",
    "    print(dashes)\n",
    "    print('Your custom-generated code:'+dashes)\n",
    "    print(exec_str+dashes)\n",
    "    print('Test execution of the code:'+dashes)\n",
    "    exec(exec_str)\n",
    "    print(dashes)"
   ]
  },
  {
   "cell_type": "code",
   "execution_count": 28,
   "metadata": {
    "collapsed": false
   },
   "outputs": [
    {
     "name": "stdout",
     "output_type": "stream",
     "text": [
      "Loop types? (For/While)f\n",
      "Data type? (Number/Seq)n\n",
      "Starting value?0\n",
      "Ending value (non-inclusive)?4\n",
      "Stepping value?1\n",
      "Iterative variable name?counter\n",
      "\n",
      "--------------------------------------------------\n",
      "Your custom-generated code:\n",
      "--------------------------------------------------\n",
      "for counter in range(0, 4):\n",
      "    print(counter)\n",
      "--------------------------------------------------\n",
      "Test execution of the code:\n",
      "--------------------------------------------------\n",
      "0\n",
      "1\n",
      "2\n",
      "3\n",
      "\n",
      "--------------------------------------------------\n"
     ]
    }
   ],
   "source": [
    "main()"
   ]
  },
  {
   "cell_type": "code",
   "execution_count": 36,
   "metadata": {
    "collapsed": false
   },
   "outputs": [
    {
     "name": "stdout",
     "output_type": "stream",
     "text": [
      "Loop types? (For/While)w\n",
      "Data type? (Number/Seq)n\n",
      "Starting value?0\n",
      "Ending value (non-inclusive)?4\n",
      "Stepping value?1\n",
      "Iterative variable name?counter\n",
      "\n",
      "--------------------------------------------------\n",
      "Your custom-generated code:\n",
      "--------------------------------------------------\n",
      "counter=0\n",
      "while counter<4:\n",
      "    print(counter)\n",
      "    counter=counter+1\n",
      "--------------------------------------------------\n",
      "Test execution of the code:\n",
      "--------------------------------------------------\n",
      "0\n",
      "1\n",
      "2\n",
      "3\n",
      "\n",
      "--------------------------------------------------\n"
     ]
    }
   ],
   "source": [
    "main()"
   ]
  },
  {
   "cell_type": "code",
   "execution_count": 37,
   "metadata": {
    "collapsed": false
   },
   "outputs": [
    {
     "name": "stdout",
     "output_type": "stream",
     "text": [
      "Loop types? (For/While)f\n",
      "Data type? (Number/Seq)s\n",
      "Enter sequence:[932,'grail',3.0,'arrrghhh']\n",
      "Iterative variable name?eachItem\n",
      "\n",
      "--------------------------------------------------\n",
      "Your custom-generated code:\n",
      "--------------------------------------------------\n",
      "for eachItem in [932,'grail',3.0,'arrrghhh']:\n",
      "    print(eachItem)\n",
      "--------------------------------------------------\n",
      "Test execution of the code:\n",
      "--------------------------------------------------\n",
      "932\n",
      "grail\n",
      "3.0\n",
      "arrrghhh\n",
      "\n",
      "--------------------------------------------------\n"
     ]
    }
   ],
   "source": [
    "main()"
   ]
  },
  {
   "cell_type": "code",
   "execution_count": 42,
   "metadata": {
    "collapsed": false
   },
   "outputs": [
    {
     "name": "stdout",
     "output_type": "stream",
     "text": [
      "Loop types? (For/While)w\n",
      "Data type? (Number/Seq)s\n",
      "Enter sequence:[932,'grail',3.0,'arrrghhh']\n",
      "Iterative variable name?eachIndex\n",
      "Enter sequence name?myList\n",
      "\n",
      "--------------------------------------------------\n",
      "Your custom-generated code:\n",
      "--------------------------------------------------\n",
      "eachIndex=0\n",
      "myList=[932,'grail',3.0,'arrrghhh']\n",
      "while eachIndex<len(myList):\n",
      "    print(myList[eachIndex])\n",
      "    eachIndex=eachIndex+1\n",
      "--------------------------------------------------\n",
      "Test execution of the code:\n",
      "--------------------------------------------------\n",
      "932\n",
      "grail\n",
      "3.0\n",
      "arrrghhh\n",
      "\n",
      "--------------------------------------------------\n"
     ]
    }
   ],
   "source": [
    "main()"
   ]
  },
  {
   "cell_type": "code",
   "execution_count": 45,
   "metadata": {
    "collapsed": false
   },
   "outputs": [
    {
     "name": "stdout",
     "output_type": "stream",
     "text": [
      "\"In\" is not a function\n",
      "\"Out\" is not a function\n",
      "\"_\" is not a function\n",
      "\"_1\" is not a function\n",
      "\"_2\" is not a function\n",
      "\"_3\" is not a function\n",
      "\"_5\" is not a function\n",
      "\"_8\" is not a function\n",
      "\"__\" is not a function\n",
      "\"___\" is not a function\n",
      "\"__builtin__\" is not a function\n",
      "\"__builtins__\" is not a function\n",
      "\"__doc__\" is not a function\n",
      "\"__loader__\" is not a function\n",
      "\"__name__\" is not a function\n",
      "\"__package__\" is not a function\n",
      "\"__spec__\" is not a function\n",
      "\"_dh\" is not a function\n",
      "\"_i\" is not a function\n",
      "\"_i1\" is not a function\n",
      "\"_i10\" is not a function\n",
      "\"_i11\" is not a function\n",
      "\"_i12\" is not a function\n",
      "\"_i13\" is not a function\n",
      "\"_i14\" is not a function\n",
      "\"_i15\" is not a function\n",
      "\"_i16\" is not a function\n",
      "\"_i17\" is not a function\n",
      "\"_i18\" is not a function\n",
      "\"_i19\" is not a function\n",
      "\"_i2\" is not a function\n",
      "\"_i20\" is not a function\n",
      "\"_i21\" is not a function\n",
      "\"_i22\" is not a function\n",
      "\"_i23\" is not a function\n",
      "\"_i24\" is not a function\n",
      "\"_i25\" is not a function\n",
      "\"_i26\" is not a function\n",
      "\"_i27\" is not a function\n",
      "\"_i28\" is not a function\n",
      "\"_i29\" is not a function\n",
      "\"_i3\" is not a function\n",
      "\"_i30\" is not a function\n",
      "\"_i31\" is not a function\n",
      "\"_i32\" is not a function\n",
      "\"_i33\" is not a function\n",
      "\"_i34\" is not a function\n",
      "\"_i35\" is not a function\n",
      "\"_i36\" is not a function\n",
      "\"_i37\" is not a function\n",
      "\"_i38\" is not a function\n",
      "\"_i39\" is not a function\n",
      "\"_i4\" is not a function\n",
      "\"_i40\" is not a function\n",
      "\"_i41\" is not a function\n",
      "\"_i42\" is not a function\n",
      "\"_i43\" is not a function\n",
      "\"_i44\" is not a function\n",
      "\"_i45\" is not a function\n",
      "\"_i5\" is not a function\n",
      "\"_i6\" is not a function\n",
      "\"_i7\" is not a function\n",
      "\"_i8\" is not a function\n",
      "\"_i9\" is not a function\n",
      "\"_ih\" is not a function\n",
      "\"_ii\" is not a function\n",
      "\"_iii\" is not a function\n",
      "\"_oh\" is not a function\n",
      "\"_sh\" is not a function\n",
      "\n",
      "Function \"bar\" has a doc string: \n",
      "\tbar() does not do much\n",
      "Function \"bar\" has no tester...skipping\n",
      "\"dashes\" is not a function\n",
      "\"eachAttr\" is not a function\n",
      "\"eachnum\" is not a function\n",
      "\"eval_code\" is not a function\n",
      "\"exec_code\" is not a function\n",
      "\"exec_dict\" is not a function\n",
      "\"exit\" is not a function\n",
      "\n",
      "Function \"foo\" has a doc string: \n",
      "\tfoo() does not do much\n",
      "Function \"foo\" has a tester...executing \n",
      "PASSED\n",
      "\"get_ipython\" is not a function\n",
      "\n",
      "Function \"main\" has a doc string: \n",
      "\tNone\n",
      "Function \"main\" has no tester...skipping\n",
      "\n",
      "Function \"obj\" has a doc string: \n",
      "\tNone\n",
      "Function \"obj\" has no tester...skipping\n",
      "\"quit\" is not a function\n",
      "\"req\" is not a function\n",
      "\"single_code\" is not a function\n"
     ]
    }
   ],
   "source": [
    "#funAttrs.py\n",
    "def foo():\n",
    "    return True\n",
    "def bar():\n",
    "    'bar() does not do much'\n",
    "    return True\n",
    "foo.__doc__='foo() does not do much'\n",
    "foo.tester='''\n",
    "if foo():\n",
    "    print('PASSED')\n",
    "else:\n",
    "    print('FAILED')'''\n",
    "for eachAttr in dir():\n",
    "    obj=eval(eachAttr)\n",
    "    if isinstance(obj,type(foo)):\n",
    "        if hasattr(obj,'__doc__'):\n",
    "            print('\\nFunction \"%s\" has a doc string: \\n\\t%s'%(eachAttr,obj.__doc__))\n",
    "        if hasattr(obj,'tester'):\n",
    "            print('Function \"%s\" has a tester...executing '%eachAttr)\n",
    "            exec(obj.tester)\n",
    "        else:\n",
    "            print('Function \"%s\" has no tester...skipping'%eachAttr)\n",
    "    else:\n",
    "        print('\"%s\" is not a function'%eachAttr)"
   ]
  },
  {
   "cell_type": "code",
   "execution_count": 46,
   "metadata": {
    "collapsed": true
   },
   "outputs": [],
   "source": [
    "f=open('test2.txt','w')\n",
    "f.write('print(\"Hello world!\")')\n",
    "f.close()"
   ]
  },
  {
   "cell_type": "code",
   "execution_count": 51,
   "metadata": {
    "collapsed": false
   },
   "outputs": [
    {
     "name": "stdout",
     "output_type": "stream",
     "text": [
      "Hello world!\n"
     ]
    }
   ],
   "source": [
    "f=open('test2.txt','r')\n",
    "exec(f.read())"
   ]
  },
  {
   "cell_type": "code",
   "execution_count": 52,
   "metadata": {
    "collapsed": true
   },
   "outputs": [],
   "source": [
    "f.close()"
   ]
  },
  {
   "cell_type": "code",
   "execution_count": 53,
   "metadata": {
    "collapsed": true
   },
   "outputs": [],
   "source": [
    "import os"
   ]
  },
  {
   "cell_type": "code",
   "execution_count": 55,
   "metadata": {
    "collapsed": false
   },
   "outputs": [],
   "source": [
    "a=os.system('uname -a')"
   ]
  },
  {
   "cell_type": "code",
   "execution_count": 56,
   "metadata": {
    "collapsed": false
   },
   "outputs": [
    {
     "data": {
      "text/plain": [
       "0"
      ]
     },
     "execution_count": 56,
     "metadata": {},
     "output_type": "execute_result"
    }
   ],
   "source": [
    "a"
   ]
  },
  {
   "cell_type": "code",
   "execution_count": 57,
   "metadata": {
    "collapsed": true
   },
   "outputs": [],
   "source": [
    "f=os.popen('uname -a')"
   ]
  },
  {
   "cell_type": "code",
   "execution_count": 58,
   "metadata": {
    "collapsed": true
   },
   "outputs": [],
   "source": [
    "data=f.readline()"
   ]
  },
  {
   "cell_type": "code",
   "execution_count": 59,
   "metadata": {
    "collapsed": true
   },
   "outputs": [],
   "source": [
    "f.close()"
   ]
  },
  {
   "cell_type": "code",
   "execution_count": 60,
   "metadata": {
    "collapsed": false
   },
   "outputs": [
    {
     "name": "stdout",
     "output_type": "stream",
     "text": [
      "Linux linux 4.4.0-58-generic #79-Ubuntu SMP Tue Dec 20 12:12:35 UTC 2016 x86_64 x86_64 x86_64 GNU/Linux\n",
      "\n"
     ]
    }
   ],
   "source": [
    "print(data)"
   ]
  },
  {
   "cell_type": "code",
   "execution_count": 62,
   "metadata": {
    "collapsed": false
   },
   "outputs": [
    {
     "name": "stdout",
     "output_type": "stream",
     "text": [
      "Help on function popen in module os:\n",
      "\n",
      "popen(cmd, mode='r', buffering=-1)\n",
      "    # Supply os.popen()\n",
      "\n"
     ]
    }
   ],
   "source": [
    "help(os.popen)"
   ]
  },
  {
   "cell_type": "code",
   "execution_count": 67,
   "metadata": {
    "collapsed": false
   },
   "outputs": [
    {
     "name": "stdout",
     "output_type": "stream",
     "text": [
      "Children processing...\n",
      "Parent processing...\n"
     ]
    },
    {
     "ename": "KeyboardInterrupt",
     "evalue": "",
     "output_type": "error",
     "traceback": [
      "\u001b[0;31m---------------------------------------------------------------------------\u001b[0m",
      "\u001b[0;31mKeyboardInterrupt\u001b[0m                         Traceback (most recent call last)",
      "\u001b[0;32m<ipython-input-67-ccf1f8236b0e>\u001b[0m in \u001b[0;36m<module>\u001b[0;34m()\u001b[0m\n\u001b[1;32m      5\u001b[0m \u001b[0;32melse\u001b[0m\u001b[0;34m:\u001b[0m\u001b[0;34m\u001b[0m\u001b[0m\n\u001b[1;32m      6\u001b[0m     \u001b[0mprint\u001b[0m\u001b[0;34m(\u001b[0m\u001b[0;34m'Parent processing...'\u001b[0m\u001b[0;34m)\u001b[0m\u001b[0;34m\u001b[0m\u001b[0m\n\u001b[0;32m----> 7\u001b[0;31m     \u001b[0mos\u001b[0m\u001b[0;34m.\u001b[0m\u001b[0mwait\u001b[0m\u001b[0;34m(\u001b[0m\u001b[0;34m)\u001b[0m\u001b[0;34m\u001b[0m\u001b[0m\n\u001b[0m",
      "\u001b[0;31mKeyboardInterrupt\u001b[0m: "
     ]
    }
   ],
   "source": [
    "#进程\n",
    "ret=os.fork()  #产生2个进程\n",
    "if ret==0:\n",
    "    print('Children processing...')\n",
    "else:\n",
    "    print('Parent processing...')\n",
    "    os.wait()"
   ]
  },
  {
   "cell_type": "code",
   "execution_count": 1,
   "metadata": {
    "collapsed": false
   },
   "outputs": [],
   "source": [
    "a='print(\"hello world\")'"
   ]
  },
  {
   "cell_type": "code",
   "execution_count": 2,
   "metadata": {
    "collapsed": false
   },
   "outputs": [
    {
     "name": "stdout",
     "output_type": "stream",
     "text": [
      "hello world\n"
     ]
    }
   ],
   "source": [
    "exec(a)"
   ]
  },
  {
   "cell_type": "code",
   "execution_count": 3,
   "metadata": {
    "collapsed": false
   },
   "outputs": [
    {
     "name": "stdout",
     "output_type": "stream",
     "text": [
      "hello world\n"
     ]
    }
   ],
   "source": [
    "eval(a)"
   ]
  },
  {
   "cell_type": "code",
   "execution_count": 4,
   "metadata": {
    "collapsed": true
   },
   "outputs": [],
   "source": [
    "import os"
   ]
  },
  {
   "cell_type": "code",
   "execution_count": 5,
   "metadata": {
    "collapsed": false
   },
   "outputs": [
    {
     "data": {
      "text/plain": [
       "0"
      ]
     },
     "execution_count": 5,
     "metadata": {},
     "output_type": "execute_result"
    }
   ],
   "source": [
    "os.system('cat test.txt')"
   ]
  },
  {
   "cell_type": "code",
   "execution_count": 6,
   "metadata": {
    "collapsed": true
   },
   "outputs": [],
   "source": [
    "import subprocess"
   ]
  },
  {
   "cell_type": "code",
   "execution_count": 16,
   "metadata": {
    "collapsed": false
   },
   "outputs": [
    {
     "data": {
      "text/plain": [
       "0"
      ]
     },
     "execution_count": 16,
     "metadata": {},
     "output_type": "execute_result"
    }
   ],
   "source": [
    "subprocess.call(('cat','test.txt'))"
   ]
  },
  {
   "cell_type": "code",
   "execution_count": 14,
   "metadata": {
    "collapsed": false
   },
   "outputs": [],
   "source": [
    "#gendata,py\n",
    "from random import randint,choice\n",
    "from time import ctime\n",
    "from string import ascii_lowercase\n",
    "doms=('com','edu','net','org','gov')\n",
    "redata=[]\n",
    "for i in range(randint(5,10)):\n",
    "    dtint=randint(1400000000,1483703417)\n",
    "    dtstr=ctime(dtint)\n",
    "    shorter=randint(4,7)\n",
    "    em=''\n",
    "    for j in range(shorter):\n",
    "        em+=choice(ascii_lowercase)\n",
    "    longer=randint(shorter,12)\n",
    "    dn=''\n",
    "    for j in range(longer):\n",
    "        dn+=choice(ascii_lowercase)\n",
    "    redata.append('%s::%s@%s.%s::%d-%d-%d'%(dtstr,em,dn,choice(doms),dtint,shorter,longer))"
   ]
  },
  {
   "cell_type": "code",
   "execution_count": 16,
   "metadata": {
    "collapsed": false
   },
   "outputs": [],
   "source": [
    "data=redata[2]"
   ]
  },
  {
   "cell_type": "code",
   "execution_count": 17,
   "metadata": {
    "collapsed": false
   },
   "outputs": [],
   "source": [
    "import re"
   ]
  },
  {
   "cell_type": "code",
   "execution_count": 18,
   "metadata": {
    "collapsed": false
   },
   "outputs": [
    {
     "data": {
      "text/plain": [
       "'Sun Aug 30 15:09:10 2015::meevpuo@nwatbyn.org::1440918550-7-7'"
      ]
     },
     "execution_count": 18,
     "metadata": {},
     "output_type": "execute_result"
    }
   ],
   "source": [
    "data"
   ]
  },
  {
   "cell_type": "code",
   "execution_count": 19,
   "metadata": {
    "collapsed": true
   },
   "outputs": [],
   "source": [
    "patt='^(Mon|Tue|Wed|Thu|Fri|Sta|Sun)'"
   ]
  },
  {
   "cell_type": "code",
   "execution_count": 20,
   "metadata": {
    "collapsed": true
   },
   "outputs": [],
   "source": [
    "m=re.match(patt,data)"
   ]
  },
  {
   "cell_type": "code",
   "execution_count": 22,
   "metadata": {
    "collapsed": false
   },
   "outputs": [
    {
     "data": {
      "text/plain": [
       "('Sun', 'Sun')"
      ]
     },
     "execution_count": 22,
     "metadata": {},
     "output_type": "execute_result"
    }
   ],
   "source": [
    "m.group(),m.group(1)"
   ]
  },
  {
   "cell_type": "code",
   "execution_count": 23,
   "metadata": {
    "collapsed": false
   },
   "outputs": [
    {
     "data": {
      "text/plain": [
       "('Sun',)"
      ]
     },
     "execution_count": 23,
     "metadata": {},
     "output_type": "execute_result"
    }
   ],
   "source": [
    "m.groups()"
   ]
  },
  {
   "cell_type": "code",
   "execution_count": 24,
   "metadata": {
    "collapsed": true
   },
   "outputs": [],
   "source": [
    "patt2='\\d+-\\d+-\\d+'"
   ]
  },
  {
   "cell_type": "code",
   "execution_count": 26,
   "metadata": {
    "collapsed": false
   },
   "outputs": [
    {
     "data": {
      "text/plain": [
       "'1440918550-7-7'"
      ]
     },
     "execution_count": 26,
     "metadata": {},
     "output_type": "execute_result"
    }
   ],
   "source": [
    "re.search(patt2,data).group()"
   ]
  },
  {
   "cell_type": "code",
   "execution_count": 27,
   "metadata": {
    "collapsed": true
   },
   "outputs": [],
   "source": [
    "patt3='.+\\d+-\\d+-\\d+'"
   ]
  },
  {
   "cell_type": "code",
   "execution_count": 28,
   "metadata": {
    "collapsed": false
   },
   "outputs": [
    {
     "data": {
      "text/plain": [
       "'Sun Aug 30 15:09:10 2015::meevpuo@nwatbyn.org::1440918550-7-7'"
      ]
     },
     "execution_count": 28,
     "metadata": {},
     "output_type": "execute_result"
    }
   ],
   "source": [
    "re.match(patt3,data).group()"
   ]
  },
  {
   "cell_type": "code",
   "execution_count": 29,
   "metadata": {
    "collapsed": true
   },
   "outputs": [],
   "source": [
    "patt4='.+(\\d+-\\d+-\\d+)'"
   ]
  },
  {
   "cell_type": "code",
   "execution_count": 30,
   "metadata": {
    "collapsed": false
   },
   "outputs": [
    {
     "data": {
      "text/plain": [
       "'0-7-7'"
      ]
     },
     "execution_count": 30,
     "metadata": {},
     "output_type": "execute_result"
    }
   ],
   "source": [
    "re.match(patt4,data).group(1)"
   ]
  },
  {
   "cell_type": "code",
   "execution_count": 31,
   "metadata": {
    "collapsed": true
   },
   "outputs": [],
   "source": [
    "patt5='.+?(\\d+-\\d+-\\d+)'"
   ]
  },
  {
   "cell_type": "code",
   "execution_count": 32,
   "metadata": {
    "collapsed": false
   },
   "outputs": [
    {
     "data": {
      "text/plain": [
       "'1440918550-7-7'"
      ]
     },
     "execution_count": 32,
     "metadata": {},
     "output_type": "execute_result"
    }
   ],
   "source": [
    "re.match(patt5,data).group(1)"
   ]
  },
  {
   "cell_type": "code",
   "execution_count": null,
   "metadata": {
    "collapsed": true
   },
   "outputs": [],
   "source": []
  }
 ],
 "metadata": {
  "kernelspec": {
   "display_name": "Python 3",
   "language": "python",
   "name": "python3"
  },
  "language_info": {
   "codemirror_mode": {
    "name": "ipython",
    "version": 3
   },
   "file_extension": ".py",
   "mimetype": "text/x-python",
   "name": "python",
   "nbconvert_exporter": "python",
   "pygments_lexer": "ipython3",
   "version": "3.5.2"
  }
 },
 "nbformat": 4,
 "nbformat_minor": 1
}
