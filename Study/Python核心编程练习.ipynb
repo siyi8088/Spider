{
 "cells": [
  {
   "cell_type": "code",
   "execution_count": 1,
   "metadata": {
    "collapsed": true
   },
   "outputs": [],
   "source": [
    "#6.22\n",
    "import string,keyword"
   ]
  },
  {
   "cell_type": "code",
   "execution_count": 2,
   "metadata": {
    "collapsed": true
   },
   "outputs": [],
   "source": [
    "def idcheck(char):\n",
    "    alpnum=string.ascii_letters+'_'\n",
    "    nums=string.digits\n",
    "    kword=keyword.kwlist\n",
    "    if char not in kword:\n",
    "        if char[0] in alpnum:\n",
    "            if len(char)>2:\n",
    "                for ele in char[1:]:\n",
    "                    if ele not in alpnum+nums:\n",
    "                        print('The string is invalid.')\n",
    "                        break\n",
    "                else:\n",
    "                    print('Ok, it\\'s valid.')\n",
    "            else:\n",
    "                print('Ok, it\\'s valid.')\n",
    "        else:\n",
    "            print('The string is invalid.')\n",
    "    else:\n",
    "        print('The string is invalid.')"
   ]
  },
  {
   "cell_type": "code",
   "execution_count": 3,
   "metadata": {
    "collapsed": false
   },
   "outputs": [
    {
     "name": "stdout",
     "output_type": "stream",
     "text": [
      "Ok, it's valid.\n"
     ]
    }
   ],
   "source": [
    "idcheck('_')"
   ]
  },
  {
   "cell_type": "code",
   "execution_count": 4,
   "metadata": {
    "collapsed": false
   },
   "outputs": [
    {
     "name": "stdout",
     "output_type": "stream",
     "text": [
      "Ok, it's valid.\n"
     ]
    }
   ],
   "source": [
    "idcheck('siyi')"
   ]
  },
  {
   "cell_type": "code",
   "execution_count": 5,
   "metadata": {
    "collapsed": false
   },
   "outputs": [
    {
     "name": "stdout",
     "output_type": "stream",
     "text": [
      "The string is invalid.\n"
     ]
    }
   ],
   "source": [
    "idcheck('123')"
   ]
  },
  {
   "cell_type": "code",
   "execution_count": null,
   "metadata": {
    "collapsed": false
   },
   "outputs": [],
   "source": [
    "#6-3\n",
    "def sort_ele(elements):\n",
    "    "
   ]
  },
  {
   "cell_type": "code",
   "execution_count": 7,
   "metadata": {
    "collapsed": true
   },
   "outputs": [],
   "source": [
    "#一般排序\n",
    "a=[1,3,4,8,45,52,12]"
   ]
  },
  {
   "cell_type": "code",
   "execution_count": 11,
   "metadata": {
    "collapsed": false
   },
   "outputs": [
    {
     "data": {
      "text/plain": [
       "[52, 45, 12, 8, 4, 3, 1]"
      ]
     },
     "execution_count": 11,
     "metadata": {},
     "output_type": "execute_result"
    }
   ],
   "source": [
    "sorted(a,reverse=True)"
   ]
  },
  {
   "cell_type": "code",
   "execution_count": 12,
   "metadata": {
    "collapsed": true
   },
   "outputs": [],
   "source": [
    "#字典序\n",
    "b=['1','23','34','45','5']"
   ]
  },
  {
   "cell_type": "code",
   "execution_count": 18,
   "metadata": {
    "collapsed": false
   },
   "outputs": [
    {
     "data": {
      "text/plain": [
       "['5', '45', '34', '23', '1']"
      ]
     },
     "execution_count": 18,
     "metadata": {},
     "output_type": "execute_result"
    }
   ],
   "source": [
    "sorted(b,reverse=True)"
   ]
  },
  {
   "cell_type": "code",
   "execution_count": 17,
   "metadata": {
    "collapsed": false
   },
   "outputs": [
    {
     "data": {
      "text/plain": [
       "53"
      ]
     },
     "execution_count": 17,
     "metadata": {},
     "output_type": "execute_result"
    }
   ],
   "source": [
    "#IP地址是一个32位的二进制数，通常被分割为4个“8位二进制数”（也就是4个字节）。IP地址通常用“点分十进制”表示成（a.b.c.d）的形式，其中，a,b,c,d都是0~255之间的十进制整数。"
   ]
  },
  {
   "cell_type": "code",
   "execution_count": 27,
   "metadata": {
    "collapsed": false
   },
   "outputs": [
    {
     "data": {
      "text/plain": [
       "'0b100'"
      ]
     },
     "execution_count": 27,
     "metadata": {},
     "output_type": "execute_result"
    }
   ],
   "source": [
    "bin(4)"
   ]
  },
  {
   "cell_type": "code",
   "execution_count": 26,
   "metadata": {
    "collapsed": false
   },
   "outputs": [
    {
     "data": {
      "text/plain": [
       "4"
      ]
     },
     "execution_count": 26,
     "metadata": {},
     "output_type": "execute_result"
    }
   ],
   "source": [
    "int(_19[2:],2)"
   ]
  },
  {
   "cell_type": "code",
   "execution_count": 28,
   "metadata": {
    "collapsed": false
   },
   "outputs": [
    {
     "data": {
      "text/plain": [
       "'00000000000000000000000000000100'"
      ]
     },
     "execution_count": 28,
     "metadata": {},
     "output_type": "execute_result"
    }
   ],
   "source": [
    "'100'.zfill(32)"
   ]
  },
  {
   "cell_type": "code",
   "execution_count": 40,
   "metadata": {
    "collapsed": false
   },
   "outputs": [],
   "source": [
    "#整数转IP地址\n",
    "def to_IP(num):\n",
    "    item=bin(num)[2:].zfill(32)\n",
    "    items=[item[:8],item[8:16],item[16:24],item[24:]]\n",
    "    return '.'.join([str(int(ele,2)) for ele in items])"
   ]
  },
  {
   "cell_type": "code",
   "execution_count": 41,
   "metadata": {
    "collapsed": false
   },
   "outputs": [
    {
     "data": {
      "text/plain": [
       "'0.0.1.0'"
      ]
     },
     "execution_count": 41,
     "metadata": {},
     "output_type": "execute_result"
    }
   ],
   "source": [
    "to_IP(256)"
   ]
  },
  {
   "cell_type": "code",
   "execution_count": 55,
   "metadata": {
    "collapsed": false
   },
   "outputs": [],
   "source": [
    "#IP转num\n",
    "def to_num(IP):\n",
    "    items=IP.split('.')\n",
    "    return int(''.join([bin(int(ele))[2:].zfill(8) for ele in items]),2)"
   ]
  },
  {
   "cell_type": "code",
   "execution_count": 56,
   "metadata": {
    "collapsed": false
   },
   "outputs": [
    {
     "data": {
      "text/plain": [
       "256"
      ]
     },
     "execution_count": 56,
     "metadata": {},
     "output_type": "execute_result"
    }
   ],
   "source": [
    "to_num('0.0.1.0')"
   ]
  },
  {
   "cell_type": "code",
   "execution_count": 5,
   "metadata": {
    "collapsed": false
   },
   "outputs": [],
   "source": [
    "import random\n",
    "seq={'paper':3,'rock':2,'scissors':1}\n",
    "seq=['paper','rock','scissors']"
   ]
  },
  {
   "cell_type": "code",
   "execution_count": 6,
   "metadata": {
    "collapsed": false
   },
   "outputs": [],
   "source": [
    "def Rockhambeau():\n",
    "    seq={'paper':3,'rock':2,'scissors':1}\n",
    "    print('Please enter your choice')\n",
    "    key1=input(seq)\n",
    "    key2=random.choice(range(1,4))\n",
    "    if seq[key1]==key[2]:\n",
    "        print('tie')  #平手\n",
    "    elif seq[key1]+seq[key2]==4:\n",
    "        if seq[key1]<seq[key2]:\n",
    "            print(key1,' win')\n",
    "        else:\n",
    "            print(key2,' win')\n",
    "    elif seq[key1]<seq[key2]:\n",
    "        print(key2,' win')\n",
    "    else:\n",
    "        print(key1,' win')"
   ]
  },
  {
   "cell_type": "code",
   "execution_count": 7,
   "metadata": {
    "collapsed": false
   },
   "outputs": [],
   "source": [
    "seq={'paper':3,'rock':2,'scissors':1}"
   ]
  },
  {
   "cell_type": "code",
   "execution_count": 9,
   "metadata": {
    "collapsed": false
   },
   "outputs": [
    {
     "name": "stdout",
     "output_type": "stream",
     "text": [
      "{'scissors': 1, 'paper': 3, 'rock': 2}1\n"
     ]
    }
   ],
   "source": [
    "key1=input(seq)"
   ]
  },
  {
   "cell_type": "code",
   "execution_count": 10,
   "metadata": {
    "collapsed": false,
    "scrolled": true
   },
   "outputs": [
    {
     "data": {
      "text/plain": [
       "'1'"
      ]
     },
     "execution_count": 10,
     "metadata": {},
     "output_type": "execute_result"
    }
   ],
   "source": [
    "key1"
   ]
  },
  {
   "cell_type": "code",
   "execution_count": 21,
   "metadata": {
    "collapsed": true
   },
   "outputs": [],
   "source": [
    "import time\n",
    "import datetime"
   ]
  },
  {
   "cell_type": "code",
   "execution_count": 31,
   "metadata": {
    "collapsed": false
   },
   "outputs": [],
   "source": [
    "d1=datetime.date(2016,12,6)\n",
    "d2=datetime.date(2016,12,1)"
   ]
  },
  {
   "cell_type": "code",
   "execution_count": 32,
   "metadata": {
    "collapsed": false
   },
   "outputs": [
    {
     "data": {
      "text/plain": [
       "5"
      ]
     },
     "execution_count": 32,
     "metadata": {},
     "output_type": "execute_result"
    }
   ],
   "source": [
    "(d1-d2).days"
   ]
  },
  {
   "cell_type": "code",
   "execution_count": 33,
   "metadata": {
    "collapsed": true
   },
   "outputs": [],
   "source": [
    "import numpy as np"
   ]
  },
  {
   "cell_type": "code",
   "execution_count": 37,
   "metadata": {
    "collapsed": false
   },
   "outputs": [],
   "source": [
    "aa=np.array(np.arange(15).reshape((3,5)))"
   ]
  },
  {
   "cell_type": "code",
   "execution_count": 40,
   "metadata": {
    "collapsed": true
   },
   "outputs": [],
   "source": [
    "bb=np.array(np.arange(15,30).reshape((3,5)))"
   ]
  },
  {
   "cell_type": "code",
   "execution_count": 41,
   "metadata": {
    "collapsed": false
   },
   "outputs": [
    {
     "data": {
      "text/plain": [
       "array([[15, 17, 19, 21, 23],\n",
       "       [25, 27, 29, 31, 33],\n",
       "       [35, 37, 39, 41, 43]])"
      ]
     },
     "execution_count": 41,
     "metadata": {},
     "output_type": "execute_result"
    }
   ],
   "source": [
    "aa+bb"
   ]
  },
  {
   "cell_type": "code",
   "execution_count": 42,
   "metadata": {
    "collapsed": false,
    "scrolled": true
   },
   "outputs": [
    {
     "data": {
      "text/plain": [
       "array([[ 180,  230,  280],\n",
       "       [ 605,  780,  955],\n",
       "       [1030, 1330, 1630]])"
      ]
     },
     "execution_count": 42,
     "metadata": {},
     "output_type": "execute_result"
    }
   ],
   "source": [
    "aa.dot(bb.T)"
   ]
  },
  {
   "cell_type": "code",
   "execution_count": 22,
   "metadata": {
    "collapsed": true
   },
   "outputs": [],
   "source": [
    "import math"
   ]
  },
  {
   "cell_type": "code",
   "execution_count": 19,
   "metadata": {
    "collapsed": false
   },
   "outputs": [],
   "source": [
    "#多列输出:\n",
    "def output(seq,axis=1,num=3):\n",
    "    key=math.ceil(len(seq)/num)\n",
    "    if axis==1:\n",
    "        for i in range(key):\n",
    "            print(seq[i*num:(i+1)*num])\n",
    "    if axis==0:\n",
    "        for i in range(key):\n",
    "            print(seq[i::key])"
   ]
  },
  {
   "cell_type": "code",
   "execution_count": 20,
   "metadata": {
    "collapsed": true
   },
   "outputs": [],
   "source": [
    "seq=list(range(17))"
   ]
  },
  {
   "cell_type": "code",
   "execution_count": 23,
   "metadata": {
    "collapsed": false
   },
   "outputs": [
    {
     "name": "stdout",
     "output_type": "stream",
     "text": [
      "[0, 1, 2]\n",
      "[3, 4, 5]\n",
      "[6, 7, 8]\n",
      "[9, 10, 11]\n",
      "[12, 13, 14]\n",
      "[15, 16]\n"
     ]
    }
   ],
   "source": [
    "output(seq)"
   ]
  },
  {
   "cell_type": "code",
   "execution_count": 24,
   "metadata": {
    "collapsed": false
   },
   "outputs": [
    {
     "name": "stdout",
     "output_type": "stream",
     "text": [
      "[0, 6, 12]\n",
      "[1, 7, 13]\n",
      "[2, 8, 14]\n",
      "[3, 9, 15]\n",
      "[4, 10, 16]\n",
      "[5, 11]\n"
     ]
    }
   ],
   "source": [
    "output(seq,axis=0)"
   ]
  },
  {
   "cell_type": "code",
   "execution_count": 50,
   "metadata": {
    "collapsed": false
   },
   "outputs": [
    {
     "data": {
      "text/plain": [
       "[10, 11, 12, 13, 14, 15]"
      ]
     },
     "execution_count": 50,
     "metadata": {},
     "output_type": "execute_result"
    }
   ],
   "source": [
    "seq[10:20]"
   ]
  },
  {
   "cell_type": "code",
   "execution_count": 51,
   "metadata": {
    "collapsed": false
   },
   "outputs": [
    {
     "data": {
      "text/plain": [
       "[]"
      ]
     },
     "execution_count": 51,
     "metadata": {},
     "output_type": "execute_result"
    }
   ],
   "source": [
    "seq[20:]"
   ]
  },
  {
   "cell_type": "code",
   "execution_count": 4,
   "metadata": {
    "collapsed": false
   },
   "outputs": [],
   "source": [
    "dict1=dict((['s',1],['i',2],['y',3],['a',5]))"
   ]
  },
  {
   "cell_type": "code",
   "execution_count": 5,
   "metadata": {
    "collapsed": false
   },
   "outputs": [
    {
     "data": {
      "text/plain": [
       "{'a': 5, 'i': 2, 's': 1, 'y': 3}"
      ]
     },
     "execution_count": 5,
     "metadata": {},
     "output_type": "execute_result"
    }
   ],
   "source": [
    "dict1"
   ]
  },
  {
   "cell_type": "code",
   "execution_count": 7,
   "metadata": {
    "collapsed": false
   },
   "outputs": [],
   "source": [
    "aa=sorted(dict1.keys())"
   ]
  },
  {
   "cell_type": "code",
   "execution_count": 10,
   "metadata": {
    "collapsed": false
   },
   "outputs": [
    {
     "name": "stdout",
     "output_type": "stream",
     "text": [
      "a 5\n",
      "i 2\n",
      "s 1\n",
      "y 3\n"
     ]
    }
   ],
   "source": [
    "for ele in aa:\n",
    "    print(ele,dict1[ele])"
   ]
  },
  {
   "cell_type": "code",
   "execution_count": 16,
   "metadata": {
    "collapsed": true
   },
   "outputs": [],
   "source": [
    "ff=range(15)\n",
    "gg='hfajkfdjkfjkdkj'"
   ]
  },
  {
   "cell_type": "code",
   "execution_count": 17,
   "metadata": {
    "collapsed": false
   },
   "outputs": [],
   "source": [
    "dict2=dict(zip(ff,gg))"
   ]
  },
  {
   "cell_type": "code",
   "execution_count": 17,
   "metadata": {
    "collapsed": false
   },
   "outputs": [],
   "source": [
    "#7-5\n",
    "import string,time\n",
    "db={}\n",
    "def userLogin():\n",
    "    check_str=string.ascii_letters+digits\n",
    "    while True:\n",
    "        user=input('Enter your user_name: ').lower()\n",
    "        for ele in user:\n",
    "            if ele not in check_str:\n",
    "                print('Invalid input, Please try again.')\n",
    "                continue\n",
    "            else:\n",
    "                break\n",
    "    pwd=input('Enter your password: ')\n",
    "    if user not in db:\n",
    "        answer=input('Are you a new user? y/n').lower()\n",
    "        if answer=='y':\n",
    "            db[user]=[password,time.time()]\n",
    "        else:\n",
    "            return\n",
    "    else:\n",
    "        pwd_db=db.get(user)\n",
    "        if pwd_db[0]==pwd:\n",
    "            print('Wellcome, ',user)\n",
    "            if time.time()-pwd_db[1]<=14400:\n",
    "                print('You already logged in at:',time.ctime(pwd_db[1]))\n",
    "                db[user][1]=time.time()\n",
    "        else:\n",
    "            print('Login incorrect.')\n",
    "\n",
    "def userDelete():\n",
    "    while True:\n",
    "        user=input('Enter the user name that you want to delete.').lower()\n",
    "        if user not in db:\n",
    "            print('The user not exiting.')\n",
    "            key=input('Try again? y/n').lower()\n",
    "            if key=='y':\n",
    "                continue\n",
    "            else:\n",
    "                return\n",
    "        else:\n",
    "            del db[user]\n",
    "            return\n",
    "\n",
    "def showUser():\n",
    "    for ele in db.keys():\n",
    "        print('user:%s, password: %s '%(ele,db[ele][0]))"
   ]
  },
  {
   "cell_type": "code",
   "execution_count": 13,
   "metadata": {
    "collapsed": false
   },
   "outputs": [
    {
     "name": "stdout",
     "output_type": "stream",
     "text": [
      "Enter your user_name: siyi\n"
     ]
    }
   ],
   "source": [
    "ser=input('Enter your user_name: ').lower()"
   ]
  },
  {
   "cell_type": "code",
   "execution_count": 14,
   "metadata": {
    "collapsed": false
   },
   "outputs": [],
   "source": [
    "def test():\n",
    "    while True:\n",
    "        key=input()\n",
    "        if key=='y':\n",
    "            return\n",
    "        else:\n",
    "            continue"
   ]
  },
  {
   "cell_type": "code",
   "execution_count": 15,
   "metadata": {
    "collapsed": false
   },
   "outputs": [
    {
     "name": "stdout",
     "output_type": "stream",
     "text": [
      "s\n",
      "y\n"
     ]
    }
   ],
   "source": [
    "test()"
   ]
  },
  {
   "cell_type": "code",
   "execution_count": 2,
   "metadata": {
    "collapsed": false
   },
   "outputs": [],
   "source": [
    "#7-7\n",
    "def dict_reverse(**arg):\n",
    "    result={}\n",
    "    for key,value in arg.items():\n",
    "        result[value]=key\n",
    "    return result"
   ]
  },
  {
   "cell_type": "code",
   "execution_count": 3,
   "metadata": {
    "collapsed": true
   },
   "outputs": [],
   "source": [
    "test_dict={'hah':1,'heh':2,'siyi':3,'rui':4}"
   ]
  },
  {
   "cell_type": "code",
   "execution_count": 5,
   "metadata": {
    "collapsed": false
   },
   "outputs": [
    {
     "data": {
      "text/plain": [
       "{1: 'hah', 2: 'heh', 3: 'siyi', 4: 'rui'}"
      ]
     },
     "execution_count": 5,
     "metadata": {},
     "output_type": "execute_result"
    }
   ],
   "source": [
    "dict_reverse(**test_dict)"
   ]
  },
  {
   "cell_type": "code",
   "execution_count": 29,
   "metadata": {
    "collapsed": true
   },
   "outputs": [],
   "source": [
    "#7-8\n",
    "def employee(arg):\n",
    "    for key in sorted(arg):\n",
    "        print(key,arg[key])\n",
    "#若按照值排序来输出,则需要颠倒字典中的键和值\n",
    "def emp_reverse(arg):\n",
    "    result={}\n",
    "    for key,value in arg.items():\n",
    "        if value in result:\n",
    "            result[value].append(key)  #若有重复的键,则把对应的值添加进值的列表中\n",
    "        else:\n",
    "            result[value]=[key]\n",
    "    for item in sorted(result):\n",
    "        if len(result[item])>1:\n",
    "            aa=sorted(result[item])   #键值相同,按值排序\n",
    "            for i in range(len(aa)):\n",
    "                print(item,aa[i])\n",
    "        else:\n",
    "            print(item,result[item][0])"
   ]
  },
  {
   "cell_type": "code",
   "execution_count": 7,
   "metadata": {
    "collapsed": false
   },
   "outputs": [
    {
     "name": "stdout",
     "output_type": "stream",
     "text": [
      "hah 1\n",
      "heh 2\n",
      "rui 4\n",
      "siyi 3\n"
     ]
    }
   ],
   "source": [
    "employee(test_dict)"
   ]
  },
  {
   "cell_type": "code",
   "execution_count": 15,
   "metadata": {
    "collapsed": true
   },
   "outputs": [],
   "source": [
    "test2={'h':1,'a':2,'t':3,'y':3,'u':0}"
   ]
  },
  {
   "cell_type": "code",
   "execution_count": 30,
   "metadata": {
    "collapsed": false
   },
   "outputs": [
    {
     "name": "stdout",
     "output_type": "stream",
     "text": [
      "0 u\n",
      "1 h\n",
      "2 a\n",
      "3 t\n",
      "3 y\n"
     ]
    }
   ],
   "source": [
    "emp_reverse(test2)"
   ]
  },
  {
   "cell_type": "code",
   "execution_count": 44,
   "metadata": {
    "collapsed": true
   },
   "outputs": [],
   "source": [
    "#7-9\n",
    "def tr(srcstr,dststr,string,case=False):\n",
    "    if not case:\n",
    "        srcstr,dststr,string=srcstr.lower(),dststr.lower(),string.lower()\n",
    "    for a,b in zip(srcstr,dststr):\n",
    "        string=string.replace(a,b)\n",
    "    for a in srcstr[len(bb):]:\n",
    "        string=string.replace(a,'')\n",
    "    return string"
   ]
  },
  {
   "cell_type": "code",
   "execution_count": 38,
   "metadata": {
    "collapsed": false
   },
   "outputs": [],
   "source": [
    "aa='abcdef';bb='mno';cc='abcdefghi'"
   ]
  },
  {
   "cell_type": "code",
   "execution_count": 45,
   "metadata": {
    "collapsed": false
   },
   "outputs": [
    {
     "data": {
      "text/plain": [
       "'mnoghi'"
      ]
     },
     "execution_count": 45,
     "metadata": {},
     "output_type": "execute_result"
    }
   ],
   "source": [
    "tr(aa,bb,cc)"
   ]
  },
  {
   "cell_type": "code",
   "execution_count": 69,
   "metadata": {
    "collapsed": true
   },
   "outputs": [],
   "source": [
    "#7-10\n",
    "def trans(char):\n",
    "    num=ord(char)\n",
    "    if (65<=num<=77) | (97<=num<=109):\n",
    "        return chr(num+13)\n",
    "    elif (77<num<=90) | (109<num<=122):\n",
    "        return chr(num-13)\n",
    "    return char\n",
    "\n",
    "def rot13(string):\n",
    "    for char in string:\n",
    "        string=string.replace(char,trans(char))\n",
    "    return string\n",
    "\n",
    "def main():\n",
    "    string=input('Enter string to rot13:')\n",
    "    print('Your string to en/decrypy was: [%s]'%string)\n",
    "    result=rot13(string)\n",
    "    print('The rot13 string is: [%s]'%result)"
   ]
  },
  {
   "cell_type": "code",
   "execution_count": 70,
   "metadata": {
    "collapsed": false,
    "scrolled": true
   },
   "outputs": [
    {
     "name": "stdout",
     "output_type": "stream",
     "text": [
      "Enter string to rot13:This is a short sentence.\n",
      "Your string to en/decrypy was: [This is a short sentence.]\n",
      "The rot13 string is: [Guvf vf a fubrg fragrapr.]\n"
     ]
    }
   ],
   "source": [
    "main()"
   ]
  },
  {
   "cell_type": "code",
   "execution_count": 1,
   "metadata": {
    "collapsed": false
   },
   "outputs": [],
   "source": [
    "#7-13\n",
    "import random\n",
    "def random_set():\n",
    "    A=set()\n",
    "    length=random.randint(0,9)\n",
    "    for i in range(length):\n",
    "        A.add(random.randint(0,9))\n",
    "    return A\n",
    "def main():\n",
    "    A=random_set()\n",
    "    B=random_set()\n",
    "    print('集合A为:',A)\n",
    "    print('集合B为:',B)\n",
    "    print('A|B为:',A|B)\n",
    "    print('A&B为:',A&B)"
   ]
  },
  {
   "cell_type": "code",
   "execution_count": 9,
   "metadata": {
    "collapsed": false
   },
   "outputs": [
    {
     "name": "stdout",
     "output_type": "stream",
     "text": [
      "集合A为: {8}\n",
      "集合B为: {0, 1, 2, 4, 5, 7, 8}\n",
      "A|B为: {0, 1, 2, 4, 5, 7, 8}\n",
      "A&B为: {8}\n"
     ]
    }
   ],
   "source": [
    "main()"
   ]
  },
  {
   "cell_type": "code",
   "execution_count": 16,
   "metadata": {
    "collapsed": false
   },
   "outputs": [],
   "source": [
    "#7-14\n",
    "def main_14():\n",
    "    A=random_set()\n",
    "    B=random_set()\n",
    "    result1=A|B\n",
    "    result2=A&B\n",
    "    print('集合A为:',A)\n",
    "    print('集合B为:',B)\n",
    "    for i in range(3):\n",
    "        input1=set([int(ele) for ele in input('Enter the result of A|B: ').split(',')])\n",
    "        input2=set([int(ele) for ele in input('Enter the result of A&B: ').split(',')])\n",
    "        if (input1==result1)&(input2==result2):\n",
    "            print('Right.')\n",
    "            return\n",
    "        else:\n",
    "            continue\n",
    "    print('A|B为:',A|B)\n",
    "    print('A&B为:',A&B)"
   ]
  },
  {
   "cell_type": "code",
   "execution_count": 2,
   "metadata": {
    "collapsed": false
   },
   "outputs": [
    {
     "data": {
      "text/plain": [
       "[False, True]"
      ]
     },
     "execution_count": 2,
     "metadata": {},
     "output_type": "execute_result"
    }
   ],
   "source": [
    "sorted([True,False])"
   ]
  },
  {
   "cell_type": "code",
   "execution_count": 3,
   "metadata": {
    "collapsed": false
   },
   "outputs": [],
   "source": [
    "#排序规则：小写<大写<奇数<偶数\n",
    "s = 'asdf234GDSdsf23' "
   ]
  },
  {
   "cell_type": "code",
   "execution_count": 4,
   "metadata": {
    "collapsed": false
   },
   "outputs": [
    {
     "name": "stdout",
     "output_type": "stream",
     "text": [
      "addffssDGS33224\n"
     ]
    }
   ],
   "source": [
    "print(\"\".join(sorted(s, key=lambda x: (x.isdigit(),x.isdigit() and int(x) % 2 == 0,x.isupper(),x))))"
   ]
  },
  {
   "cell_type": "code",
   "execution_count": 2,
   "metadata": {
    "collapsed": false
   },
   "outputs": [],
   "source": [
    "#8-4 素数\n",
    "def isprime(num):\n",
    "    count=num//2\n",
    "    for i in range(count,1,-1):\n",
    "        if num%i==0:\n",
    "            return False\n",
    "            break\n",
    "    else:\n",
    "        return True"
   ]
  },
  {
   "cell_type": "code",
   "execution_count": 31,
   "metadata": {
    "collapsed": false
   },
   "outputs": [
    {
     "data": {
      "text/plain": [
       "(False, True)"
      ]
     },
     "execution_count": 31,
     "metadata": {},
     "output_type": "execute_result"
    }
   ],
   "source": [
    "isprime(9),isprime(2)"
   ]
  },
  {
   "cell_type": "code",
   "execution_count": 7,
   "metadata": {
    "collapsed": true
   },
   "outputs": [],
   "source": [
    "#8-5 约数\n",
    "def getfactors(num):\n",
    "    return [ele for ele in range(1,num//2+1) if num%ele==0]+[num]"
   ]
  },
  {
   "cell_type": "code",
   "execution_count": 16,
   "metadata": {
    "collapsed": false
   },
   "outputs": [
    {
     "data": {
      "text/plain": [
       "[1, 3, 5, 15]"
      ]
     },
     "execution_count": 16,
     "metadata": {},
     "output_type": "execute_result"
    }
   ],
   "source": [
    "getfactors(15)"
   ]
  },
  {
   "cell_type": "code",
   "execution_count": 8,
   "metadata": {
    "collapsed": false
   },
   "outputs": [
    {
     "data": {
      "text/plain": [
       "[1, 3, 5, 9, 15, 45]"
      ]
     },
     "execution_count": 8,
     "metadata": {},
     "output_type": "execute_result"
    }
   ],
   "source": [
    "getfactors(45)"
   ]
  },
  {
   "cell_type": "code",
   "execution_count": 5,
   "metadata": {
    "collapsed": true
   },
   "outputs": [],
   "source": [
    "#8-6  返回的素数乘积为原数\n",
    "def factorsplit(num):\n",
    "    factors=[ele for ele in range(2,num//2+1) if num%ele==0 and isprime(ele)]\n",
    "    if len(factors)==0:\n",
    "        return [1,num]\n",
    "    else:\n",
    "        result=[]\n",
    "        for ele in factors:\n",
    "            while num%ele==0:\n",
    "                num/=ele\n",
    "                result.append(ele)\n",
    "        return result"
   ]
  },
  {
   "cell_type": "code",
   "execution_count": 9,
   "metadata": {
    "collapsed": false
   },
   "outputs": [
    {
     "data": {
      "text/plain": [
       "[3, 3, 5]"
      ]
     },
     "execution_count": 9,
     "metadata": {},
     "output_type": "execute_result"
    }
   ],
   "source": [
    "factorsplit(45)"
   ]
  },
  {
   "cell_type": "code",
   "execution_count": 10,
   "metadata": {
    "collapsed": false
   },
   "outputs": [],
   "source": [
    "#8-7 全数\n",
    "def isperfect(num):\n",
    "    return num==sum(getfactors(num)[:-1])"
   ]
  },
  {
   "cell_type": "code",
   "execution_count": 13,
   "metadata": {
    "collapsed": false
   },
   "outputs": [
    {
     "data": {
      "text/plain": [
       "True"
      ]
     },
     "execution_count": 13,
     "metadata": {},
     "output_type": "execute_result"
    }
   ],
   "source": [
    "isperfect(6)"
   ]
  },
  {
   "cell_type": "code",
   "execution_count": 14,
   "metadata": {
    "collapsed": true
   },
   "outputs": [],
   "source": [
    "#8-8阶乘\n",
    "def factorial(N):\n",
    "    result=1\n",
    "    for i in range(2,N+1):\n",
    "        result*=i\n",
    "    return result"
   ]
  },
  {
   "cell_type": "code",
   "execution_count": 15,
   "metadata": {
    "collapsed": false
   },
   "outputs": [
    {
     "data": {
      "text/plain": [
       "720"
      ]
     },
     "execution_count": 15,
     "metadata": {},
     "output_type": "execute_result"
    }
   ],
   "source": [
    "factorial(6)"
   ]
  },
  {
   "cell_type": "code",
   "execution_count": 22,
   "metadata": {
    "collapsed": false
   },
   "outputs": [],
   "source": [
    "#8-9  Fibonacci数列  递归算法\n",
    "def fib(N):\n",
    "    if N <= 2:\n",
    "        return 1\n",
    "    else:\n",
    "        return fib(N-1)+fib(N-2)"
   ]
  },
  {
   "cell_type": "code",
   "execution_count": 23,
   "metadata": {
    "collapsed": false
   },
   "outputs": [
    {
     "data": {
      "text/plain": [
       "8"
      ]
     },
     "execution_count": 23,
     "metadata": {},
     "output_type": "execute_result"
    }
   ],
   "source": [
    "fib(6)"
   ]
  },
  {
   "cell_type": "code",
   "execution_count": 29,
   "metadata": {
    "collapsed": true
   },
   "outputs": [],
   "source": [
    "#8-9  Fibonacci数列 循环  注意索引需要减1\n",
    "def fibonacci(N):\n",
    "    result=[1,1]\n",
    "    for i in range(2,N):\n",
    "        result.append(result[i-1]+result[i-2])\n",
    "    return result[N-1]\n",
    "    #return result.pop()"
   ]
  },
  {
   "cell_type": "code",
   "execution_count": 33,
   "metadata": {
    "collapsed": false
   },
   "outputs": [
    {
     "data": {
      "text/plain": [
       "1"
      ]
     },
     "execution_count": 33,
     "metadata": {},
     "output_type": "execute_result"
    }
   ],
   "source": [
    "fibonacci(2)"
   ]
  },
  {
   "cell_type": "code",
   "execution_count": 36,
   "metadata": {
    "collapsed": false
   },
   "outputs": [],
   "source": [
    "#8-10 文本处理 单词数  元音数  辅音数\n",
    "def word_count(sentence):\n",
    "    word_list=sentence.split()\n",
    "    word_dict={}\n",
    "    vowel='aeiou'\n",
    "    length=len(word_list)\n",
    "    for item in word_list:\n",
    "        for ele in item:\n",
    "            word_dict[ele]=word_dict.get(ele,0)+1\n",
    "    vowel_count=0\n",
    "    for key in vowel:\n",
    "        vowel_count+=word_dict.get(key,0)\n",
    "    consonant_count=sum(list(word_dict.values()))-vowel_count\n",
    "    return {'length':length,'vowel_count':vowel_count,'consonant_count':consonant_count}              "
   ]
  },
  {
   "cell_type": "code",
   "execution_count": 37,
   "metadata": {
    "collapsed": false
   },
   "outputs": [
    {
     "data": {
      "text/plain": [
       "{'consonant_count': 7, 'length': 4, 'vowel_count': 4}"
      ]
     },
     "execution_count": 37,
     "metadata": {},
     "output_type": "execute_result"
    }
   ],
   "source": [
    "word_count('this is a test')"
   ]
  },
  {
   "cell_type": "code",
   "execution_count": 74,
   "metadata": {
    "collapsed": true
   },
   "outputs": [],
   "source": [
    "#8-12\n",
    "def bit_operation():\n",
    "    start=int(input('Enter begin value: '))\n",
    "    end=int(input('ENter end value: '))\n",
    "    dec_dict={};bin_dict={};oct_dict={};hex_dict={};ascii_dict={}\n",
    "    for i in range(start,end+1):\n",
    "        dec_dict[i]=i\n",
    "        bin_dict[i]=bin(i)[2:]\n",
    "        oct_dict[i]=oct(i)[2:]\n",
    "        hex_dict[i]=hex(i)[2:]\n",
    "        ascii_ele=chr(i)\n",
    "        if ascii_ele.isprintable():\n",
    "            ascii_dict[i]=ascii_ele\n",
    "    if len(ascii_dict)==0:\n",
    "        print('%10s%10s%10s%10s'%('DEC','BIN','OCT','HEX'))\n",
    "        print('-'*40)\n",
    "        for i in range(start,end+1):\n",
    "            print('%10s%10s%10s%10s'%(dec_dict[i],bin_dict[i],oct_dict[i],hex_dict[i]))\n",
    "    else:\n",
    "        print('%10s%10s%10s%10s%10s'%('DEC','BIN','OCT','HEX','ASCII'))\n",
    "        print('-'*50)\n",
    "        for i in range(start,end+1):\n",
    "            print('%10s%10s%10s%10s%10s'%(dec_dict[i],bin_dict[i],oct_dict[i],hex_dict[i],ascii_dict.get(i,' ')))  #None打印的时候还是会显示位\"None\""
   ]
  },
  {
   "cell_type": "code",
   "execution_count": 66,
   "metadata": {
    "collapsed": false
   },
   "outputs": [
    {
     "name": "stdout",
     "output_type": "stream",
     "text": [
      "Enter begin value: 9\n",
      "ENter end value: 18\n",
      "       DEC       BIN       OCT       HEX\n",
      "----------------------------------------\n",
      "         9      1001        11         9\n",
      "        10      1010        12         a\n",
      "        11      1011        13         b\n",
      "        12      1100        14         c\n",
      "        13      1101        15         d\n",
      "        14      1110        16         e\n",
      "        15      1111        17         f\n",
      "        16     10000        20        10\n",
      "        17     10001        21        11\n",
      "        18     10010        22        12\n"
     ]
    }
   ],
   "source": [
    "bit_operation()"
   ]
  },
  {
   "cell_type": "code",
   "execution_count": 75,
   "metadata": {
    "collapsed": false
   },
   "outputs": [
    {
     "name": "stdout",
     "output_type": "stream",
     "text": [
      "Enter begin value: 26\n",
      "ENter end value: 41\n",
      "       DEC       BIN       OCT       HEX     ASCII\n",
      "--------------------------------------------------\n",
      "        26     11010        32        1a          \n",
      "        27     11011        33        1b          \n",
      "        28     11100        34        1c          \n",
      "        29     11101        35        1d          \n",
      "        30     11110        36        1e          \n",
      "        31     11111        37        1f          \n",
      "        32    100000        40        20          \n",
      "        33    100001        41        21         !\n",
      "        34    100010        42        22         \"\n",
      "        35    100011        43        23         #\n",
      "        36    100100        44        24         $\n",
      "        37    100101        45        25         %\n",
      "        38    100110        46        26         &\n",
      "        39    100111        47        27         '\n",
      "        40    101000        50        28         (\n",
      "        41    101001        51        29         )\n"
     ]
    }
   ],
   "source": [
    "bit_operation()"
   ]
  },
  {
   "cell_type": "code",
   "execution_count": 89,
   "metadata": {
    "collapsed": false
   },
   "outputs": [],
   "source": [
    "f=open('test.txt')"
   ]
  },
  {
   "cell_type": "code",
   "execution_count": 101,
   "metadata": {
    "collapsed": false
   },
   "outputs": [
    {
     "name": "stdout",
     "output_type": "stream",
     "text": [
      "siyi\n",
      "hah\n",
      "heihei\n"
     ]
    }
   ],
   "source": [
    "for line in f:\n",
    "    print(line,end='')"
   ]
  },
  {
   "cell_type": "code",
   "execution_count": 104,
   "metadata": {
    "collapsed": false
   },
   "outputs": [
    {
     "data": {
      "text/plain": [
       "0"
      ]
     },
     "execution_count": 104,
     "metadata": {},
     "output_type": "execute_result"
    }
   ],
   "source": [
    "f.seek(0)"
   ]
  },
  {
   "cell_type": "code",
   "execution_count": 105,
   "metadata": {
    "collapsed": false
   },
   "outputs": [
    {
     "name": "stdout",
     "output_type": "stream",
     "text": [
      "siyi\n",
      "hah\n",
      "heihei\n",
      "\n"
     ]
    }
   ],
   "source": [
    "print(f.read())"
   ]
  },
  {
   "cell_type": "code",
   "execution_count": 106,
   "metadata": {
    "collapsed": false
   },
   "outputs": [
    {
     "data": {
      "text/plain": [
       "16"
      ]
     },
     "execution_count": 106,
     "metadata": {},
     "output_type": "execute_result"
    }
   ],
   "source": [
    "f.tell()"
   ]
  },
  {
   "cell_type": "code",
   "execution_count": 107,
   "metadata": {
    "collapsed": false
   },
   "outputs": [
    {
     "data": {
      "text/plain": [
       "42"
      ]
     },
     "execution_count": 107,
     "metadata": {},
     "output_type": "execute_result"
    }
   ],
   "source": [
    "f.fileno()"
   ]
  },
  {
   "cell_type": "code",
   "execution_count": 111,
   "metadata": {
    "collapsed": false
   },
   "outputs": [
    {
     "data": {
      "text/plain": [
       "False"
      ]
     },
     "execution_count": 111,
     "metadata": {},
     "output_type": "execute_result"
    }
   ],
   "source": [
    "f.closed"
   ]
  },
  {
   "cell_type": "code",
   "execution_count": 112,
   "metadata": {
    "collapsed": false
   },
   "outputs": [
    {
     "data": {
      "text/plain": [
       "'UTF-8'"
      ]
     },
     "execution_count": 112,
     "metadata": {},
     "output_type": "execute_result"
    }
   ],
   "source": [
    "f.encoding"
   ]
  },
  {
   "cell_type": "code",
   "execution_count": 113,
   "metadata": {
    "collapsed": false
   },
   "outputs": [
    {
     "data": {
      "text/plain": [
       "'test.txt'"
      ]
     },
     "execution_count": 113,
     "metadata": {},
     "output_type": "execute_result"
    }
   ],
   "source": [
    "f.name"
   ]
  },
  {
   "cell_type": "code",
   "execution_count": 114,
   "metadata": {
    "collapsed": false
   },
   "outputs": [
    {
     "data": {
      "text/plain": [
       "'\\n'"
      ]
     },
     "execution_count": 114,
     "metadata": {},
     "output_type": "execute_result"
    }
   ],
   "source": [
    "f.newlines"
   ]
  },
  {
   "cell_type": "code",
   "execution_count": 115,
   "metadata": {
    "collapsed": true
   },
   "outputs": [],
   "source": [
    "f.close()"
   ]
  },
  {
   "cell_type": "code",
   "execution_count": 116,
   "metadata": {
    "collapsed": true
   },
   "outputs": [],
   "source": [
    "import os"
   ]
  },
  {
   "cell_type": "code",
   "execution_count": 122,
   "metadata": {
    "collapsed": false
   },
   "outputs": [
    {
     "data": {
      "text/plain": [
       "True"
      ]
     },
     "execution_count": 122,
     "metadata": {},
     "output_type": "execute_result"
    }
   ],
   "source": [
    "os.path.isdir('20161031')"
   ]
  },
  {
   "cell_type": "code",
   "execution_count": 123,
   "metadata": {
    "collapsed": false
   },
   "outputs": [],
   "source": [
    "os.chdir('20161031')"
   ]
  },
  {
   "cell_type": "code",
   "execution_count": 124,
   "metadata": {
    "collapsed": false
   },
   "outputs": [
    {
     "data": {
      "text/plain": [
       "'/home/siyi/study/python/20161031'"
      ]
     },
     "execution_count": 124,
     "metadata": {},
     "output_type": "execute_result"
    }
   ],
   "source": [
    "os.getcwd()"
   ]
  },
  {
   "cell_type": "code",
   "execution_count": 126,
   "metadata": {
    "collapsed": false
   },
   "outputs": [
    {
     "data": {
      "text/plain": [
       "['SHGRP.ST_GRP_NEW_OWE_LIST_DM.xml',\n",
       " 'SHGRP.ST_GRP_WLW_ZK_KPI_INFO_MM.xml',\n",
       " 'SHGRP.ST_GRP_LLTF_CM_AREA_MM.xml']"
      ]
     },
     "execution_count": 126,
     "metadata": {},
     "output_type": "execute_result"
    }
   ],
   "source": [
    "os.listdir()[:3]"
   ]
  },
  {
   "cell_type": "code",
   "execution_count": 2,
   "metadata": {
    "collapsed": false
   },
   "outputs": [],
   "source": [
    "with open('dianping.py','r') as f:\n",
    "    alist=f.readlines()"
   ]
  },
  {
   "cell_type": "code",
   "execution_count": null,
   "metadata": {
    "collapsed": false
   },
   "outputs": [],
   "source": [
    "for line in alist:\n",
    "    if not line.startswith('#'):\n",
    "        print(line)"
   ]
  },
  {
   "cell_type": "code",
   "execution_count": 7,
   "metadata": {
    "collapsed": false
   },
   "outputs": [
    {
     "data": {
      "text/plain": [
       "True"
      ]
     },
     "execution_count": 7,
     "metadata": {},
     "output_type": "execute_result"
    }
   ],
   "source": [
    "'siyi'.startswith('s')"
   ]
  },
  {
   "cell_type": "code",
   "execution_count": 1,
   "metadata": {
    "collapsed": false
   },
   "outputs": [],
   "source": [
    "a=[1,2,3,4,5]"
   ]
  },
  {
   "cell_type": "code",
   "execution_count": 2,
   "metadata": {
    "collapsed": false
   },
   "outputs": [
    {
     "data": {
      "text/plain": [
       "[3, 4]"
      ]
     },
     "execution_count": 2,
     "metadata": {},
     "output_type": "execute_result"
    }
   ],
   "source": [
    "a[2:-1]"
   ]
  },
  {
   "cell_type": "code",
   "execution_count": 4,
   "metadata": {
    "collapsed": false
   },
   "outputs": [
    {
     "data": {
      "text/plain": [
       "[]"
      ]
     },
     "execution_count": 4,
     "metadata": {},
     "output_type": "execute_result"
    }
   ],
   "source": [
    "list(range(5,5))"
   ]
  },
  {
   "cell_type": "code",
   "execution_count": 23,
   "metadata": {
    "collapsed": false
   },
   "outputs": [],
   "source": []
  },
  {
   "cell_type": "code",
   "execution_count": 25,
   "metadata": {
    "collapsed": false
   },
   "outputs": [
    {
     "data": {
      "text/plain": [
       "(8, 4)"
      ]
     },
     "execution_count": 25,
     "metadata": {},
     "output_type": "execute_result"
    }
   ],
   "source": []
  },
  {
   "cell_type": "code",
   "execution_count": 26,
   "metadata": {
    "collapsed": false
   },
   "outputs": [],
   "source": []
  },
  {
   "cell_type": "code",
   "execution_count": 27,
   "metadata": {
    "collapsed": true
   },
   "outputs": [],
   "source": []
  },
  {
   "cell_type": "code",
   "execution_count": 28,
   "metadata": {
    "collapsed": false
   },
   "outputs": [
    {
     "name": "stdout",
     "output_type": "stream",
     "text": [
      "1:27\n"
     ]
    }
   ],
   "source": []
  },
  {
   "cell_type": "code",
   "execution_count": 29,
   "metadata": {
    "collapsed": true
   },
   "outputs": [],
   "source": []
  },
  {
   "cell_type": "code",
   "execution_count": 32,
   "metadata": {
    "collapsed": false
   },
   "outputs": [
    {
     "name": "stdout",
     "output_type": "stream",
     "text": [
      "0:0:0\n"
     ]
    }
   ],
   "source": []
  },
  {
   "cell_type": "code",
   "execution_count": 49,
   "metadata": {
    "collapsed": true
   },
   "outputs": [],
   "source": []
  },
  {
   "cell_type": "code",
   "execution_count": 50,
   "metadata": {
    "collapsed": false
   },
   "outputs": [
    {
     "data": {
      "text/plain": [
       "[(1, 'abc'), (2, 'def'), (3, 'ghi')]"
      ]
     },
     "execution_count": 50,
     "metadata": {},
     "output_type": "execute_result"
    }
   ],
   "source": []
  },
  {
   "cell_type": "code",
   "execution_count": 52,
   "metadata": {
    "collapsed": false
   },
   "outputs": [],
   "source": []
  },
  {
   "cell_type": "code",
   "execution_count": 54,
   "metadata": {
    "collapsed": false
   },
   "outputs": [
    {
     "data": {
      "text/plain": [
       "[(1, 'abc'), (2, 'def'), (3, 'ghi')]"
      ]
     },
     "execution_count": 54,
     "metadata": {},
     "output_type": "execute_result"
    }
   ],
   "source": []
  },
  {
   "cell_type": "code",
   "execution_count": null,
   "metadata": {
    "collapsed": true
   },
   "outputs": [],
   "source": []
  }
 ],
 "metadata": {
  "kernelspec": {
   "display_name": "Python 3",
   "language": "python",
   "name": "python3"
  },
  "language_info": {
   "codemirror_mode": {
    "name": "ipython",
    "version": 3
   },
   "file_extension": ".py",
   "mimetype": "text/x-python",
   "name": "python",
   "nbconvert_exporter": "python",
   "pygments_lexer": "ipython3",
   "version": "3.5.2"
  }
 },
 "nbformat": 4,
 "nbformat_minor": 1
}
