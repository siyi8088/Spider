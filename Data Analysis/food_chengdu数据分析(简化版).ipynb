{
 "cells": [
  {
   "cell_type": "code",
   "execution_count": 2,
   "metadata": {
    "collapsed": true
   },
   "outputs": [],
   "source": [
    "import pandas as pd\n",
    "import numpy as np\n",
    "from pandas import Series,DataFrame\n",
    "import pandas.io.sql as sql"
   ]
  },
  {
   "cell_type": "code",
   "execution_count": 3,
   "metadata": {
    "collapsed": false
   },
   "outputs": [],
   "source": [
    "import pymysql\n",
    "%matplotlib inline\n",
    "import matplotlib.pyplot as plt\n",
    "import matplotlib\n",
    "matplotlib.style.use('ggplot')"
   ]
  },
  {
   "cell_type": "code",
   "execution_count": 4,
   "metadata": {
    "collapsed": true
   },
   "outputs": [],
   "source": [
    "conn=pymysql.connect(user='root',password='siyi01',database='dzdp',charset='utf8')"
   ]
  },
  {
   "cell_type": "code",
   "execution_count": 5,
   "metadata": {
    "collapsed": true
   },
   "outputs": [],
   "source": [
    "data=sql.read_sql('select * from food_chengdu',conn)"
   ]
  },
  {
   "cell_type": "code",
   "execution_count": 6,
   "metadata": {
    "collapsed": false
   },
   "outputs": [
    {
     "data": {
      "text/plain": [
       "Index(['ID', 'shop', 'area', 'addr', 'category', 'review_num', 'mean_price',\n",
       "       'taste', 'env', 'serve'],\n",
       "      dtype='object')"
      ]
     },
     "execution_count": 6,
     "metadata": {},
     "output_type": "execute_result"
    }
   ],
   "source": [
    "data.columns"
   ]
  },
  {
   "cell_type": "code",
   "execution_count": 10,
   "metadata": {
    "collapsed": false
   },
   "outputs": [],
   "source": [
    "hot_shops=data[data.review_num>0]    #评论数大于0的餐厅\n",
    "cool_shops=data[data.review_num==0]   #评论数为0的餐厅"
   ]
  },
  {
   "cell_type": "code",
   "execution_count": 11,
   "metadata": {
    "collapsed": false
   },
   "outputs": [
    {
     "data": {
      "text/plain": [
       "(79238, 40950, 38288)"
      ]
     },
     "execution_count": 11,
     "metadata": {},
     "output_type": "execute_result"
    }
   ],
   "source": [
    "len(data),len(hot_shops),len(cool_shops)"
   ]
  },
  {
   "cell_type": "code",
   "execution_count": 12,
   "metadata": {
    "collapsed": false
   },
   "outputs": [
    {
     "data": {
      "text/plain": [
       "289"
      ]
     },
     "execution_count": 12,
     "metadata": {},
     "output_type": "execute_result"
    }
   ],
   "source": [
    "len(np.unique(data.area))  #总共289个小地区"
   ]
  },
  {
   "cell_type": "code",
   "execution_count": 13,
   "metadata": {
    "collapsed": false
   },
   "outputs": [
    {
     "data": {
      "text/plain": [
       "20"
      ]
     },
     "execution_count": 13,
     "metadata": {},
     "output_type": "execute_result"
    }
   ],
   "source": [
    "len(np.unique(data.category))   #总共20个分类"
   ]
  },
  {
   "cell_type": "code",
   "execution_count": 14,
   "metadata": {
    "collapsed": false
   },
   "outputs": [
    {
     "data": {
      "text/html": [
       "<div>\n",
       "<table border=\"1\" class=\"dataframe\">\n",
       "  <thead>\n",
       "    <tr style=\"text-align: right;\">\n",
       "      <th></th>\n",
       "      <th>ID</th>\n",
       "      <th>shop</th>\n",
       "      <th>area</th>\n",
       "      <th>addr</th>\n",
       "      <th>category</th>\n",
       "      <th>review_num</th>\n",
       "      <th>mean_price</th>\n",
       "      <th>taste</th>\n",
       "      <th>env</th>\n",
       "      <th>serve</th>\n",
       "    </tr>\n",
       "  </thead>\n",
       "  <tbody>\n",
       "    <tr>\n",
       "      <th>62398</th>\n",
       "      <td>62402</td>\n",
       "      <td>蓝色加勒比海岸</td>\n",
       "      <td>科华北路</td>\n",
       "      <td>科华北路143号蓝色加勒比广场内</td>\n",
       "      <td>酒吧</td>\n",
       "      <td>21</td>\n",
       "      <td>7571</td>\n",
       "      <td>0.0</td>\n",
       "      <td>0.0</td>\n",
       "      <td>0.0</td>\n",
       "    </tr>\n",
       "  </tbody>\n",
       "</table>\n",
       "</div>"
      ],
      "text/plain": [
       "          ID     shop  area              addr category  review_num  \\\n",
       "62398  62402  蓝色加勒比海岸  科华北路  科华北路143号蓝色加勒比广场内       酒吧          21   \n",
       "\n",
       "       mean_price  taste  env  serve  \n",
       "62398        7571    0.0  0.0    0.0  "
      ]
     },
     "execution_count": 14,
     "metadata": {},
     "output_type": "execute_result"
    }
   ],
   "source": [
    "#人均最贵的餐厅\n",
    "max_mean_price=hot_shops[hot_shops.mean_price==max(hot_shops.mean_price)]\n",
    "max_mean_price"
   ]
  },
  {
   "cell_type": "code",
   "execution_count": 15,
   "metadata": {
    "collapsed": false,
    "scrolled": true
   },
   "outputs": [],
   "source": [
    "#味道最好的餐厅\n",
    "best_taste=hot_shops[hot_shops.taste==max(hot_shops.taste)]"
   ]
  },
  {
   "cell_type": "code",
   "execution_count": 14,
   "metadata": {
    "collapsed": false,
    "scrolled": true
   },
   "outputs": [
    {
     "data": {
      "text/html": [
       "<div>\n",
       "<table border=\"1\" class=\"dataframe\">\n",
       "  <thead>\n",
       "    <tr style=\"text-align: right;\">\n",
       "      <th></th>\n",
       "      <th>ID</th>\n",
       "      <th>shop</th>\n",
       "      <th>area</th>\n",
       "      <th>addr</th>\n",
       "      <th>category</th>\n",
       "      <th>review_num</th>\n",
       "      <th>mean_price</th>\n",
       "      <th>taste</th>\n",
       "      <th>env</th>\n",
       "      <th>serve</th>\n",
       "    </tr>\n",
       "  </thead>\n",
       "  <tbody>\n",
       "    <tr>\n",
       "      <th>1657</th>\n",
       "      <td>6265</td>\n",
       "      <td>乐山王屠户跷脚牛肉</td>\n",
       "      <td>华阳</td>\n",
       "      <td>安公路二段356-358号</td>\n",
       "      <td>火锅</td>\n",
       "      <td>952</td>\n",
       "      <td>44</td>\n",
       "      <td>9.2</td>\n",
       "      <td>8.7</td>\n",
       "      <td>9.1</td>\n",
       "    </tr>\n",
       "    <tr>\n",
       "      <th>2556</th>\n",
       "      <td>10010</td>\n",
       "      <td>俏媳妇火锅在成都一定要吃的火锅</td>\n",
       "      <td>宽窄巷子</td>\n",
       "      <td>下同仁路支矶石街28号</td>\n",
       "      <td>火锅</td>\n",
       "      <td>2491</td>\n",
       "      <td>94</td>\n",
       "      <td>9.2</td>\n",
       "      <td>9.1</td>\n",
       "      <td>9.1</td>\n",
       "    </tr>\n",
       "    <tr>\n",
       "      <th>2862</th>\n",
       "      <td>11034</td>\n",
       "      <td>六年二班串串(红牌楼校区)</td>\n",
       "      <td>红牌楼</td>\n",
       "      <td>二环路南四段48号104室</td>\n",
       "      <td>串串香</td>\n",
       "      <td>163</td>\n",
       "      <td>44</td>\n",
       "      <td>9.2</td>\n",
       "      <td>9.2</td>\n",
       "      <td>9.3</td>\n",
       "    </tr>\n",
       "    <tr>\n",
       "      <th>2880</th>\n",
       "      <td>11083</td>\n",
       "      <td>兰亭金汤(银滩金汤)</td>\n",
       "      <td>高新区</td>\n",
       "      <td>高新区天府大道锦晖东街200号圣帝雅酒店2楼</td>\n",
       "      <td>火锅</td>\n",
       "      <td>842</td>\n",
       "      <td>108</td>\n",
       "      <td>9.2</td>\n",
       "      <td>9.2</td>\n",
       "      <td>9.2</td>\n",
       "    </tr>\n",
       "    <tr>\n",
       "      <th>6894</th>\n",
       "      <td>29160</td>\n",
       "      <td>山里来口袋鸭</td>\n",
       "      <td>高升桥</td>\n",
       "      <td>内双楠广福桥北街6号附3号</td>\n",
       "      <td>火锅</td>\n",
       "      <td>64</td>\n",
       "      <td>58</td>\n",
       "      <td>9.2</td>\n",
       "      <td>9.1</td>\n",
       "      <td>9.2</td>\n",
       "    </tr>\n",
       "    <tr>\n",
       "      <th>7564</th>\n",
       "      <td>31548</td>\n",
       "      <td>庶民居中餐馆(花土店)</td>\n",
       "      <td>温江区其他</td>\n",
       "      <td>共和路18号</td>\n",
       "      <td>川菜</td>\n",
       "      <td>136</td>\n",
       "      <td>44</td>\n",
       "      <td>9.2</td>\n",
       "      <td>9.1</td>\n",
       "      <td>9.1</td>\n",
       "    </tr>\n",
       "    <tr>\n",
       "      <th>9073</th>\n",
       "      <td>36999</td>\n",
       "      <td>时光串说冷锅串串</td>\n",
       "      <td>四川师大</td>\n",
       "      <td>静安路7号校园广场1楼</td>\n",
       "      <td>串串香</td>\n",
       "      <td>278</td>\n",
       "      <td>37</td>\n",
       "      <td>9.2</td>\n",
       "      <td>9.2</td>\n",
       "      <td>9.2</td>\n",
       "    </tr>\n",
       "    <tr>\n",
       "      <th>12677</th>\n",
       "      <td>50955</td>\n",
       "      <td>盖帮市井串串</td>\n",
       "      <td>李家沱</td>\n",
       "      <td>马鞍南路内曹家巷6号附7-8号</td>\n",
       "      <td>串串香</td>\n",
       "      <td>59</td>\n",
       "      <td>45</td>\n",
       "      <td>9.2</td>\n",
       "      <td>8.5</td>\n",
       "      <td>9.1</td>\n",
       "    </tr>\n",
       "    <tr>\n",
       "      <th>13629</th>\n",
       "      <td>54493</td>\n",
       "      <td>红盛渝味老火锅</td>\n",
       "      <td>营门口</td>\n",
       "      <td>抚琴营通街139号</td>\n",
       "      <td>火锅</td>\n",
       "      <td>109</td>\n",
       "      <td>62</td>\n",
       "      <td>9.2</td>\n",
       "      <td>8.7</td>\n",
       "      <td>9.1</td>\n",
       "    </tr>\n",
       "    <tr>\n",
       "      <th>15763</th>\n",
       "      <td>62885</td>\n",
       "      <td>蜀串香厕所串串(总店)</td>\n",
       "      <td>武侯祠</td>\n",
       "      <td>蜀汉街10号附1号1层5.6号</td>\n",
       "      <td>串串香</td>\n",
       "      <td>550</td>\n",
       "      <td>39</td>\n",
       "      <td>9.2</td>\n",
       "      <td>8.8</td>\n",
       "      <td>9.1</td>\n",
       "    </tr>\n",
       "    <tr>\n",
       "      <th>16014</th>\n",
       "      <td>63654</td>\n",
       "      <td>蜂房f.fan秘社(高空餐饮酒吧)</td>\n",
       "      <td>春熙路</td>\n",
       "      <td>大慈寺3号朗御2单元2906</td>\n",
       "      <td>私房菜</td>\n",
       "      <td>189</td>\n",
       "      <td>92</td>\n",
       "      <td>9.2</td>\n",
       "      <td>9.2</td>\n",
       "      <td>9.1</td>\n",
       "    </tr>\n",
       "  </tbody>\n",
       "</table>\n",
       "</div>"
      ],
      "text/plain": [
       "          ID               shop   area                    addr category  \\\n",
       "1657    6265          乐山王屠户跷脚牛肉     华阳           安公路二段356-358号       火锅   \n",
       "2556   10010    俏媳妇火锅在成都一定要吃的火锅   宽窄巷子             下同仁路支矶石街28号       火锅   \n",
       "2862   11034      六年二班串串(红牌楼校区)    红牌楼           二环路南四段48号104室      串串香   \n",
       "2880   11083         兰亭金汤(银滩金汤)    高新区  高新区天府大道锦晖东街200号圣帝雅酒店2楼       火锅   \n",
       "6894   29160             山里来口袋鸭    高升桥           内双楠广福桥北街6号附3号       火锅   \n",
       "7564   31548        庶民居中餐馆(花土店)  温江区其他                  共和路18号       川菜   \n",
       "9073   36999           时光串说冷锅串串   四川师大             静安路7号校园广场1楼      串串香   \n",
       "12677  50955             盖帮市井串串    李家沱         马鞍南路内曹家巷6号附7-8号      串串香   \n",
       "13629  54493            红盛渝味老火锅    营门口               抚琴营通街139号       火锅   \n",
       "15763  62885        蜀串香厕所串串(总店)    武侯祠         蜀汉街10号附1号1层5.6号      串串香   \n",
       "16014  63654  蜂房f.fan秘社(高空餐饮酒吧)    春熙路          大慈寺3号朗御2单元2906      私房菜   \n",
       "\n",
       "       review_num  mean_price  taste  env  serve  \n",
       "1657          952          44    9.2  8.7    9.1  \n",
       "2556         2491          94    9.2  9.1    9.1  \n",
       "2862          163          44    9.2  9.2    9.3  \n",
       "2880          842         108    9.2  9.2    9.2  \n",
       "6894           64          58    9.2  9.1    9.2  \n",
       "7564          136          44    9.2  9.1    9.1  \n",
       "9073          278          37    9.2  9.2    9.2  \n",
       "12677          59          45    9.2  8.5    9.1  \n",
       "13629         109          62    9.2  8.7    9.1  \n",
       "15763         550          39    9.2  8.8    9.1  \n",
       "16014         189          92    9.2  9.2    9.1  "
      ]
     },
     "execution_count": 14,
     "metadata": {},
     "output_type": "execute_result"
    }
   ],
   "source": [
    "best_taste"
   ]
  },
  {
   "cell_type": "code",
   "execution_count": 16,
   "metadata": {
    "collapsed": false,
    "scrolled": true
   },
   "outputs": [
    {
     "data": {
      "text/html": [
       "<div>\n",
       "<table border=\"1\" class=\"dataframe\">\n",
       "  <thead>\n",
       "    <tr style=\"text-align: right;\">\n",
       "      <th></th>\n",
       "      <th>shop</th>\n",
       "    </tr>\n",
       "    <tr>\n",
       "      <th>category</th>\n",
       "      <th></th>\n",
       "    </tr>\n",
       "  </thead>\n",
       "  <tbody>\n",
       "    <tr>\n",
       "      <th>串串香</th>\n",
       "      <td>4</td>\n",
       "    </tr>\n",
       "    <tr>\n",
       "      <th>川菜</th>\n",
       "      <td>1</td>\n",
       "    </tr>\n",
       "    <tr>\n",
       "      <th>火锅</th>\n",
       "      <td>5</td>\n",
       "    </tr>\n",
       "    <tr>\n",
       "      <th>私房菜</th>\n",
       "      <td>1</td>\n",
       "    </tr>\n",
       "  </tbody>\n",
       "</table>\n",
       "</div>"
      ],
      "text/plain": [
       "          shop\n",
       "category      \n",
       "串串香          4\n",
       "川菜           1\n",
       "火锅           5\n",
       "私房菜          1"
      ]
     },
     "execution_count": 16,
     "metadata": {},
     "output_type": "execute_result"
    }
   ],
   "source": [
    "DataFrame(best_taste.groupby('category')['shop'].count())"
   ]
  },
  {
   "cell_type": "code",
   "execution_count": 16,
   "metadata": {
    "collapsed": true
   },
   "outputs": [],
   "source": [
    "#麻辣是成都最盛行的味道~"
   ]
  },
  {
   "cell_type": "code",
   "execution_count": 17,
   "metadata": {
    "collapsed": false,
    "scrolled": true
   },
   "outputs": [
    {
     "data": {
      "text/html": [
       "<div>\n",
       "<table border=\"1\" class=\"dataframe\">\n",
       "  <thead>\n",
       "    <tr style=\"text-align: right;\">\n",
       "      <th></th>\n",
       "      <th>ID</th>\n",
       "      <th>shop</th>\n",
       "      <th>area</th>\n",
       "      <th>addr</th>\n",
       "      <th>category</th>\n",
       "      <th>review_num</th>\n",
       "      <th>mean_price</th>\n",
       "      <th>taste</th>\n",
       "      <th>env</th>\n",
       "      <th>serve</th>\n",
       "    </tr>\n",
       "  </thead>\n",
       "  <tbody>\n",
       "    <tr>\n",
       "      <th>50043</th>\n",
       "      <td>50047</td>\n",
       "      <td>留园渝派火锅</td>\n",
       "      <td>府南新区</td>\n",
       "      <td>同盛路12号</td>\n",
       "      <td>火锅</td>\n",
       "      <td>78</td>\n",
       "      <td>76</td>\n",
       "      <td>9.1</td>\n",
       "      <td>9.4</td>\n",
       "      <td>9.1</td>\n",
       "    </tr>\n",
       "  </tbody>\n",
       "</table>\n",
       "</div>"
      ],
      "text/plain": [
       "          ID    shop  area    addr category  review_num  mean_price  taste  \\\n",
       "50043  50047  留园渝派火锅  府南新区  同盛路12号       火锅          78          76    9.1   \n",
       "\n",
       "       env  serve  \n",
       "50043  9.4    9.1  "
      ]
     },
     "execution_count": 17,
     "metadata": {},
     "output_type": "execute_result"
    }
   ],
   "source": [
    "#环境最好的餐厅\n",
    "best_env=hot_shops[hot_shops.env==max(hot_shops.env)]\n",
    "best_env"
   ]
  },
  {
   "cell_type": "code",
   "execution_count": 18,
   "metadata": {
    "collapsed": false
   },
   "outputs": [
    {
     "data": {
      "text/html": [
       "<div>\n",
       "<table border=\"1\" class=\"dataframe\">\n",
       "  <thead>\n",
       "    <tr style=\"text-align: right;\">\n",
       "      <th></th>\n",
       "      <th>ID</th>\n",
       "      <th>shop</th>\n",
       "      <th>area</th>\n",
       "      <th>addr</th>\n",
       "      <th>category</th>\n",
       "      <th>review_num</th>\n",
       "      <th>mean_price</th>\n",
       "      <th>taste</th>\n",
       "      <th>env</th>\n",
       "      <th>serve</th>\n",
       "    </tr>\n",
       "  </thead>\n",
       "  <tbody>\n",
       "    <tr>\n",
       "      <th>50043</th>\n",
       "      <td>50047</td>\n",
       "      <td>留园渝派火锅</td>\n",
       "      <td>府南新区</td>\n",
       "      <td>同盛路12号</td>\n",
       "      <td>火锅</td>\n",
       "      <td>78</td>\n",
       "      <td>76</td>\n",
       "      <td>9.1</td>\n",
       "      <td>9.4</td>\n",
       "      <td>9.1</td>\n",
       "    </tr>\n",
       "    <tr>\n",
       "      <th>65876</th>\n",
       "      <td>65880</td>\n",
       "      <td>辣妈圈火锅</td>\n",
       "      <td>一品天下大街</td>\n",
       "      <td>一品天下131号附195号二楼</td>\n",
       "      <td>火锅</td>\n",
       "      <td>637</td>\n",
       "      <td>72</td>\n",
       "      <td>9.0</td>\n",
       "      <td>9.3</td>\n",
       "      <td>9.1</td>\n",
       "    </tr>\n",
       "    <tr>\n",
       "      <th>70431</th>\n",
       "      <td>70435</td>\n",
       "      <td>钦诺巴不丹素食世界(双楠店)</td>\n",
       "      <td>双楠</td>\n",
       "      <td>盛丰路71号</td>\n",
       "      <td>其他</td>\n",
       "      <td>94</td>\n",
       "      <td>79</td>\n",
       "      <td>9.1</td>\n",
       "      <td>9.3</td>\n",
       "      <td>9.2</td>\n",
       "    </tr>\n",
       "    <tr>\n",
       "      <th>14259</th>\n",
       "      <td>14263</td>\n",
       "      <td>华道钰善阁</td>\n",
       "      <td>高新区</td>\n",
       "      <td>盛邦街88号16栋1-8号楼</td>\n",
       "      <td>其他</td>\n",
       "      <td>87</td>\n",
       "      <td>218</td>\n",
       "      <td>8.8</td>\n",
       "      <td>9.3</td>\n",
       "      <td>9.2</td>\n",
       "    </tr>\n",
       "    <tr>\n",
       "      <th>75824</th>\n",
       "      <td>75828</td>\n",
       "      <td>馨·享270°</td>\n",
       "      <td>春熙路</td>\n",
       "      <td>大慈寺路朗御大厦2单元4004号</td>\n",
       "      <td>川菜</td>\n",
       "      <td>116</td>\n",
       "      <td>240</td>\n",
       "      <td>9.1</td>\n",
       "      <td>9.3</td>\n",
       "      <td>9.3</td>\n",
       "    </tr>\n",
       "  </tbody>\n",
       "</table>\n",
       "</div>"
      ],
      "text/plain": [
       "          ID            shop    area              addr category  review_num  \\\n",
       "50043  50047          留园渝派火锅    府南新区            同盛路12号       火锅          78   \n",
       "65876  65880           辣妈圈火锅  一品天下大街   一品天下131号附195号二楼       火锅         637   \n",
       "70431  70435  钦诺巴不丹素食世界(双楠店)      双楠            盛丰路71号       其他          94   \n",
       "14259  14263           华道钰善阁     高新区    盛邦街88号16栋1-8号楼       其他          87   \n",
       "75824  75828         馨·享270°     春熙路  大慈寺路朗御大厦2单元4004号       川菜         116   \n",
       "\n",
       "       mean_price  taste  env  serve  \n",
       "50043          76    9.1  9.4    9.1  \n",
       "65876          72    9.0  9.3    9.1  \n",
       "70431          79    9.1  9.3    9.2  \n",
       "14259         218    8.8  9.3    9.2  \n",
       "75824         240    9.1  9.3    9.3  "
      ]
     },
     "execution_count": 18,
     "metadata": {},
     "output_type": "execute_result"
    }
   ],
   "source": [
    "#-----竟然是火锅..什么西餐,他国料理呢? 那我们来看看前5名吧. \n",
    "#依然上不了榜..啧啧.\n",
    "top5_env=hot_shops.sort_values('env',ascending=False)[:5]\n",
    "top5_env"
   ]
  },
  {
   "cell_type": "code",
   "execution_count": 19,
   "metadata": {
    "collapsed": false
   },
   "outputs": [
    {
     "data": {
      "text/html": [
       "<div>\n",
       "<table border=\"1\" class=\"dataframe\">\n",
       "  <thead>\n",
       "    <tr style=\"text-align: right;\">\n",
       "      <th></th>\n",
       "      <th>ID</th>\n",
       "      <th>shop</th>\n",
       "      <th>area</th>\n",
       "      <th>addr</th>\n",
       "      <th>category</th>\n",
       "      <th>review_num</th>\n",
       "      <th>mean_price</th>\n",
       "      <th>taste</th>\n",
       "      <th>env</th>\n",
       "      <th>serve</th>\n",
       "    </tr>\n",
       "  </thead>\n",
       "  <tbody>\n",
       "    <tr>\n",
       "      <th>44175</th>\n",
       "      <td>44179</td>\n",
       "      <td>海底捞火锅(龙湖三千集店)</td>\n",
       "      <td>建设路</td>\n",
       "      <td>建设北路三段2号龙湖三千集3层</td>\n",
       "      <td>火锅</td>\n",
       "      <td>560</td>\n",
       "      <td>104</td>\n",
       "      <td>8.7</td>\n",
       "      <td>9.2</td>\n",
       "      <td>9.4</td>\n",
       "    </tr>\n",
       "  </tbody>\n",
       "</table>\n",
       "</div>"
      ],
      "text/plain": [
       "          ID           shop area             addr category  review_num  \\\n",
       "44175  44179  海底捞火锅(龙湖三千集店)  建设路  建设北路三段2号龙湖三千集3层       火锅         560   \n",
       "\n",
       "       mean_price  taste  env  serve  \n",
       "44175         104    8.7  9.2    9.4  "
      ]
     },
     "execution_count": 19,
     "metadata": {},
     "output_type": "execute_result"
    }
   ],
   "source": [
    "#服务最好的餐厅..依然是火锅..这里是火锅的天堂么~\n",
    "best_serve=hot_shops[hot_shops.serve==max(hot_shops.serve)]\n",
    "best_serve"
   ]
  },
  {
   "cell_type": "code",
   "execution_count": 20,
   "metadata": {
    "collapsed": false,
    "scrolled": true
   },
   "outputs": [
    {
     "data": {
      "text/html": [
       "<div>\n",
       "<table border=\"1\" class=\"dataframe\">\n",
       "  <thead>\n",
       "    <tr style=\"text-align: right;\">\n",
       "      <th></th>\n",
       "      <th>ID</th>\n",
       "      <th>shop</th>\n",
       "      <th>area</th>\n",
       "      <th>addr</th>\n",
       "      <th>category</th>\n",
       "      <th>review_num</th>\n",
       "      <th>mean_price</th>\n",
       "      <th>taste</th>\n",
       "      <th>env</th>\n",
       "      <th>serve</th>\n",
       "    </tr>\n",
       "  </thead>\n",
       "  <tbody>\n",
       "    <tr>\n",
       "      <th>28534</th>\n",
       "      <td>28538</td>\n",
       "      <td>小龙坎老火锅(春熙店)</td>\n",
       "      <td>春熙路</td>\n",
       "      <td>下东大街36号郁金香广场2F</td>\n",
       "      <td>火锅</td>\n",
       "      <td>8641</td>\n",
       "      <td>82</td>\n",
       "      <td>0.0</td>\n",
       "      <td>0.0</td>\n",
       "      <td>0.0</td>\n",
       "    </tr>\n",
       "  </tbody>\n",
       "</table>\n",
       "</div>"
      ],
      "text/plain": [
       "          ID         shop area            addr category  review_num  \\\n",
       "28534  28538  小龙坎老火锅(春熙店)  春熙路  下东大街36号郁金香广场2F       火锅        8641   \n",
       "\n",
       "       mean_price  taste  env  serve  \n",
       "28534          82    0.0  0.0    0.0  "
      ]
     },
     "execution_count": 20,
     "metadata": {},
     "output_type": "execute_result"
    }
   ],
   "source": [
    "#最火的餐厅（按评论数最多计）..当然,已经毫无疑问了..毕竟是火锅的天下\n",
    "max_review_num=hot_shops[hot_shops.review_num==max(hot_shops.review_num)]\n",
    "max_review_num"
   ]
  },
  {
   "cell_type": "code",
   "execution_count": 27,
   "metadata": {
    "collapsed": false,
    "scrolled": false
   },
   "outputs": [
    {
     "data": {
      "text/html": [
       "<div>\n",
       "<table border=\"1\" class=\"dataframe\">\n",
       "  <thead>\n",
       "    <tr style=\"text-align: right;\">\n",
       "      <th></th>\n",
       "      <th>review_num</th>\n",
       "      <th>shop_hot</th>\n",
       "      <th>shop_cool</th>\n",
       "      <th>pct_cool</th>\n",
       "    </tr>\n",
       "    <tr>\n",
       "      <th>category</th>\n",
       "      <th></th>\n",
       "      <th></th>\n",
       "      <th></th>\n",
       "      <th></th>\n",
       "    </tr>\n",
       "  </thead>\n",
       "  <tbody>\n",
       "    <tr>\n",
       "      <th>DIY手工坊</th>\n",
       "      <td>36.166667</td>\n",
       "      <td>6</td>\n",
       "      <td>0.0</td>\n",
       "      <td>0.000000</td>\n",
       "    </tr>\n",
       "    <tr>\n",
       "      <th>东南亚菜</th>\n",
       "      <td>141.000000</td>\n",
       "      <td>2</td>\n",
       "      <td>0.0</td>\n",
       "      <td>0.000000</td>\n",
       "    </tr>\n",
       "    <tr>\n",
       "      <th>串串香</th>\n",
       "      <td>47.281185</td>\n",
       "      <td>1451</td>\n",
       "      <td>1065.0</td>\n",
       "      <td>0.423291</td>\n",
       "    </tr>\n",
       "    <tr>\n",
       "      <th>其他</th>\n",
       "      <td>57.684541</td>\n",
       "      <td>2387</td>\n",
       "      <td>5822.0</td>\n",
       "      <td>0.709222</td>\n",
       "    </tr>\n",
       "    <tr>\n",
       "      <th>咖啡厅</th>\n",
       "      <td>147.117647</td>\n",
       "      <td>34</td>\n",
       "      <td>2.0</td>\n",
       "      <td>0.055556</td>\n",
       "    </tr>\n",
       "    <tr>\n",
       "      <th>小吃快餐</th>\n",
       "      <td>20.419727</td>\n",
       "      <td>16749</td>\n",
       "      <td>17175.0</td>\n",
       "      <td>0.506279</td>\n",
       "    </tr>\n",
       "    <tr>\n",
       "      <th>川菜</th>\n",
       "      <td>59.039262</td>\n",
       "      <td>6724</td>\n",
       "      <td>4873.0</td>\n",
       "      <td>0.420195</td>\n",
       "    </tr>\n",
       "    <tr>\n",
       "      <th>日本料理</th>\n",
       "      <td>590.800000</td>\n",
       "      <td>5</td>\n",
       "      <td>0.0</td>\n",
       "      <td>0.000000</td>\n",
       "    </tr>\n",
       "    <tr>\n",
       "      <th>海鲜</th>\n",
       "      <td>276.142857</td>\n",
       "      <td>14</td>\n",
       "      <td>2.0</td>\n",
       "      <td>0.125000</td>\n",
       "    </tr>\n",
       "    <tr>\n",
       "      <th>清真菜</th>\n",
       "      <td>19.000000</td>\n",
       "      <td>1</td>\n",
       "      <td>0.0</td>\n",
       "      <td>0.000000</td>\n",
       "    </tr>\n",
       "    <tr>\n",
       "      <th>火锅</th>\n",
       "      <td>97.002698</td>\n",
       "      <td>5930</td>\n",
       "      <td>4140.0</td>\n",
       "      <td>0.411122</td>\n",
       "    </tr>\n",
       "    <tr>\n",
       "      <th>烧烤</th>\n",
       "      <td>179.933333</td>\n",
       "      <td>30</td>\n",
       "      <td>13.0</td>\n",
       "      <td>0.302326</td>\n",
       "    </tr>\n",
       "    <tr>\n",
       "      <th>私房菜</th>\n",
       "      <td>148.714286</td>\n",
       "      <td>14</td>\n",
       "      <td>0.0</td>\n",
       "      <td>0.000000</td>\n",
       "    </tr>\n",
       "    <tr>\n",
       "      <th>粤菜</th>\n",
       "      <td>160.897143</td>\n",
       "      <td>350</td>\n",
       "      <td>270.0</td>\n",
       "      <td>0.435484</td>\n",
       "    </tr>\n",
       "    <tr>\n",
       "      <th>自助餐</th>\n",
       "      <td>908.666667</td>\n",
       "      <td>12</td>\n",
       "      <td>1.0</td>\n",
       "      <td>0.076923</td>\n",
       "    </tr>\n",
       "    <tr>\n",
       "      <th>茶馆</th>\n",
       "      <td>23.555556</td>\n",
       "      <td>9</td>\n",
       "      <td>0.0</td>\n",
       "      <td>0.000000</td>\n",
       "    </tr>\n",
       "    <tr>\n",
       "      <th>西餐</th>\n",
       "      <td>113.243802</td>\n",
       "      <td>968</td>\n",
       "      <td>346.0</td>\n",
       "      <td>0.263318</td>\n",
       "    </tr>\n",
       "    <tr>\n",
       "      <th>酒吧</th>\n",
       "      <td>18.152542</td>\n",
       "      <td>1003</td>\n",
       "      <td>729.0</td>\n",
       "      <td>0.420901</td>\n",
       "    </tr>\n",
       "    <tr>\n",
       "      <th>面包甜点</th>\n",
       "      <td>38.450466</td>\n",
       "      <td>5259</td>\n",
       "      <td>3850.0</td>\n",
       "      <td>0.422659</td>\n",
       "    </tr>\n",
       "    <tr>\n",
       "      <th>韩国料理</th>\n",
       "      <td>1.000000</td>\n",
       "      <td>2</td>\n",
       "      <td>0.0</td>\n",
       "      <td>0.000000</td>\n",
       "    </tr>\n",
       "  </tbody>\n",
       "</table>\n",
       "</div>"
      ],
      "text/plain": [
       "          review_num  shop_hot  shop_cool  pct_cool\n",
       "category                                           \n",
       "DIY手工坊     36.166667         6        0.0  0.000000\n",
       "东南亚菜      141.000000         2        0.0  0.000000\n",
       "串串香        47.281185      1451     1065.0  0.423291\n",
       "其他         57.684541      2387     5822.0  0.709222\n",
       "咖啡厅       147.117647        34        2.0  0.055556\n",
       "小吃快餐       20.419727     16749    17175.0  0.506279\n",
       "川菜         59.039262      6724     4873.0  0.420195\n",
       "日本料理      590.800000         5        0.0  0.000000\n",
       "海鲜        276.142857        14        2.0  0.125000\n",
       "清真菜        19.000000         1        0.0  0.000000\n",
       "火锅         97.002698      5930     4140.0  0.411122\n",
       "烧烤        179.933333        30       13.0  0.302326\n",
       "私房菜       148.714286        14        0.0  0.000000\n",
       "粤菜        160.897143       350      270.0  0.435484\n",
       "自助餐       908.666667        12        1.0  0.076923\n",
       "茶馆         23.555556         9        0.0  0.000000\n",
       "西餐        113.243802       968      346.0  0.263318\n",
       "酒吧         18.152542      1003      729.0  0.420901\n",
       "面包甜点       38.450466      5259     3850.0  0.422659\n",
       "韩国料理        1.000000         2        0.0  0.000000"
      ]
     },
     "execution_count": 27,
     "metadata": {},
     "output_type": "execute_result"
    }
   ],
   "source": [
    "#分类统计[暂时只看店铺分类及评论数]\n",
    "grouped_category_hot=hot_shops.groupby('category')['shop','review_num']\n",
    "mapping={'shop':'count','review_num':'mean'}\n",
    "groupby_category_cool=DataFrame(cool_shops.groupby('category')['shop'].count())\n",
    "by_category=grouped_category_hot.agg(mapping).merge(groupby_category_cool,left_index=True,right_index=True,\n",
    "                                                    how='outer',suffixes=['_hot','_cool'])\n",
    "by_category['pct_cool']=by_category.shop_cool/(by_category.shop_hot+by_category.shop_cool)\n",
    "by_category.fillna(0,inplace=True)\n",
    "by_category"
   ]
  },
  {
   "cell_type": "code",
   "execution_count": 59,
   "metadata": {
    "collapsed": false
   },
   "outputs": [
    {
     "data": {
      "text/plain": [
       "<matplotlib.text.Text at 0x7f1bf85df1d0>"
      ]
     },
     "execution_count": 59,
     "metadata": {},
     "output_type": "execute_result"
    },
    {
     "data": {
      "image/png": "[encoded data removed]",
      "text/plain": [
       "<matplotlib.figure.Figure at 0x7f1bf871da58>"
      ]
     },
     "metadata": {},
     "output_type": "display_data"
    }
   ],
   "source": [
    "#分类分析:\n",
    "#总体分类情况:\n",
    "by_category[['shop_hot','shop_cool']].plot(kind='bar',stacked=True,figsize=(10,5)).set_ylabel('店铺数量')"
   ]
  },
  {
   "cell_type": "code",
   "execution_count": 60,
   "metadata": {
    "collapsed": false,
    "scrolled": false
   },
   "outputs": [
    {
     "data": {
      "text/plain": [
       "<matplotlib.text.Text at 0x7f1bf84fccf8>"
      ]
     },
     "execution_count": 60,
     "metadata": {},
     "output_type": "execute_result"
    },
    {
     "data": {
      "image/png": "[encoded data removed]",
      "text/plain": [
       "<matplotlib.figure.Figure at 0x7f1bf854b128>"
      ]
     },
     "metadata": {},
     "output_type": "display_data"
    }
   ],
   "source": [
    "#各类店铺\"无人问津\"比例:\n",
    "by_category.pct_cool.plot(kind='bar',figsize=(10,5)).set_ylabel('\"无人问津比例\"')"
   ]
  },
  {
   "cell_type": "code",
   "execution_count": 61,
   "metadata": {
    "collapsed": false
   },
   "outputs": [
    {
     "data": {
      "text/plain": [
       "0.4832025038491633"
      ]
     },
     "execution_count": 61,
     "metadata": {},
     "output_type": "execute_result"
    }
   ],
   "source": [
    "#\"无人问津\"店铺总体比例:\n",
    "len(cool_shops)/len(data)"
   ]
  },
  {
   "cell_type": "code",
   "execution_count": 62,
   "metadata": {
    "collapsed": false
   },
   "outputs": [],
   "source": [
    "#\"无人问津\"店铺总体比例达到48.32%,近一半店铺门可罗雀,可见餐饮业整体上已是一片红海.\n",
    "#而咖啡厅,海鲜,自助餐相对\"无人问津\"比例较低,均在10%以内. 同时,DIY手工坊,东南亚菜,日本料理,清真菜,私房菜,茶馆及韩国料理均有人光顾,\n",
    "#\"无人问津\"比例为0"
   ]
  },
  {
   "cell_type": "code",
   "execution_count": 69,
   "metadata": {
    "collapsed": false,
    "scrolled": false
   },
   "outputs": [
    {
     "data": {
      "text/plain": [
       "<matplotlib.lines.Line2D at 0x7f1bf823d2e8>"
      ]
     },
     "execution_count": 69,
     "metadata": {},
     "output_type": "execute_result"
    },
    {
     "data": {
      "image/png": "[encoded data removed]",
      "text/plain": [
       "<matplotlib.figure.Figure at 0x7f1bf8154b38>"
      ]
     },
     "metadata": {},
     "output_type": "display_data"
    }
   ],
   "source": [
    "#各类店铺平均评论数情况:   ---说明:评论数研究均不包含\"无人问津\"餐厅\n",
    "by_category.review_num.plot.bar(figsize=(10,5)).set_ylabel('平均评论数')\n",
    "plt.axhline(y=47.3,color='b')"
   ]
  },
  {
   "cell_type": "code",
   "execution_count": 65,
   "metadata": {
    "collapsed": false,
    "scrolled": false
   },
   "outputs": [
    {
     "data": {
      "text/plain": [
       "47.321221001220998"
      ]
     },
     "execution_count": 65,
     "metadata": {},
     "output_type": "execute_result"
    }
   ],
   "source": [
    "#总体平均评论数:\n",
    "hot_shops.review_num.sum()/len(hot_shops)"
   ]
  },
  {
   "cell_type": "code",
   "execution_count": 70,
   "metadata": {
    "collapsed": false
   },
   "outputs": [],
   "source": [
    "#可见DIY手工坊,小吃快餐,清真菜,茶馆,酒吧及韩国料理评论数低于平均水平.\n",
    "#而日本料理,海鲜及自助餐评论人数遥遥领先,对比这3类\"无人问津\"比例,日本料理为0,海鲜为12.5%,自助餐为7.7%,可以看出日本料理和自助餐在成都\n",
    "#有较好的热度和空间."
   ]
  },
  {
   "cell_type": "code",
   "execution_count": 73,
   "metadata": {
    "collapsed": false
   },
   "outputs": [
    {
     "data": {
      "text/plain": [
       "19860"
      ]
     },
     "execution_count": 73,
     "metadata": {},
     "output_type": "execute_result"
    }
   ],
   "source": [
    "#评价分析:\n",
    "review_data=data[(data.mean_price>0)&(data.taste>0)&(data.env>0)&(data.serve>0)]\n",
    "len(review_data)"
   ]
  },
  {
   "cell_type": "code",
   "execution_count": 75,
   "metadata": {
    "collapsed": false
   },
   "outputs": [
    {
     "data": {
      "text/html": [
       "<div>\n",
       "<table border=\"1\" class=\"dataframe\">\n",
       "  <thead>\n",
       "    <tr style=\"text-align: right;\">\n",
       "      <th></th>\n",
       "      <th>mean_price</th>\n",
       "      <th>taste</th>\n",
       "      <th>env</th>\n",
       "      <th>serve</th>\n",
       "    </tr>\n",
       "  </thead>\n",
       "  <tbody>\n",
       "    <tr>\n",
       "      <th>mean_price</th>\n",
       "      <td>1.000000</td>\n",
       "      <td>0.221605</td>\n",
       "      <td>0.311516</td>\n",
       "      <td>0.244953</td>\n",
       "    </tr>\n",
       "    <tr>\n",
       "      <th>taste</th>\n",
       "      <td>0.221605</td>\n",
       "      <td>1.000000</td>\n",
       "      <td>0.839824</td>\n",
       "      <td>0.895437</td>\n",
       "    </tr>\n",
       "    <tr>\n",
       "      <th>env</th>\n",
       "      <td>0.311516</td>\n",
       "      <td>0.839824</td>\n",
       "      <td>1.000000</td>\n",
       "      <td>0.906204</td>\n",
       "    </tr>\n",
       "    <tr>\n",
       "      <th>serve</th>\n",
       "      <td>0.244953</td>\n",
       "      <td>0.895437</td>\n",
       "      <td>0.906204</td>\n",
       "      <td>1.000000</td>\n",
       "    </tr>\n",
       "  </tbody>\n",
       "</table>\n",
       "</div>"
      ],
      "text/plain": [
       "            mean_price     taste       env     serve\n",
       "mean_price    1.000000  0.221605  0.311516  0.244953\n",
       "taste         0.221605  1.000000  0.839824  0.895437\n",
       "env           0.311516  0.839824  1.000000  0.906204\n",
       "serve         0.244953  0.895437  0.906204  1.000000"
      ]
     },
     "execution_count": 75,
     "metadata": {},
     "output_type": "execute_result"
    }
   ],
   "source": [
    "#评价的相关系数分析(总体):\n",
    "review_data[['mean_price','taste','env','serve']].corr()"
   ]
  },
  {
   "cell_type": "code",
   "execution_count": 76,
   "metadata": {
    "collapsed": true
   },
   "outputs": [],
   "source": [
    "#人均消费与味道,服务的相关系数均低于0.3,与环境的相关系数为0.31,可以得出结论:人均消费的高低与味道,环境和服务的好坏不相关.\n",
    "#不可思议的结论...\n",
    "#而味道与环境和服务的相关系数均达到了0.8以上,可见味道和环境及服务高度相关.味道不错的餐厅环境和服务也相对较好,而环境和服务相对较好的餐厅\n",
    "#味道也不差...似乎..味道好坏和消费者的心情是高度相关的~环境好,服务好,消费者对味道反而就不那么敏感了么~"
   ]
  },
  {
   "cell_type": "code",
   "execution_count": 79,
   "metadata": {
    "collapsed": false
   },
   "outputs": [
    {
     "data": {
      "text/html": [
       "<div>\n",
       "<table border=\"1\" class=\"dataframe\">\n",
       "  <thead>\n",
       "    <tr style=\"text-align: right;\">\n",
       "      <th></th>\n",
       "      <th>env</th>\n",
       "      <th>taste</th>\n",
       "      <th>shop</th>\n",
       "      <th>serve</th>\n",
       "      <th>mean_price</th>\n",
       "    </tr>\n",
       "    <tr>\n",
       "      <th>category</th>\n",
       "      <th></th>\n",
       "      <th></th>\n",
       "      <th></th>\n",
       "      <th></th>\n",
       "      <th></th>\n",
       "    </tr>\n",
       "  </thead>\n",
       "  <tbody>\n",
       "    <tr>\n",
       "      <th>东南亚菜</th>\n",
       "      <td>7.900000</td>\n",
       "      <td>7.850000</td>\n",
       "      <td>2</td>\n",
       "      <td>8.000000</td>\n",
       "      <td>90.000000</td>\n",
       "    </tr>\n",
       "    <tr>\n",
       "      <th>串串香</th>\n",
       "      <td>7.250495</td>\n",
       "      <td>7.406337</td>\n",
       "      <td>1010</td>\n",
       "      <td>7.366832</td>\n",
       "      <td>42.190099</td>\n",
       "    </tr>\n",
       "    <tr>\n",
       "      <th>其他</th>\n",
       "      <td>7.334167</td>\n",
       "      <td>7.330357</td>\n",
       "      <td>840</td>\n",
       "      <td>7.316071</td>\n",
       "      <td>45.769048</td>\n",
       "    </tr>\n",
       "    <tr>\n",
       "      <th>咖啡厅</th>\n",
       "      <td>7.800000</td>\n",
       "      <td>7.400000</td>\n",
       "      <td>30</td>\n",
       "      <td>7.556667</td>\n",
       "      <td>46.466667</td>\n",
       "    </tr>\n",
       "    <tr>\n",
       "      <th>小吃快餐</th>\n",
       "      <td>7.047568</td>\n",
       "      <td>7.148299</td>\n",
       "      <td>6847</td>\n",
       "      <td>7.092654</td>\n",
       "      <td>20.496860</td>\n",
       "    </tr>\n",
       "    <tr>\n",
       "      <th>川菜</th>\n",
       "      <td>7.200196</td>\n",
       "      <td>7.231992</td>\n",
       "      <td>3579</td>\n",
       "      <td>7.165270</td>\n",
       "      <td>52.416038</td>\n",
       "    </tr>\n",
       "    <tr>\n",
       "      <th>日本料理</th>\n",
       "      <td>7.440000</td>\n",
       "      <td>7.300000</td>\n",
       "      <td>5</td>\n",
       "      <td>7.380000</td>\n",
       "      <td>47.000000</td>\n",
       "    </tr>\n",
       "    <tr>\n",
       "      <th>海鲜</th>\n",
       "      <td>7.600000</td>\n",
       "      <td>7.691667</td>\n",
       "      <td>12</td>\n",
       "      <td>7.541667</td>\n",
       "      <td>81.250000</td>\n",
       "    </tr>\n",
       "    <tr>\n",
       "      <th>清真菜</th>\n",
       "      <td>7.100000</td>\n",
       "      <td>7.300000</td>\n",
       "      <td>1</td>\n",
       "      <td>7.000000</td>\n",
       "      <td>17.000000</td>\n",
       "    </tr>\n",
       "    <tr>\n",
       "      <th>火锅</th>\n",
       "      <td>7.349685</td>\n",
       "      <td>7.394575</td>\n",
       "      <td>3963</td>\n",
       "      <td>7.355766</td>\n",
       "      <td>53.626041</td>\n",
       "    </tr>\n",
       "    <tr>\n",
       "      <th>烧烤</th>\n",
       "      <td>7.616667</td>\n",
       "      <td>7.666667</td>\n",
       "      <td>18</td>\n",
       "      <td>7.605556</td>\n",
       "      <td>65.222222</td>\n",
       "    </tr>\n",
       "    <tr>\n",
       "      <th>私房菜</th>\n",
       "      <td>8.318182</td>\n",
       "      <td>7.945455</td>\n",
       "      <td>11</td>\n",
       "      <td>8.181818</td>\n",
       "      <td>117.272727</td>\n",
       "    </tr>\n",
       "    <tr>\n",
       "      <th>粤菜</th>\n",
       "      <td>7.305348</td>\n",
       "      <td>7.165241</td>\n",
       "      <td>187</td>\n",
       "      <td>7.175936</td>\n",
       "      <td>74.245989</td>\n",
       "    </tr>\n",
       "    <tr>\n",
       "      <th>自助餐</th>\n",
       "      <td>7.875000</td>\n",
       "      <td>7.566667</td>\n",
       "      <td>12</td>\n",
       "      <td>7.750000</td>\n",
       "      <td>86.083333</td>\n",
       "    </tr>\n",
       "    <tr>\n",
       "      <th>西餐</th>\n",
       "      <td>7.542685</td>\n",
       "      <td>7.380845</td>\n",
       "      <td>663</td>\n",
       "      <td>7.498039</td>\n",
       "      <td>74.138763</td>\n",
       "    </tr>\n",
       "    <tr>\n",
       "      <th>酒吧</th>\n",
       "      <td>7.200000</td>\n",
       "      <td>7.200000</td>\n",
       "      <td>1</td>\n",
       "      <td>7.200000</td>\n",
       "      <td>25.000000</td>\n",
       "    </tr>\n",
       "    <tr>\n",
       "      <th>面包甜点</th>\n",
       "      <td>7.285063</td>\n",
       "      <td>7.300336</td>\n",
       "      <td>2678</td>\n",
       "      <td>7.290329</td>\n",
       "      <td>22.045930</td>\n",
       "    </tr>\n",
       "    <tr>\n",
       "      <th>韩国料理</th>\n",
       "      <td>7.100000</td>\n",
       "      <td>7.100000</td>\n",
       "      <td>1</td>\n",
       "      <td>7.100000</td>\n",
       "      <td>16.000000</td>\n",
       "    </tr>\n",
       "  </tbody>\n",
       "</table>\n",
       "</div>"
      ],
      "text/plain": [
       "               env     taste  shop     serve  mean_price\n",
       "category                                                \n",
       "东南亚菜      7.900000  7.850000     2  8.000000   90.000000\n",
       "串串香       7.250495  7.406337  1010  7.366832   42.190099\n",
       "其他        7.334167  7.330357   840  7.316071   45.769048\n",
       "咖啡厅       7.800000  7.400000    30  7.556667   46.466667\n",
       "小吃快餐      7.047568  7.148299  6847  7.092654   20.496860\n",
       "川菜        7.200196  7.231992  3579  7.165270   52.416038\n",
       "日本料理      7.440000  7.300000     5  7.380000   47.000000\n",
       "海鲜        7.600000  7.691667    12  7.541667   81.250000\n",
       "清真菜       7.100000  7.300000     1  7.000000   17.000000\n",
       "火锅        7.349685  7.394575  3963  7.355766   53.626041\n",
       "烧烤        7.616667  7.666667    18  7.605556   65.222222\n",
       "私房菜       8.318182  7.945455    11  8.181818  117.272727\n",
       "粤菜        7.305348  7.165241   187  7.175936   74.245989\n",
       "自助餐       7.875000  7.566667    12  7.750000   86.083333\n",
       "西餐        7.542685  7.380845   663  7.498039   74.138763\n",
       "酒吧        7.200000  7.200000     1  7.200000   25.000000\n",
       "面包甜点      7.285063  7.300336  2678  7.290329   22.045930\n",
       "韩国料理      7.100000  7.100000     1  7.100000   16.000000"
      ]
     },
     "execution_count": 79,
     "metadata": {},
     "output_type": "execute_result"
    }
   ],
   "source": [
    "#再来看看成都人更加亲睐什么口味的菜吧~\n",
    "grouped=review_data[['shop','category','mean_price','taste','env','serve']].groupby('category')\n",
    "func={'shop':'count','mean_price':'mean','taste':'mean','env':'mean','serve':'mean'}\n",
    "review_by_category=grouped.agg(func)\n",
    "review_by_category"
   ]
  },
  {
   "cell_type": "code",
   "execution_count": 111,
   "metadata": {
    "collapsed": false,
    "scrolled": false
   },
   "outputs": [
    {
     "data": {
      "text/plain": [
       "<matplotlib.text.Text at 0x7f1bf3b6e358>"
      ]
     },
     "execution_count": 111,
     "metadata": {},
     "output_type": "execute_result"
    },
    {
     "data": {
      "image/png": "[encoded data removed]",
      "text/plain": [
       "<matplotlib.figure.Figure at 0x7f1bf3a7c2e8>"
      ]
     },
     "metadata": {},
     "output_type": "display_data"
    }
   ],
   "source": [
    "review_by_category.taste.plot(kind='bar',ylim=(5,10),figsize=(10,5)).set_ylabel('taste平均得分')"
   ]
  },
  {
   "cell_type": "code",
   "execution_count": 85,
   "metadata": {
    "collapsed": true
   },
   "outputs": [],
   "source": [
    "#呀,简直不分伯仲,看来成都人真是吃货啊,各种不嫌弃~\n",
    "#当然,我们也能看出,东南亚菜和私房菜还是稍微有些优势的哦~"
   ]
  },
  {
   "cell_type": "code",
   "execution_count": 112,
   "metadata": {
    "collapsed": false
   },
   "outputs": [
    {
     "data": {
      "text/plain": [
       "<matplotlib.lines.Line2D at 0x7f1bf3a0fcc0>"
      ]
     },
     "execution_count": 112,
     "metadata": {},
     "output_type": "execute_result"
    },
    {
     "data": {
      "image/png": "[encoded data removed]",
      "text/plain": [
       "<matplotlib.figure.Figure at 0x7f1bf3a1b8d0>"
      ]
     },
     "metadata": {},
     "output_type": "display_data"
    }
   ],
   "source": [
    "#再来看看价格:\n",
    "review_by_category.mean_price.plot(kind='bar',figsize=(10,5)).set_ylabel('平均价格')\n",
    "plt.axhline(y=review_data.mean_price.sum()/len(review_data),color='b')"
   ]
  },
  {
   "cell_type": "code",
   "execution_count": 114,
   "metadata": {
    "collapsed": false
   },
   "outputs": [
    {
     "data": {
      "text/html": [
       "<div>\n",
       "<table border=\"1\" class=\"dataframe\">\n",
       "  <thead>\n",
       "    <tr style=\"text-align: right;\">\n",
       "      <th></th>\n",
       "      <th>corr</th>\n",
       "    </tr>\n",
       "    <tr>\n",
       "      <th>category</th>\n",
       "      <th></th>\n",
       "    </tr>\n",
       "  </thead>\n",
       "  <tbody>\n",
       "    <tr>\n",
       "      <th>东南亚菜</th>\n",
       "      <td>1.000000</td>\n",
       "    </tr>\n",
       "    <tr>\n",
       "      <th>串串香</th>\n",
       "      <td>0.240668</td>\n",
       "    </tr>\n",
       "    <tr>\n",
       "      <th>其他</th>\n",
       "      <td>0.231650</td>\n",
       "    </tr>\n",
       "    <tr>\n",
       "      <th>咖啡厅</th>\n",
       "      <td>-0.126046</td>\n",
       "    </tr>\n",
       "    <tr>\n",
       "      <th>小吃快餐</th>\n",
       "      <td>0.223359</td>\n",
       "    </tr>\n",
       "    <tr>\n",
       "      <th>川菜</th>\n",
       "      <td>0.184124</td>\n",
       "    </tr>\n",
       "    <tr>\n",
       "      <th>日本料理</th>\n",
       "      <td>0.543768</td>\n",
       "    </tr>\n",
       "    <tr>\n",
       "      <th>海鲜</th>\n",
       "      <td>0.544294</td>\n",
       "    </tr>\n",
       "    <tr>\n",
       "      <th>火锅</th>\n",
       "      <td>0.394431</td>\n",
       "    </tr>\n",
       "    <tr>\n",
       "      <th>烧烤</th>\n",
       "      <td>0.535640</td>\n",
       "    </tr>\n",
       "    <tr>\n",
       "      <th>私房菜</th>\n",
       "      <td>0.358990</td>\n",
       "    </tr>\n",
       "    <tr>\n",
       "      <th>粤菜</th>\n",
       "      <td>0.182874</td>\n",
       "    </tr>\n",
       "    <tr>\n",
       "      <th>自助餐</th>\n",
       "      <td>0.420823</td>\n",
       "    </tr>\n",
       "    <tr>\n",
       "      <th>西餐</th>\n",
       "      <td>0.045132</td>\n",
       "    </tr>\n",
       "    <tr>\n",
       "      <th>面包甜点</th>\n",
       "      <td>0.134697</td>\n",
       "    </tr>\n",
       "  </tbody>\n",
       "</table>\n",
       "</div>"
      ],
      "text/plain": [
       "              corr\n",
       "category          \n",
       "东南亚菜      1.000000\n",
       "串串香       0.240668\n",
       "其他        0.231650\n",
       "咖啡厅      -0.126046\n",
       "小吃快餐      0.223359\n",
       "川菜        0.184124\n",
       "日本料理      0.543768\n",
       "海鲜        0.544294\n",
       "火锅        0.394431\n",
       "烧烤        0.535640\n",
       "私房菜       0.358990\n",
       "粤菜        0.182874\n",
       "自助餐       0.420823\n",
       "西餐        0.045132\n",
       "面包甜点      0.134697"
      ]
     },
     "execution_count": 114,
     "metadata": {},
     "output_type": "execute_result"
    }
   ],
   "source": [
    "#什么鬼!又是东南亚菜和私房菜!这不是成正相关了么...等等,那我们的总体相关系数只能针对总体而言了..在分类方面还有秘密么?\n",
    "#酒吧混得真是有点尴尬...嗯,韩国料理,我很满意..\n",
    "corr_by_category=review_data[['category','mean_price','taste']].groupby('category').corr()['taste'].dropna()\n",
    "corr_by_category=DataFrame(corr_by_category.xs('mean_price',level=1))\n",
    "corr_by_category.columns=['corr']\n",
    "corr_by_category"
   ]
  },
  {
   "cell_type": "code",
   "execution_count": 116,
   "metadata": {
    "collapsed": false,
    "scrolled": false
   },
   "outputs": [
    {
     "data": {
      "text/html": [
       "<div>\n",
       "<table border=\"1\" class=\"dataframe\">\n",
       "  <thead>\n",
       "    <tr style=\"text-align: right;\">\n",
       "      <th></th>\n",
       "      <th>ID</th>\n",
       "      <th>shop</th>\n",
       "      <th>area</th>\n",
       "      <th>addr</th>\n",
       "      <th>category</th>\n",
       "      <th>review_num</th>\n",
       "      <th>mean_price</th>\n",
       "      <th>taste</th>\n",
       "      <th>env</th>\n",
       "      <th>serve</th>\n",
       "    </tr>\n",
       "  </thead>\n",
       "  <tbody>\n",
       "    <tr>\n",
       "      <th>538</th>\n",
       "      <td>539</td>\n",
       "      <td>88青年空间蔬食生活馆(春熙路店)</td>\n",
       "      <td>兰桂坊</td>\n",
       "      <td>镗钯街88号</td>\n",
       "      <td>私房菜</td>\n",
       "      <td>547</td>\n",
       "      <td>86</td>\n",
       "      <td>7.7</td>\n",
       "      <td>9.1</td>\n",
       "      <td>8.4</td>\n",
       "    </tr>\n",
       "    <tr>\n",
       "      <th>14628</th>\n",
       "      <td>14632</td>\n",
       "      <td>南风私房菜</td>\n",
       "      <td>建设路</td>\n",
       "      <td>建设路万科·金域蓝湾小区7栋3301</td>\n",
       "      <td>私房菜</td>\n",
       "      <td>65</td>\n",
       "      <td>103</td>\n",
       "      <td>6.9</td>\n",
       "      <td>7.3</td>\n",
       "      <td>7.2</td>\n",
       "    </tr>\n",
       "    <tr>\n",
       "      <th>14629</th>\n",
       "      <td>14633</td>\n",
       "      <td>南风私房菜(双楠店)</td>\n",
       "      <td>高升桥</td>\n",
       "      <td>高升桥路北街16号罗浮世家2期9栋1单元1003室</td>\n",
       "      <td>私房菜</td>\n",
       "      <td>14</td>\n",
       "      <td>106</td>\n",
       "      <td>7.0</td>\n",
       "      <td>7.0</td>\n",
       "      <td>7.1</td>\n",
       "    </tr>\n",
       "    <tr>\n",
       "      <th>24854</th>\n",
       "      <td>24858</td>\n",
       "      <td>子墨味语私房菜</td>\n",
       "      <td>九眼桥</td>\n",
       "      <td>东大街芷泉段88号时代尊邸6幢3304</td>\n",
       "      <td>私房菜</td>\n",
       "      <td>347</td>\n",
       "      <td>173</td>\n",
       "      <td>7.9</td>\n",
       "      <td>8.4</td>\n",
       "      <td>8.2</td>\n",
       "    </tr>\n",
       "    <tr>\n",
       "      <th>36127</th>\n",
       "      <td>36131</td>\n",
       "      <td>斑布·松露</td>\n",
       "      <td>大慈寺</td>\n",
       "      <td>大慈寺3号朗御1单元3704</td>\n",
       "      <td>私房菜</td>\n",
       "      <td>321</td>\n",
       "      <td>205</td>\n",
       "      <td>8.6</td>\n",
       "      <td>8.7</td>\n",
       "      <td>9.0</td>\n",
       "    </tr>\n",
       "    <tr>\n",
       "      <th>36791</th>\n",
       "      <td>36795</td>\n",
       "      <td>无同(望江店)</td>\n",
       "      <td>九眼桥</td>\n",
       "      <td>九眼桥望江路1号中海格林威治城一层</td>\n",
       "      <td>私房菜</td>\n",
       "      <td>292</td>\n",
       "      <td>106</td>\n",
       "      <td>7.6</td>\n",
       "      <td>9.1</td>\n",
       "      <td>7.9</td>\n",
       "    </tr>\n",
       "    <tr>\n",
       "      <th>48781</th>\n",
       "      <td>48785</td>\n",
       "      <td>王小姐的菜菜</td>\n",
       "      <td>四川师大</td>\n",
       "      <td>锦江大道889号合能锦城永辉超市一楼</td>\n",
       "      <td>私房菜</td>\n",
       "      <td>23</td>\n",
       "      <td>40</td>\n",
       "      <td>7.6</td>\n",
       "      <td>7.6</td>\n",
       "      <td>7.7</td>\n",
       "    </tr>\n",
       "    <tr>\n",
       "      <th>54263</th>\n",
       "      <td>54267</td>\n",
       "      <td>红墙记忆新派川菜</td>\n",
       "      <td>骡马市</td>\n",
       "      <td>长顺下街红墙巷19号附7号</td>\n",
       "      <td>私房菜</td>\n",
       "      <td>138</td>\n",
       "      <td>88</td>\n",
       "      <td>8.3</td>\n",
       "      <td>8.4</td>\n",
       "      <td>8.5</td>\n",
       "    </tr>\n",
       "    <tr>\n",
       "      <th>61364</th>\n",
       "      <td>61368</td>\n",
       "      <td>莯私房菜</td>\n",
       "      <td>宽窄巷子</td>\n",
       "      <td>泡桐树街12号</td>\n",
       "      <td>私房菜</td>\n",
       "      <td>80</td>\n",
       "      <td>113</td>\n",
       "      <td>7.9</td>\n",
       "      <td>8.0</td>\n",
       "      <td>8.1</td>\n",
       "    </tr>\n",
       "    <tr>\n",
       "      <th>63650</th>\n",
       "      <td>63654</td>\n",
       "      <td>蜂房f.fan秘社(高空餐饮酒吧)</td>\n",
       "      <td>春熙路</td>\n",
       "      <td>大慈寺3号朗御2单元2906</td>\n",
       "      <td>私房菜</td>\n",
       "      <td>189</td>\n",
       "      <td>92</td>\n",
       "      <td>9.2</td>\n",
       "      <td>9.2</td>\n",
       "      <td>9.1</td>\n",
       "    </tr>\n",
       "    <tr>\n",
       "      <th>74549</th>\n",
       "      <td>74553</td>\n",
       "      <td>食色</td>\n",
       "      <td>大慈寺</td>\n",
       "      <td>朗御2单元3204号</td>\n",
       "      <td>私房菜</td>\n",
       "      <td>36</td>\n",
       "      <td>178</td>\n",
       "      <td>8.7</td>\n",
       "      <td>8.7</td>\n",
       "      <td>8.8</td>\n",
       "    </tr>\n",
       "  </tbody>\n",
       "</table>\n",
       "</div>"
      ],
      "text/plain": [
       "          ID               shop  area                       addr category  \\\n",
       "538      539  88青年空间蔬食生活馆(春熙路店)   兰桂坊                     镗钯街88号      私房菜   \n",
       "14628  14632              南风私房菜   建设路         建设路万科·金域蓝湾小区7栋3301      私房菜   \n",
       "14629  14633         南风私房菜(双楠店)   高升桥  高升桥路北街16号罗浮世家2期9栋1单元1003室      私房菜   \n",
       "24854  24858            子墨味语私房菜   九眼桥        东大街芷泉段88号时代尊邸6幢3304      私房菜   \n",
       "36127  36131              斑布·松露   大慈寺             大慈寺3号朗御1单元3704      私房菜   \n",
       "36791  36795            无同(望江店)   九眼桥          九眼桥望江路1号中海格林威治城一层      私房菜   \n",
       "48781  48785             王小姐的菜菜  四川师大         锦江大道889号合能锦城永辉超市一楼      私房菜   \n",
       "54263  54267           红墙记忆新派川菜   骡马市              长顺下街红墙巷19号附7号      私房菜   \n",
       "61364  61368               莯私房菜  宽窄巷子                    泡桐树街12号      私房菜   \n",
       "63650  63654  蜂房f.fan秘社(高空餐饮酒吧)   春熙路             大慈寺3号朗御2单元2906      私房菜   \n",
       "74549  74553                 食色   大慈寺                 朗御2单元3204号      私房菜   \n",
       "\n",
       "       review_num  mean_price  taste  env  serve  \n",
       "538           547          86    7.7  9.1    8.4  \n",
       "14628          65         103    6.9  7.3    7.2  \n",
       "14629          14         106    7.0  7.0    7.1  \n",
       "24854         347         173    7.9  8.4    8.2  \n",
       "36127         321         205    8.6  8.7    9.0  \n",
       "36791         292         106    7.6  9.1    7.9  \n",
       "48781          23          40    7.6  7.6    7.7  \n",
       "54263         138          88    8.3  8.4    8.5  \n",
       "61364          80         113    7.9  8.0    8.1  \n",
       "63650         189          92    9.2  9.2    9.1  \n",
       "74549          36         178    8.7  8.7    8.8  "
      ]
     },
     "execution_count": 116,
     "metadata": {},
     "output_type": "execute_result"
    }
   ],
   "source": [
    "#卧槽,还有负相关..\n",
    "#整体来看,还是呈现不相关状态..东南亚菜店铺只有2家,应该是巧合,而私房菜是普遍价格偏高而味道偏好么...仅此而已么....好难过..\n",
    "#再看看:\n",
    "review_data[review_data.category=='私房菜']"
   ]
  },
  {
   "cell_type": "code",
   "execution_count": 117,
   "metadata": {
    "collapsed": true
   },
   "outputs": [],
   "source": [
    "#结语:分析数据只有8万不到,而实际总量在14万多...继续修改爬虫吧..."
   ]
  }
 ],
 "metadata": {
  "kernelspec": {
   "display_name": "Python 3",
   "language": "python",
   "name": "python3"
  },
  "language_info": {
   "codemirror_mode": {
    "name": "ipython",
    "version": 3
   },
   "file_extension": ".py",
   "mimetype": "text/x-python",
   "name": "python",
   "nbconvert_exporter": "python",
   "pygments_lexer": "ipython3",
   "version": "3.5.2"
  }
 },
 "nbformat": 4,
 "nbformat_minor": 1
}
