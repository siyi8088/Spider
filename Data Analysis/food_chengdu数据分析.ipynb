{
 "cells": [
  {
   "cell_type": "code",
   "execution_count": 2,
   "metadata": {
    "collapsed": true
   },
   "outputs": [],
   "source": [
    "import pandas as pd\n",
    "import numpy as np\n",
    "from pandas import Series,DataFrame\n",
    "import pandas.io.sql as sql"
   ]
  },
  {
   "cell_type": "code",
   "execution_count": 3,
   "metadata": {
    "collapsed": false
   },
   "outputs": [],
   "source": [
    "import pymysql\n",
    "%matplotlib inline\n",
    "import matplotlib.pyplot as plt\n",
    "import matplotlib\n",
    "matplotlib.style.use('ggplot')"
   ]
  },
  {
   "cell_type": "code",
   "execution_count": 20,
   "metadata": {
    "collapsed": true
   },
   "outputs": [],
   "source": [
    "conn=pymysql.connect(user='root',password='siyi01',database='dzdp',charset='utf8')"
   ]
  },
  {
   "cell_type": "code",
   "execution_count": 19,
   "metadata": {
    "collapsed": true
   },
   "outputs": [],
   "source": [
    "conn.close()"
   ]
  },
  {
   "cell_type": "code",
   "execution_count": 21,
   "metadata": {
    "collapsed": false
   },
   "outputs": [],
   "source": [
    "data=sql.read_sql('select a.shop,b.area,a.addr,a.category,a.review_num,a.mean_price,a.taste,a.env,a.serve from\\\n",
    "                  food_chengdu a inner join foodurl_chengdu b on a.url_id=b.url_id',conn)"
   ]
  },
  {
   "cell_type": "code",
   "execution_count": 22,
   "metadata": {
    "collapsed": false
   },
   "outputs": [
    {
     "data": {
      "text/plain": [
       "Index(['shop', 'area', 'addr', 'category', 'review_num', 'mean_price', 'taste',\n",
       "       'env', 'serve'],\n",
       "      dtype='object')"
      ]
     },
     "execution_count": 22,
     "metadata": {},
     "output_type": "execute_result"
    }
   ],
   "source": [
    "data.replace(0,np.nan,inplace=True)\n",
    "data.columns"
   ]
  },
  {
   "cell_type": "code",
   "execution_count": 23,
   "metadata": {
    "collapsed": false,
    "scrolled": true
   },
   "outputs": [],
   "source": [
    "hot_shops=data.dropna()\n",
    "cool_shops=data.ix[data.index.difference(hot_shops.index)]"
   ]
  },
  {
   "cell_type": "code",
   "execution_count": 24,
   "metadata": {
    "collapsed": false
   },
   "outputs": [
    {
     "data": {
      "text/plain": [
       "(24020, 78602, 102622)"
      ]
     },
     "execution_count": 24,
     "metadata": {},
     "output_type": "execute_result"
    }
   ],
   "source": [
    "len(hot_shops),len(cool_shops),len(data)\n",
    "#大写的尴尬..."
   ]
  },
  {
   "cell_type": "code",
   "execution_count": 25,
   "metadata": {
    "collapsed": false
   },
   "outputs": [
    {
     "data": {
      "text/plain": [
       "19"
      ]
     },
     "execution_count": 25,
     "metadata": {},
     "output_type": "execute_result"
    }
   ],
   "source": [
    "len(np.unique(data.area))  #总共19个区县"
   ]
  },
  {
   "cell_type": "code",
   "execution_count": 10,
   "metadata": {
    "collapsed": false
   },
   "outputs": [
    {
     "data": {
      "text/plain": [
       "20"
      ]
     },
     "execution_count": 10,
     "metadata": {},
     "output_type": "execute_result"
    }
   ],
   "source": [
    "len(np.unique(data.category))   #总共20个分类"
   ]
  },
  {
   "cell_type": "code",
   "execution_count": 18,
   "metadata": {
    "collapsed": false
   },
   "outputs": [
    {
     "data": {
      "text/html": [
       "<div>\n",
       "<table border=\"1\" class=\"dataframe\">\n",
       "  <thead>\n",
       "    <tr style=\"text-align: right;\">\n",
       "      <th></th>\n",
       "      <th>shop</th>\n",
       "      <th>area</th>\n",
       "      <th>addr</th>\n",
       "      <th>category</th>\n",
       "      <th>review_num</th>\n",
       "      <th>mean_price</th>\n",
       "      <th>taste</th>\n",
       "      <th>env</th>\n",
       "      <th>serve</th>\n",
       "    </tr>\n",
       "  </thead>\n",
       "  <tbody>\n",
       "    <tr>\n",
       "      <th>30358</th>\n",
       "      <td>格阁花园</td>\n",
       "      <td>金牛区</td>\n",
       "      <td>蜀汉路一品天下大街同和路9号附1号</td>\n",
       "      <td>西餐</td>\n",
       "      <td>29</td>\n",
       "      <td>2090</td>\n",
       "      <td>5.8</td>\n",
       "      <td>5.8</td>\n",
       "      <td>5.9</td>\n",
       "    </tr>\n",
       "  </tbody>\n",
       "</table>\n",
       "</div>"
      ],
      "text/plain": [
       "       shop area               addr category  review_num  mean_price  taste  \\\n",
       "30358  格阁花园  金牛区  蜀汉路一品天下大街同和路9号附1号       西餐          29        2090    5.8   \n",
       "\n",
       "       env  serve  \n",
       "30358  5.8    5.9  "
      ]
     },
     "execution_count": 18,
     "metadata": {},
     "output_type": "execute_result"
    }
   ],
   "source": [
    "#人均最贵的餐厅...评价欠佳噢...这个不推荐..\n",
    "max_mean_price=hot_shops[hot_shops.mean_price==max(hot_shops.mean_price)]\n",
    "max_mean_price"
   ]
  },
  {
   "cell_type": "code",
   "execution_count": 14,
   "metadata": {
    "collapsed": false,
    "scrolled": false
   },
   "outputs": [
    {
     "data": {
      "text/html": [
       "<div>\n",
       "<table border=\"1\" class=\"dataframe\">\n",
       "  <thead>\n",
       "    <tr style=\"text-align: right;\">\n",
       "      <th></th>\n",
       "      <th>shop</th>\n",
       "      <th>area</th>\n",
       "      <th>addr</th>\n",
       "      <th>category</th>\n",
       "      <th>review_num</th>\n",
       "      <th>mean_price</th>\n",
       "      <th>taste</th>\n",
       "      <th>env</th>\n",
       "      <th>serve</th>\n",
       "    </tr>\n",
       "  </thead>\n",
       "  <tbody>\n",
       "    <tr>\n",
       "      <th>36337</th>\n",
       "      <td>老街小牛•锑锅麻辣烫</td>\n",
       "      <td>金牛区</td>\n",
       "      <td>百寿路12号附2号</td>\n",
       "      <td>串串香</td>\n",
       "      <td>100</td>\n",
       "      <td>52</td>\n",
       "      <td>9.3</td>\n",
       "      <td>9.3</td>\n",
       "      <td>9.3</td>\n",
       "    </tr>\n",
       "  </tbody>\n",
       "</table>\n",
       "</div>"
      ],
      "text/plain": [
       "             shop area       addr category  review_num  mean_price  taste  \\\n",
       "36337  老街小牛•锑锅麻辣烫  金牛区  百寿路12号附2号      串串香         100          52    9.3   \n",
       "\n",
       "       env  serve  \n",
       "36337  9.3    9.3  "
      ]
     },
     "execution_count": 14,
     "metadata": {},
     "output_type": "execute_result"
    }
   ],
   "source": [
    "#味道最好的餐厅..竟然是串串香...这个必吃!  ... 口味最好...怎么能只有一家呢,起码10家啊\n",
    "best_taste=hot_shops[hot_shops.taste==max(hot_shops.taste)]\n",
    "best_taste"
   ]
  },
  {
   "cell_type": "code",
   "execution_count": 22,
   "metadata": {
    "collapsed": false,
    "scrolled": true
   },
   "outputs": [
    {
     "data": {
      "text/html": [
       "<div>\n",
       "<table border=\"1\" class=\"dataframe\">\n",
       "  <thead>\n",
       "    <tr style=\"text-align: right;\">\n",
       "      <th></th>\n",
       "      <th>shop</th>\n",
       "      <th>area</th>\n",
       "      <th>addr</th>\n",
       "      <th>category</th>\n",
       "      <th>review_num</th>\n",
       "      <th>mean_price</th>\n",
       "      <th>taste</th>\n",
       "      <th>env</th>\n",
       "      <th>serve</th>\n",
       "    </tr>\n",
       "  </thead>\n",
       "  <tbody>\n",
       "    <tr>\n",
       "      <th>36337</th>\n",
       "      <td>老街小牛•锑锅麻辣烫</td>\n",
       "      <td>金牛区</td>\n",
       "      <td>百寿路12号附2号</td>\n",
       "      <td>串串香</td>\n",
       "      <td>100</td>\n",
       "      <td>52</td>\n",
       "      <td>9.3</td>\n",
       "      <td>9.3</td>\n",
       "      <td>9.3</td>\n",
       "    </tr>\n",
       "    <tr>\n",
       "      <th>84544</th>\n",
       "      <td>庶民居中餐馆(花土店)</td>\n",
       "      <td>温江区</td>\n",
       "      <td>共和路18号</td>\n",
       "      <td>川菜</td>\n",
       "      <td>149</td>\n",
       "      <td>48</td>\n",
       "      <td>9.2</td>\n",
       "      <td>9.2</td>\n",
       "      <td>9.2</td>\n",
       "    </tr>\n",
       "    <tr>\n",
       "      <th>14533</th>\n",
       "      <td>油花·烧肉</td>\n",
       "      <td>武侯区</td>\n",
       "      <td>锦绣路1号附45号保利中心A座</td>\n",
       "      <td>日本料理</td>\n",
       "      <td>342</td>\n",
       "      <td>153</td>\n",
       "      <td>9.2</td>\n",
       "      <td>9.2</td>\n",
       "      <td>9.2</td>\n",
       "    </tr>\n",
       "    <tr>\n",
       "      <th>19508</th>\n",
       "      <td>兰亭金汤(银滩金汤)</td>\n",
       "      <td>武侯区</td>\n",
       "      <td>高新区天府大道锦晖东街200号圣帝雅酒店2楼</td>\n",
       "      <td>火锅</td>\n",
       "      <td>872</td>\n",
       "      <td>109</td>\n",
       "      <td>9.2</td>\n",
       "      <td>9.2</td>\n",
       "      <td>9.2</td>\n",
       "    </tr>\n",
       "    <tr>\n",
       "      <th>50507</th>\n",
       "      <td>乐山王屠户跷脚牛肉</td>\n",
       "      <td>双流区</td>\n",
       "      <td>安公路二段356-358号</td>\n",
       "      <td>火锅</td>\n",
       "      <td>1046</td>\n",
       "      <td>43</td>\n",
       "      <td>9.2</td>\n",
       "      <td>8.7</td>\n",
       "      <td>9.1</td>\n",
       "    </tr>\n",
       "    <tr>\n",
       "      <th>32460</th>\n",
       "      <td>红盛渝味老火锅</td>\n",
       "      <td>金牛区</td>\n",
       "      <td>抚琴营通街139号</td>\n",
       "      <td>火锅</td>\n",
       "      <td>117</td>\n",
       "      <td>62</td>\n",
       "      <td>9.2</td>\n",
       "      <td>8.7</td>\n",
       "      <td>9.1</td>\n",
       "    </tr>\n",
       "    <tr>\n",
       "      <th>1007</th>\n",
       "      <td>丑二哥-私厨</td>\n",
       "      <td>锦江区</td>\n",
       "      <td>大慈寺路3号朗御行政公寓楼2单元19楼1号</td>\n",
       "      <td>私房菜</td>\n",
       "      <td>128</td>\n",
       "      <td>160</td>\n",
       "      <td>9.2</td>\n",
       "      <td>9.4</td>\n",
       "      <td>9.4</td>\n",
       "    </tr>\n",
       "    <tr>\n",
       "      <th>2578</th>\n",
       "      <td>等风来主题餐厅</td>\n",
       "      <td>锦江区</td>\n",
       "      <td>东大街芷泉段88号时代尊邸6号楼</td>\n",
       "      <td>私房菜</td>\n",
       "      <td>77</td>\n",
       "      <td>234</td>\n",
       "      <td>9.2</td>\n",
       "      <td>9.3</td>\n",
       "      <td>9.3</td>\n",
       "    </tr>\n",
       "    <tr>\n",
       "      <th>3910</th>\n",
       "      <td>蜂房f.fan秘社(高空餐饮酒吧)</td>\n",
       "      <td>锦江区</td>\n",
       "      <td>大慈寺3号朗御2单元2906</td>\n",
       "      <td>私房菜</td>\n",
       "      <td>191</td>\n",
       "      <td>92</td>\n",
       "      <td>9.2</td>\n",
       "      <td>9.2</td>\n",
       "      <td>9.1</td>\n",
       "    </tr>\n",
       "    <tr>\n",
       "      <th>1848</th>\n",
       "      <td>子食至味私房菜</td>\n",
       "      <td>锦江区</td>\n",
       "      <td>兰桂坊水井街时代豪庭2期8栋</td>\n",
       "      <td>私房菜</td>\n",
       "      <td>95</td>\n",
       "      <td>206</td>\n",
       "      <td>9.2</td>\n",
       "      <td>9.2</td>\n",
       "      <td>9.2</td>\n",
       "    </tr>\n",
       "  </tbody>\n",
       "</table>\n",
       "</div>"
      ],
      "text/plain": [
       "                    shop area                    addr category  review_num  \\\n",
       "36337         老街小牛•锑锅麻辣烫  金牛区               百寿路12号附2号      串串香         100   \n",
       "84544        庶民居中餐馆(花土店)  温江区                  共和路18号       川菜         149   \n",
       "14533              油花·烧肉  武侯区         锦绣路1号附45号保利中心A座     日本料理         342   \n",
       "19508         兰亭金汤(银滩金汤)  武侯区  高新区天府大道锦晖东街200号圣帝雅酒店2楼       火锅         872   \n",
       "50507          乐山王屠户跷脚牛肉  双流区           安公路二段356-358号       火锅        1046   \n",
       "32460            红盛渝味老火锅  金牛区               抚琴营通街139号       火锅         117   \n",
       "1007              丑二哥-私厨  锦江区   大慈寺路3号朗御行政公寓楼2单元19楼1号      私房菜         128   \n",
       "2578             等风来主题餐厅  锦江区        东大街芷泉段88号时代尊邸6号楼      私房菜          77   \n",
       "3910   蜂房f.fan秘社(高空餐饮酒吧)  锦江区          大慈寺3号朗御2单元2906      私房菜         191   \n",
       "1848             子食至味私房菜  锦江区          兰桂坊水井街时代豪庭2期8栋      私房菜          95   \n",
       "\n",
       "       mean_price  taste  env  serve  \n",
       "36337          52    9.3  9.3    9.3  \n",
       "84544          48    9.2  9.2    9.2  \n",
       "14533         153    9.2  9.2    9.2  \n",
       "19508         109    9.2  9.2    9.2  \n",
       "50507          43    9.2  8.7    9.1  \n",
       "32460          62    9.2  8.7    9.1  \n",
       "1007          160    9.2  9.4    9.4  \n",
       "2578          234    9.2  9.3    9.3  \n",
       "3910           92    9.2  9.2    9.1  \n",
       "1848          206    9.2  9.2    9.2  "
      ]
     },
     "execution_count": 22,
     "metadata": {},
     "output_type": "execute_result"
    }
   ],
   "source": [
    "#...吃货,请查收福利~\n",
    "top10_taste=hot_shops.sort_values('taste',ascending=False)[:10]\n",
    "top10_taste"
   ]
  },
  {
   "cell_type": "code",
   "execution_count": 31,
   "metadata": {
    "collapsed": false,
    "scrolled": false
   },
   "outputs": [
    {
     "data": {
      "text/html": [
       "<div>\n",
       "<table border=\"1\" class=\"dataframe\">\n",
       "  <thead>\n",
       "    <tr style=\"text-align: right;\">\n",
       "      <th></th>\n",
       "      <th>shop</th>\n",
       "      <th>area</th>\n",
       "      <th>addr</th>\n",
       "      <th>category</th>\n",
       "      <th>review_num</th>\n",
       "      <th>mean_price</th>\n",
       "      <th>taste</th>\n",
       "      <th>env</th>\n",
       "      <th>serve</th>\n",
       "    </tr>\n",
       "  </thead>\n",
       "  <tbody>\n",
       "    <tr>\n",
       "      <th>36337</th>\n",
       "      <td>老街小牛•锑锅麻辣烫</td>\n",
       "      <td>金牛区</td>\n",
       "      <td>百寿路12号附2号</td>\n",
       "      <td>串串香</td>\n",
       "      <td>100</td>\n",
       "      <td>52</td>\n",
       "      <td>9.3</td>\n",
       "      <td>9.3</td>\n",
       "      <td>9.3</td>\n",
       "    </tr>\n",
       "    <tr>\n",
       "      <th>1007</th>\n",
       "      <td>丑二哥-私厨</td>\n",
       "      <td>锦江区</td>\n",
       "      <td>大慈寺路3号朗御行政公寓楼2单元19楼1号</td>\n",
       "      <td>私房菜</td>\n",
       "      <td>128</td>\n",
       "      <td>160</td>\n",
       "      <td>9.2</td>\n",
       "      <td>9.4</td>\n",
       "      <td>9.4</td>\n",
       "    </tr>\n",
       "    <tr>\n",
       "      <th>25976</th>\n",
       "      <td>留园渝派火锅</td>\n",
       "      <td>青羊区</td>\n",
       "      <td>同盛路12号</td>\n",
       "      <td>火锅</td>\n",
       "      <td>146</td>\n",
       "      <td>78</td>\n",
       "      <td>9.2</td>\n",
       "      <td>9.4</td>\n",
       "      <td>9.2</td>\n",
       "    </tr>\n",
       "    <tr>\n",
       "      <th>14523</th>\n",
       "      <td>大福寿司</td>\n",
       "      <td>武侯区</td>\n",
       "      <td>人民南路四段11-附27号</td>\n",
       "      <td>日本料理</td>\n",
       "      <td>59</td>\n",
       "      <td>116</td>\n",
       "      <td>9.2</td>\n",
       "      <td>9.3</td>\n",
       "      <td>9.4</td>\n",
       "    </tr>\n",
       "    <tr>\n",
       "      <th>2578</th>\n",
       "      <td>等风来主题餐厅</td>\n",
       "      <td>锦江区</td>\n",
       "      <td>东大街芷泉段88号时代尊邸6号楼</td>\n",
       "      <td>私房菜</td>\n",
       "      <td>77</td>\n",
       "      <td>234</td>\n",
       "      <td>9.2</td>\n",
       "      <td>9.3</td>\n",
       "      <td>9.3</td>\n",
       "    </tr>\n",
       "    <tr>\n",
       "      <th>27715</th>\n",
       "      <td>一个勺子新疆主题私房菜</td>\n",
       "      <td>青羊区</td>\n",
       "      <td>长顺下街红墙巷49号</td>\n",
       "      <td>私房菜</td>\n",
       "      <td>239</td>\n",
       "      <td>87</td>\n",
       "      <td>9.2</td>\n",
       "      <td>9.3</td>\n",
       "      <td>9.3</td>\n",
       "    </tr>\n",
       "    <tr>\n",
       "      <th>1848</th>\n",
       "      <td>子食至味私房菜</td>\n",
       "      <td>锦江区</td>\n",
       "      <td>兰桂坊水井街时代豪庭2期8栋</td>\n",
       "      <td>私房菜</td>\n",
       "      <td>95</td>\n",
       "      <td>206</td>\n",
       "      <td>9.2</td>\n",
       "      <td>9.2</td>\n",
       "      <td>9.2</td>\n",
       "    </tr>\n",
       "    <tr>\n",
       "      <th>14533</th>\n",
       "      <td>油花·烧肉</td>\n",
       "      <td>武侯区</td>\n",
       "      <td>锦绣路1号附45号保利中心A座</td>\n",
       "      <td>日本料理</td>\n",
       "      <td>342</td>\n",
       "      <td>153</td>\n",
       "      <td>9.2</td>\n",
       "      <td>9.2</td>\n",
       "      <td>9.2</td>\n",
       "    </tr>\n",
       "    <tr>\n",
       "      <th>19508</th>\n",
       "      <td>兰亭金汤(银滩金汤)</td>\n",
       "      <td>武侯区</td>\n",
       "      <td>高新区天府大道锦晖东街200号圣帝雅酒店2楼</td>\n",
       "      <td>火锅</td>\n",
       "      <td>872</td>\n",
       "      <td>109</td>\n",
       "      <td>9.2</td>\n",
       "      <td>9.2</td>\n",
       "      <td>9.2</td>\n",
       "    </tr>\n",
       "    <tr>\n",
       "      <th>84544</th>\n",
       "      <td>庶民居中餐馆(花土店)</td>\n",
       "      <td>温江区</td>\n",
       "      <td>共和路18号</td>\n",
       "      <td>川菜</td>\n",
       "      <td>149</td>\n",
       "      <td>48</td>\n",
       "      <td>9.2</td>\n",
       "      <td>9.2</td>\n",
       "      <td>9.2</td>\n",
       "    </tr>\n",
       "    <tr>\n",
       "      <th>3910</th>\n",
       "      <td>蜂房f.fan秘社(高空餐饮酒吧)</td>\n",
       "      <td>锦江区</td>\n",
       "      <td>大慈寺3号朗御2单元2906</td>\n",
       "      <td>私房菜</td>\n",
       "      <td>191</td>\n",
       "      <td>92</td>\n",
       "      <td>9.2</td>\n",
       "      <td>9.2</td>\n",
       "      <td>9.1</td>\n",
       "    </tr>\n",
       "    <tr>\n",
       "      <th>3143</th>\n",
       "      <td>小龙坎老火锅(春熙店)</td>\n",
       "      <td>锦江区</td>\n",
       "      <td>下东大街36号郁金香广场2F</td>\n",
       "      <td>火锅</td>\n",
       "      <td>404</td>\n",
       "      <td>84</td>\n",
       "      <td>9.2</td>\n",
       "      <td>9.2</td>\n",
       "      <td>8.9</td>\n",
       "    </tr>\n",
       "    <tr>\n",
       "      <th>19703</th>\n",
       "      <td>陈记顺河牛肉店(天久南巷店)</td>\n",
       "      <td>武侯区</td>\n",
       "      <td>高新区天久南巷115号</td>\n",
       "      <td>火锅</td>\n",
       "      <td>68</td>\n",
       "      <td>90</td>\n",
       "      <td>9.2</td>\n",
       "      <td>9.0</td>\n",
       "      <td>9.1</td>\n",
       "    </tr>\n",
       "    <tr>\n",
       "      <th>32898</th>\n",
       "      <td>517红烧鸭.鹅 祖传秘方民间美食</td>\n",
       "      <td>金牛区</td>\n",
       "      <td>马家场土龙路304号</td>\n",
       "      <td>川菜</td>\n",
       "      <td>38</td>\n",
       "      <td>30</td>\n",
       "      <td>9.2</td>\n",
       "      <td>9.0</td>\n",
       "      <td>9.1</td>\n",
       "    </tr>\n",
       "    <tr>\n",
       "      <th>32460</th>\n",
       "      <td>红盛渝味老火锅</td>\n",
       "      <td>金牛区</td>\n",
       "      <td>抚琴营通街139号</td>\n",
       "      <td>火锅</td>\n",
       "      <td>117</td>\n",
       "      <td>62</td>\n",
       "      <td>9.2</td>\n",
       "      <td>8.7</td>\n",
       "      <td>9.1</td>\n",
       "    </tr>\n",
       "    <tr>\n",
       "      <th>50507</th>\n",
       "      <td>乐山王屠户跷脚牛肉</td>\n",
       "      <td>双流区</td>\n",
       "      <td>安公路二段356-358号</td>\n",
       "      <td>火锅</td>\n",
       "      <td>1046</td>\n",
       "      <td>43</td>\n",
       "      <td>9.2</td>\n",
       "      <td>8.7</td>\n",
       "      <td>9.1</td>\n",
       "    </tr>\n",
       "    <tr>\n",
       "      <th>31130</th>\n",
       "      <td>盖帮市井串串</td>\n",
       "      <td>金牛区</td>\n",
       "      <td>马鞍南路内曹家巷6号附7-8号</td>\n",
       "      <td>串串香</td>\n",
       "      <td>96</td>\n",
       "      <td>47</td>\n",
       "      <td>9.2</td>\n",
       "      <td>8.6</td>\n",
       "      <td>9.2</td>\n",
       "    </tr>\n",
       "    <tr>\n",
       "      <th>11374</th>\n",
       "      <td>昊•来了寿司</td>\n",
       "      <td>武侯区</td>\n",
       "      <td>逸霞街9号附3号</td>\n",
       "      <td>日本料理</td>\n",
       "      <td>416</td>\n",
       "      <td>59</td>\n",
       "      <td>9.2</td>\n",
       "      <td>8.5</td>\n",
       "      <td>9.2</td>\n",
       "    </tr>\n",
       "  </tbody>\n",
       "</table>\n",
       "</div>"
      ],
      "text/plain": [
       "                    shop area                    addr category  review_num  \\\n",
       "36337         老街小牛•锑锅麻辣烫  金牛区               百寿路12号附2号      串串香         100   \n",
       "1007              丑二哥-私厨  锦江区   大慈寺路3号朗御行政公寓楼2单元19楼1号      私房菜         128   \n",
       "25976             留园渝派火锅  青羊区                  同盛路12号       火锅         146   \n",
       "14523               大福寿司  武侯区           人民南路四段11-附27号     日本料理          59   \n",
       "2578             等风来主题餐厅  锦江区        东大街芷泉段88号时代尊邸6号楼      私房菜          77   \n",
       "27715        一个勺子新疆主题私房菜  青羊区              长顺下街红墙巷49号      私房菜         239   \n",
       "1848             子食至味私房菜  锦江区          兰桂坊水井街时代豪庭2期8栋      私房菜          95   \n",
       "14533              油花·烧肉  武侯区         锦绣路1号附45号保利中心A座     日本料理         342   \n",
       "19508         兰亭金汤(银滩金汤)  武侯区  高新区天府大道锦晖东街200号圣帝雅酒店2楼       火锅         872   \n",
       "84544        庶民居中餐馆(花土店)  温江区                  共和路18号       川菜         149   \n",
       "3910   蜂房f.fan秘社(高空餐饮酒吧)  锦江区          大慈寺3号朗御2单元2906      私房菜         191   \n",
       "3143         小龙坎老火锅(春熙店)  锦江区          下东大街36号郁金香广场2F       火锅         404   \n",
       "19703     陈记顺河牛肉店(天久南巷店)  武侯区             高新区天久南巷115号       火锅          68   \n",
       "32898  517红烧鸭.鹅 祖传秘方民间美食  金牛区              马家场土龙路304号       川菜          38   \n",
       "32460            红盛渝味老火锅  金牛区               抚琴营通街139号       火锅         117   \n",
       "50507          乐山王屠户跷脚牛肉  双流区           安公路二段356-358号       火锅        1046   \n",
       "31130             盖帮市井串串  金牛区         马鞍南路内曹家巷6号附7-8号      串串香          96   \n",
       "11374             昊•来了寿司  武侯区                逸霞街9号附3号     日本料理         416   \n",
       "\n",
       "       mean_price  taste  env  serve  \n",
       "36337          52    9.3  9.3    9.3  \n",
       "1007          160    9.2  9.4    9.4  \n",
       "25976          78    9.2  9.4    9.2  \n",
       "14523         116    9.2  9.3    9.4  \n",
       "2578          234    9.2  9.3    9.3  \n",
       "27715          87    9.2  9.3    9.3  \n",
       "1848          206    9.2  9.2    9.2  \n",
       "14533         153    9.2  9.2    9.2  \n",
       "19508         109    9.2  9.2    9.2  \n",
       "84544          48    9.2  9.2    9.2  \n",
       "3910           92    9.2  9.2    9.1  \n",
       "3143           84    9.2  9.2    8.9  \n",
       "19703          90    9.2  9.0    9.1  \n",
       "32898          30    9.2  9.0    9.1  \n",
       "32460          62    9.2  8.7    9.1  \n",
       "50507          43    9.2  8.7    9.1  \n",
       "31130          47    9.2  8.6    9.2  \n",
       "11374          59    9.2  8.5    9.2  "
      ]
     },
     "execution_count": 31,
     "metadata": {},
     "output_type": "execute_result"
    }
   ],
   "source": [
    "#9.2分的餐厅看来有点多噢,为了公平起见,你懂的\n",
    "top_taste=hot_shops[(hot_shops.taste==9.3) | (hot_shops.taste==9.2)].sort_values(['taste','env','serve']\\\n",
    "                                                                                 ,ascending=False)\n",
    "top_taste"
   ]
  },
  {
   "cell_type": "code",
   "execution_count": 51,
   "metadata": {
    "collapsed": false
   },
   "outputs": [
    {
     "data": {
      "text/plain": [
       "<matplotlib.axes._subplots.AxesSubplot at 0x7fdce2778550>"
      ]
     },
     "execution_count": 51,
     "metadata": {},
     "output_type": "execute_result"
    },
    {
     "data": {
      "image/png": "[encoded data removed]",
      "text/plain": [
       "<matplotlib.figure.Figure at 0x7fdce2c682e8>"
      ]
     },
     "metadata": {},
     "output_type": "display_data"
    }
   ],
   "source": [
    "#来个图表吧   口味最好的餐厅类别和地区的柱状图\n",
    "fig,axes=plt.subplots(1,2,figsize=(10,4),subplot_kw={'ylabel':'餐厅数量'})\n",
    "fig.subplots_adjust(wspace=0.3)\n",
    "top_taste.groupby('category')['shop'].count().plot(kind='bar',ax=axes[0])\n",
    "top_taste.groupby('area')['shop'].count().plot(kind='bar',ax=axes[1],yticks=np.arange(1,7))"
   ]
  },
  {
   "cell_type": "code",
   "execution_count": 52,
   "metadata": {
    "collapsed": false
   },
   "outputs": [],
   "source": [
    "#这样就很明显啦~\n",
    "#口味最好的餐厅集中在火锅和私房菜,日本料理依然不容小觑..而口味最好的餐厅主要分布于武侯区,金牛区和锦江区~"
   ]
  },
  {
   "cell_type": "code",
   "execution_count": 15,
   "metadata": {
    "collapsed": false,
    "scrolled": true
   },
   "outputs": [
    {
     "data": {
      "text/html": [
       "<div>\n",
       "<table border=\"1\" class=\"dataframe\">\n",
       "  <thead>\n",
       "    <tr style=\"text-align: right;\">\n",
       "      <th></th>\n",
       "      <th>shop</th>\n",
       "      <th>area</th>\n",
       "      <th>addr</th>\n",
       "      <th>category</th>\n",
       "      <th>review_num</th>\n",
       "      <th>mean_price</th>\n",
       "      <th>taste</th>\n",
       "      <th>env</th>\n",
       "      <th>serve</th>\n",
       "    </tr>\n",
       "  </thead>\n",
       "  <tbody>\n",
       "    <tr>\n",
       "      <th>1007</th>\n",
       "      <td>丑二哥-私厨</td>\n",
       "      <td>锦江区</td>\n",
       "      <td>大慈寺路3号朗御行政公寓楼2单元19楼1号</td>\n",
       "      <td>私房菜</td>\n",
       "      <td>128</td>\n",
       "      <td>160</td>\n",
       "      <td>9.2</td>\n",
       "      <td>9.4</td>\n",
       "      <td>9.4</td>\n",
       "    </tr>\n",
       "    <tr>\n",
       "      <th>21042</th>\n",
       "      <td>华道钰善阁</td>\n",
       "      <td>武侯区</td>\n",
       "      <td>盛邦街88号16栋1-8号楼</td>\n",
       "      <td>其他</td>\n",
       "      <td>98</td>\n",
       "      <td>231</td>\n",
       "      <td>8.8</td>\n",
       "      <td>9.4</td>\n",
       "      <td>9.2</td>\n",
       "    </tr>\n",
       "    <tr>\n",
       "      <th>25976</th>\n",
       "      <td>留园渝派火锅</td>\n",
       "      <td>青羊区</td>\n",
       "      <td>同盛路12号</td>\n",
       "      <td>火锅</td>\n",
       "      <td>146</td>\n",
       "      <td>78</td>\n",
       "      <td>9.2</td>\n",
       "      <td>9.4</td>\n",
       "      <td>9.2</td>\n",
       "    </tr>\n",
       "  </tbody>\n",
       "</table>\n",
       "</div>"
      ],
      "text/plain": [
       "         shop area                   addr category  review_num  mean_price  \\\n",
       "1007   丑二哥-私厨  锦江区  大慈寺路3号朗御行政公寓楼2单元19楼1号      私房菜         128         160   \n",
       "21042   华道钰善阁  武侯区         盛邦街88号16栋1-8号楼       其他          98         231   \n",
       "25976  留园渝派火锅  青羊区                 同盛路12号       火锅         146          78   \n",
       "\n",
       "       taste  env  serve  \n",
       "1007     9.2  9.4    9.4  \n",
       "21042    8.8  9.4    9.2  \n",
       "25976    9.2  9.4    9.2  "
      ]
     },
     "execution_count": 15,
     "metadata": {},
     "output_type": "execute_result"
    }
   ],
   "source": [
    "#环境最好的餐厅\n",
    "best_env=hot_shops[hot_shops.env==max(hot_shops.env)]\n",
    "best_env"
   ]
  },
  {
   "cell_type": "code",
   "execution_count": 20,
   "metadata": {
    "collapsed": false,
    "scrolled": false
   },
   "outputs": [
    {
     "data": {
      "text/html": [
       "<div>\n",
       "<table border=\"1\" class=\"dataframe\">\n",
       "  <thead>\n",
       "    <tr style=\"text-align: right;\">\n",
       "      <th></th>\n",
       "      <th>shop</th>\n",
       "      <th>area</th>\n",
       "      <th>addr</th>\n",
       "      <th>category</th>\n",
       "      <th>review_num</th>\n",
       "      <th>mean_price</th>\n",
       "      <th>taste</th>\n",
       "      <th>env</th>\n",
       "      <th>serve</th>\n",
       "    </tr>\n",
       "  </thead>\n",
       "  <tbody>\n",
       "    <tr>\n",
       "      <th>25976</th>\n",
       "      <td>留园渝派火锅</td>\n",
       "      <td>青羊区</td>\n",
       "      <td>同盛路12号</td>\n",
       "      <td>火锅</td>\n",
       "      <td>146</td>\n",
       "      <td>78</td>\n",
       "      <td>9.2</td>\n",
       "      <td>9.4</td>\n",
       "      <td>9.2</td>\n",
       "    </tr>\n",
       "    <tr>\n",
       "      <th>1007</th>\n",
       "      <td>丑二哥-私厨</td>\n",
       "      <td>锦江区</td>\n",
       "      <td>大慈寺路3号朗御行政公寓楼2单元19楼1号</td>\n",
       "      <td>私房菜</td>\n",
       "      <td>128</td>\n",
       "      <td>160</td>\n",
       "      <td>9.2</td>\n",
       "      <td>9.4</td>\n",
       "      <td>9.4</td>\n",
       "    </tr>\n",
       "    <tr>\n",
       "      <th>21042</th>\n",
       "      <td>华道钰善阁</td>\n",
       "      <td>武侯区</td>\n",
       "      <td>盛邦街88号16栋1-8号楼</td>\n",
       "      <td>其他</td>\n",
       "      <td>98</td>\n",
       "      <td>231</td>\n",
       "      <td>8.8</td>\n",
       "      <td>9.4</td>\n",
       "      <td>9.2</td>\n",
       "    </tr>\n",
       "    <tr>\n",
       "      <th>19924</th>\n",
       "      <td>老房子元年食府•华粹元年</td>\n",
       "      <td>武侯区</td>\n",
       "      <td>天府三街大源中央公园南区商业部分</td>\n",
       "      <td>川菜</td>\n",
       "      <td>172</td>\n",
       "      <td>188</td>\n",
       "      <td>8.9</td>\n",
       "      <td>9.3</td>\n",
       "      <td>9.0</td>\n",
       "    </tr>\n",
       "    <tr>\n",
       "      <th>27715</th>\n",
       "      <td>一个勺子新疆主题私房菜</td>\n",
       "      <td>青羊区</td>\n",
       "      <td>长顺下街红墙巷49号</td>\n",
       "      <td>私房菜</td>\n",
       "      <td>239</td>\n",
       "      <td>87</td>\n",
       "      <td>9.2</td>\n",
       "      <td>9.3</td>\n",
       "      <td>9.3</td>\n",
       "    </tr>\n",
       "    <tr>\n",
       "      <th>22881</th>\n",
       "      <td>仁和春天酒店·春天庭餐厅(二环路西二段店)</td>\n",
       "      <td>青羊区</td>\n",
       "      <td>二环路西二段19号仁和春天酒店3楼</td>\n",
       "      <td>西餐</td>\n",
       "      <td>704</td>\n",
       "      <td>193</td>\n",
       "      <td>9.0</td>\n",
       "      <td>9.3</td>\n",
       "      <td>9.2</td>\n",
       "    </tr>\n",
       "    <tr>\n",
       "      <th>14200</th>\n",
       "      <td>梵景火锅</td>\n",
       "      <td>武侯区</td>\n",
       "      <td>长荣路56号泛悦国际步行街2号楼3楼</td>\n",
       "      <td>火锅</td>\n",
       "      <td>42</td>\n",
       "      <td>112</td>\n",
       "      <td>8.2</td>\n",
       "      <td>9.3</td>\n",
       "      <td>8.9</td>\n",
       "    </tr>\n",
       "    <tr>\n",
       "      <th>2578</th>\n",
       "      <td>等风来主题餐厅</td>\n",
       "      <td>锦江区</td>\n",
       "      <td>东大街芷泉段88号时代尊邸6号楼</td>\n",
       "      <td>私房菜</td>\n",
       "      <td>77</td>\n",
       "      <td>234</td>\n",
       "      <td>9.2</td>\n",
       "      <td>9.3</td>\n",
       "      <td>9.3</td>\n",
       "    </tr>\n",
       "    <tr>\n",
       "      <th>21412</th>\n",
       "      <td>小龙翻大江火锅酒楼(旗舰店)</td>\n",
       "      <td>青羊区</td>\n",
       "      <td>窄巷子28号</td>\n",
       "      <td>火锅</td>\n",
       "      <td>4383</td>\n",
       "      <td>113</td>\n",
       "      <td>9.1</td>\n",
       "      <td>9.3</td>\n",
       "      <td>9.1</td>\n",
       "    </tr>\n",
       "    <tr>\n",
       "      <th>80998</th>\n",
       "      <td>龙腾庭院火锅(恒大新城店)</td>\n",
       "      <td>温江区</td>\n",
       "      <td>凤翔大道光华8线</td>\n",
       "      <td>火锅</td>\n",
       "      <td>305</td>\n",
       "      <td>75</td>\n",
       "      <td>8.5</td>\n",
       "      <td>9.3</td>\n",
       "      <td>7.9</td>\n",
       "    </tr>\n",
       "  </tbody>\n",
       "</table>\n",
       "</div>"
      ],
      "text/plain": [
       "                        shop area                   addr category  review_num  \\\n",
       "25976                 留园渝派火锅  青羊区                 同盛路12号       火锅         146   \n",
       "1007                  丑二哥-私厨  锦江区  大慈寺路3号朗御行政公寓楼2单元19楼1号      私房菜         128   \n",
       "21042                  华道钰善阁  武侯区         盛邦街88号16栋1-8号楼       其他          98   \n",
       "19924           老房子元年食府•华粹元年  武侯区       天府三街大源中央公园南区商业部分       川菜         172   \n",
       "27715            一个勺子新疆主题私房菜  青羊区             长顺下街红墙巷49号      私房菜         239   \n",
       "22881  仁和春天酒店·春天庭餐厅(二环路西二段店)  青羊区      二环路西二段19号仁和春天酒店3楼       西餐         704   \n",
       "14200                   梵景火锅  武侯区     长荣路56号泛悦国际步行街2号楼3楼       火锅          42   \n",
       "2578                 等风来主题餐厅  锦江区       东大街芷泉段88号时代尊邸6号楼      私房菜          77   \n",
       "21412         小龙翻大江火锅酒楼(旗舰店)  青羊区                 窄巷子28号       火锅        4383   \n",
       "80998          龙腾庭院火锅(恒大新城店)  温江区               凤翔大道光华8线       火锅         305   \n",
       "\n",
       "       mean_price  taste  env  serve  \n",
       "25976          78    9.2  9.4    9.2  \n",
       "1007          160    9.2  9.4    9.4  \n",
       "21042         231    8.8  9.4    9.2  \n",
       "19924         188    8.9  9.3    9.0  \n",
       "27715          87    9.2  9.3    9.3  \n",
       "22881         193    9.0  9.3    9.2  \n",
       "14200         112    8.2  9.3    8.9  \n",
       "2578          234    9.2  9.3    9.3  \n",
       "21412         113    9.1  9.3    9.1  \n",
       "80998          75    8.5  9.3    7.9  "
      ]
     },
     "execution_count": 20,
     "metadata": {},
     "output_type": "execute_result"
    }
   ],
   "source": [
    "#-----竟然不是西餐,他国料理? 那我们来看看前10名吧. \n",
    "top10_env=hot_shops.sort_values('env',ascending=False)[:10]\n",
    "top10_envz"
   ]
  },
  {
   "cell_type": "code",
   "execution_count": 54,
   "metadata": {
    "collapsed": true
   },
   "outputs": [],
   "source": [
    "#嗯...有一家上榜了~~小情侣们可以开启预定了(当然啦,这10家也要吃个遍咯~~女朋友是不会放过你们的...)\n",
    "#火锅和私房菜数量依然占据大头..我要说的是火锅,,还能把环境做到这么好,这是需要点能耐的..\n",
    "#接下来就看服务最好的餐厅吧~"
   ]
  },
  {
   "cell_type": "code",
   "execution_count": 53,
   "metadata": {
    "collapsed": false
   },
   "outputs": [
    {
     "data": {
      "text/html": [
       "<div>\n",
       "<table border=\"1\" class=\"dataframe\">\n",
       "  <thead>\n",
       "    <tr style=\"text-align: right;\">\n",
       "      <th></th>\n",
       "      <th>shop</th>\n",
       "      <th>area</th>\n",
       "      <th>addr</th>\n",
       "      <th>category</th>\n",
       "      <th>review_num</th>\n",
       "      <th>mean_price</th>\n",
       "      <th>taste</th>\n",
       "      <th>env</th>\n",
       "      <th>serve</th>\n",
       "    </tr>\n",
       "  </thead>\n",
       "  <tbody>\n",
       "    <tr>\n",
       "      <th>1007</th>\n",
       "      <td>丑二哥-私厨</td>\n",
       "      <td>锦江区</td>\n",
       "      <td>大慈寺路3号朗御行政公寓楼2单元19楼1号</td>\n",
       "      <td>私房菜</td>\n",
       "      <td>128</td>\n",
       "      <td>160</td>\n",
       "      <td>9.2</td>\n",
       "      <td>9.4</td>\n",
       "      <td>9.4</td>\n",
       "    </tr>\n",
       "    <tr>\n",
       "      <th>14523</th>\n",
       "      <td>大福寿司</td>\n",
       "      <td>武侯区</td>\n",
       "      <td>人民南路四段11-附27号</td>\n",
       "      <td>日本料理</td>\n",
       "      <td>59</td>\n",
       "      <td>116</td>\n",
       "      <td>9.2</td>\n",
       "      <td>9.3</td>\n",
       "      <td>9.4</td>\n",
       "    </tr>\n",
       "    <tr>\n",
       "      <th>41279</th>\n",
       "      <td>海底捞火锅(龙湖三千集店)</td>\n",
       "      <td>成华区</td>\n",
       "      <td>建设北路三段2号龙湖三千集3层</td>\n",
       "      <td>火锅</td>\n",
       "      <td>591</td>\n",
       "      <td>105</td>\n",
       "      <td>8.8</td>\n",
       "      <td>9.2</td>\n",
       "      <td>9.4</td>\n",
       "    </tr>\n",
       "  </tbody>\n",
       "</table>\n",
       "</div>"
      ],
      "text/plain": [
       "                shop area                   addr category  review_num  \\\n",
       "1007          丑二哥-私厨  锦江区  大慈寺路3号朗御行政公寓楼2单元19楼1号      私房菜         128   \n",
       "14523           大福寿司  武侯区          人民南路四段11-附27号     日本料理          59   \n",
       "41279  海底捞火锅(龙湖三千集店)  成华区        建设北路三段2号龙湖三千集3层       火锅         591   \n",
       "\n",
       "       mean_price  taste  env  serve  \n",
       "1007          160    9.2  9.4    9.4  \n",
       "14523         116    9.2  9.3    9.4  \n",
       "41279         105    8.8  9.2    9.4  "
      ]
     },
     "execution_count": 53,
     "metadata": {},
     "output_type": "execute_result"
    }
   ],
   "source": [
    "#不解释啦,这3类已经出现多次~\n",
    "best_serve=hot_shops[hot_shops.serve==max(hot_shops.serve)]\n",
    "best_serve"
   ]
  },
  {
   "cell_type": "code",
   "execution_count": 55,
   "metadata": {
    "collapsed": false,
    "scrolled": false
   },
   "outputs": [
    {
     "data": {
      "text/html": [
       "<div>\n",
       "<table border=\"1\" class=\"dataframe\">\n",
       "  <thead>\n",
       "    <tr style=\"text-align: right;\">\n",
       "      <th></th>\n",
       "      <th>shop</th>\n",
       "      <th>area</th>\n",
       "      <th>addr</th>\n",
       "      <th>category</th>\n",
       "      <th>review_num</th>\n",
       "      <th>mean_price</th>\n",
       "      <th>taste</th>\n",
       "      <th>env</th>\n",
       "      <th>serve</th>\n",
       "    </tr>\n",
       "  </thead>\n",
       "  <tbody>\n",
       "    <tr>\n",
       "      <th>445</th>\n",
       "      <td>四海一家(人民南路二段店)</td>\n",
       "      <td>锦江区</td>\n",
       "      <td>人民南路二段1号仁恒置地广场购物中心5层</td>\n",
       "      <td>自助餐</td>\n",
       "      <td>10142</td>\n",
       "      <td>164</td>\n",
       "      <td>7.5</td>\n",
       "      <td>8.2</td>\n",
       "      <td>7.6</td>\n",
       "    </tr>\n",
       "  </tbody>\n",
       "</table>\n",
       "</div>"
      ],
      "text/plain": [
       "              shop area                  addr category  review_num  \\\n",
       "445  四海一家(人民南路二段店)  锦江区  人民南路二段1号仁恒置地广场购物中心5层      自助餐       10142   \n",
       "\n",
       "     mean_price  taste  env  serve  \n",
       "445         164    7.5  8.2    7.6  "
      ]
     },
     "execution_count": 55,
     "metadata": {},
     "output_type": "execute_result"
    }
   ],
   "source": [
    "#最火的餐厅（按评论数最多计）...不用说,这个也是情理之中啦.\n",
    "max_review_num=hot_shops[hot_shops.review_num==max(hot_shops.review_num)]\n",
    "max_review_num"
   ]
  },
  {
   "cell_type": "code",
   "execution_count": 56,
   "metadata": {
    "collapsed": true
   },
   "outputs": [],
   "source": [
    "#接下来看总体情况吧~hot_shops"
   ]
  },
  {
   "cell_type": "code",
   "execution_count": 91,
   "metadata": {
    "collapsed": true
   },
   "outputs": [],
   "source": [
    "#按分类统计分析\n",
    "grouped_category_hot=hot_shops.groupby('category')['shop','review_num','mean_price','taste','env','serve']\n",
    "mapping={'shop':'count','review_num':'mean','mean_price':'mean','taste':'mean','env':'mean','serve':'mean'}\n",
    "groupby_category_hot=grouped_category_hot.agg(mapping)\n",
    "groupby_category_cool=DataFrame(cool_shops.groupby('category')['shop'].count())"
   ]
  },
  {
   "cell_type": "code",
   "execution_count": 101,
   "metadata": {
    "collapsed": false,
    "scrolled": false
   },
   "outputs": [
    {
     "data": {
      "text/html": [
       "<div>\n",
       "<table border=\"1\" class=\"dataframe\">\n",
       "  <thead>\n",
       "    <tr style=\"text-align: right;\">\n",
       "      <th></th>\n",
       "      <th>hot_shop</th>\n",
       "      <th>review_num</th>\n",
       "      <th>mean_price</th>\n",
       "      <th>taste</th>\n",
       "      <th>env</th>\n",
       "      <th>serve</th>\n",
       "      <th>cool_shop</th>\n",
       "      <th>cool_pct</th>\n",
       "    </tr>\n",
       "    <tr>\n",
       "      <th>category</th>\n",
       "      <th></th>\n",
       "      <th></th>\n",
       "      <th></th>\n",
       "      <th></th>\n",
       "      <th></th>\n",
       "      <th></th>\n",
       "      <th></th>\n",
       "      <th></th>\n",
       "    </tr>\n",
       "  </thead>\n",
       "  <tbody>\n",
       "    <tr>\n",
       "      <th>东南亚菜</th>\n",
       "      <td>72.0</td>\n",
       "      <td>566.361111</td>\n",
       "      <td>99.861111</td>\n",
       "      <td>7.766667</td>\n",
       "      <td>8.093056</td>\n",
       "      <td>7.947222</td>\n",
       "      <td>46</td>\n",
       "      <td>0.389831</td>\n",
       "    </tr>\n",
       "    <tr>\n",
       "      <th>串串香</th>\n",
       "      <td>1343.0</td>\n",
       "      <td>61.479523</td>\n",
       "      <td>41.483246</td>\n",
       "      <td>7.342815</td>\n",
       "      <td>7.171109</td>\n",
       "      <td>7.297617</td>\n",
       "      <td>2275</td>\n",
       "      <td>0.628800</td>\n",
       "    </tr>\n",
       "    <tr>\n",
       "      <th>其他</th>\n",
       "      <td>1017.0</td>\n",
       "      <td>138.367748</td>\n",
       "      <td>44.874140</td>\n",
       "      <td>7.255654</td>\n",
       "      <td>7.254572</td>\n",
       "      <td>7.239725</td>\n",
       "      <td>10636</td>\n",
       "      <td>0.912726</td>\n",
       "    </tr>\n",
       "    <tr>\n",
       "      <th>咖啡厅</th>\n",
       "      <td>918.0</td>\n",
       "      <td>69.552288</td>\n",
       "      <td>38.971678</td>\n",
       "      <td>7.259913</td>\n",
       "      <td>7.389107</td>\n",
       "      <td>7.335294</td>\n",
       "      <td>1847</td>\n",
       "      <td>0.667993</td>\n",
       "    </tr>\n",
       "    <tr>\n",
       "      <th>小吃快餐</th>\n",
       "      <td>6744.0</td>\n",
       "      <td>48.074881</td>\n",
       "      <td>21.025504</td>\n",
       "      <td>7.142052</td>\n",
       "      <td>7.040273</td>\n",
       "      <td>7.087767</td>\n",
       "      <td>26705</td>\n",
       "      <td>0.798380</td>\n",
       "    </tr>\n",
       "    <tr>\n",
       "      <th>川菜</th>\n",
       "      <td>3563.0</td>\n",
       "      <td>105.030873</td>\n",
       "      <td>50.929273</td>\n",
       "      <td>7.227477</td>\n",
       "      <td>7.192254</td>\n",
       "      <td>7.161128</td>\n",
       "      <td>8354</td>\n",
       "      <td>0.701015</td>\n",
       "    </tr>\n",
       "    <tr>\n",
       "      <th>新疆菜</th>\n",
       "      <td>37.0</td>\n",
       "      <td>111.891892</td>\n",
       "      <td>33.135135</td>\n",
       "      <td>7.267568</td>\n",
       "      <td>7.035135</td>\n",
       "      <td>7.102703</td>\n",
       "      <td>140</td>\n",
       "      <td>0.790960</td>\n",
       "    </tr>\n",
       "    <tr>\n",
       "      <th>日本料理</th>\n",
       "      <td>507.0</td>\n",
       "      <td>260.883629</td>\n",
       "      <td>69.954635</td>\n",
       "      <td>7.644970</td>\n",
       "      <td>7.728994</td>\n",
       "      <td>7.789152</td>\n",
       "      <td>391</td>\n",
       "      <td>0.435412</td>\n",
       "    </tr>\n",
       "    <tr>\n",
       "      <th>海鲜</th>\n",
       "      <td>277.0</td>\n",
       "      <td>125.981949</td>\n",
       "      <td>69.169675</td>\n",
       "      <td>7.300000</td>\n",
       "      <td>7.238628</td>\n",
       "      <td>7.245487</td>\n",
       "      <td>854</td>\n",
       "      <td>0.755084</td>\n",
       "    </tr>\n",
       "    <tr>\n",
       "      <th>清真菜</th>\n",
       "      <td>66.0</td>\n",
       "      <td>10.742424</td>\n",
       "      <td>22.000000</td>\n",
       "      <td>7.154545</td>\n",
       "      <td>7.045455</td>\n",
       "      <td>7.086364</td>\n",
       "      <td>318</td>\n",
       "      <td>0.828125</td>\n",
       "    </tr>\n",
       "    <tr>\n",
       "      <th>火锅</th>\n",
       "      <td>3945.0</td>\n",
       "      <td>150.549810</td>\n",
       "      <td>54.316603</td>\n",
       "      <td>7.409252</td>\n",
       "      <td>7.371128</td>\n",
       "      <td>7.372801</td>\n",
       "      <td>6054</td>\n",
       "      <td>0.605461</td>\n",
       "    </tr>\n",
       "    <tr>\n",
       "      <th>烧烤</th>\n",
       "      <td>920.0</td>\n",
       "      <td>127.923913</td>\n",
       "      <td>51.098913</td>\n",
       "      <td>7.369565</td>\n",
       "      <td>7.254348</td>\n",
       "      <td>7.348043</td>\n",
       "      <td>2645</td>\n",
       "      <td>0.741935</td>\n",
       "    </tr>\n",
       "    <tr>\n",
       "      <th>私房菜</th>\n",
       "      <td>162.0</td>\n",
       "      <td>71.543210</td>\n",
       "      <td>104.166667</td>\n",
       "      <td>7.564198</td>\n",
       "      <td>7.701235</td>\n",
       "      <td>7.677160</td>\n",
       "      <td>477</td>\n",
       "      <td>0.746479</td>\n",
       "    </tr>\n",
       "    <tr>\n",
       "      <th>粤菜</th>\n",
       "      <td>183.0</td>\n",
       "      <td>291.688525</td>\n",
       "      <td>62.103825</td>\n",
       "      <td>7.153005</td>\n",
       "      <td>7.279235</td>\n",
       "      <td>7.168852</td>\n",
       "      <td>496</td>\n",
       "      <td>0.730486</td>\n",
       "    </tr>\n",
       "    <tr>\n",
       "      <th>自助餐</th>\n",
       "      <td>516.0</td>\n",
       "      <td>233.017442</td>\n",
       "      <td>63.416667</td>\n",
       "      <td>7.203876</td>\n",
       "      <td>7.342442</td>\n",
       "      <td>7.317442</td>\n",
       "      <td>824</td>\n",
       "      <td>0.614925</td>\n",
       "    </tr>\n",
       "    <tr>\n",
       "      <th>茶馆</th>\n",
       "      <td>0.0</td>\n",
       "      <td>0.000000</td>\n",
       "      <td>0.000000</td>\n",
       "      <td>0.000000</td>\n",
       "      <td>0.000000</td>\n",
       "      <td>0.000000</td>\n",
       "      <td>7213</td>\n",
       "      <td>1.000000</td>\n",
       "    </tr>\n",
       "    <tr>\n",
       "      <th>西餐</th>\n",
       "      <td>693.0</td>\n",
       "      <td>154.539683</td>\n",
       "      <td>75.139971</td>\n",
       "      <td>7.367100</td>\n",
       "      <td>7.535931</td>\n",
       "      <td>7.486724</td>\n",
       "      <td>737</td>\n",
       "      <td>0.515385</td>\n",
       "    </tr>\n",
       "    <tr>\n",
       "      <th>酒吧</th>\n",
       "      <td>1.0</td>\n",
       "      <td>6.000000</td>\n",
       "      <td>25.000000</td>\n",
       "      <td>7.200000</td>\n",
       "      <td>7.200000</td>\n",
       "      <td>7.200000</td>\n",
       "      <td>351</td>\n",
       "      <td>0.997159</td>\n",
       "    </tr>\n",
       "    <tr>\n",
       "      <th>面包甜点</th>\n",
       "      <td>2844.0</td>\n",
       "      <td>69.632208</td>\n",
       "      <td>21.995781</td>\n",
       "      <td>7.285830</td>\n",
       "      <td>7.275387</td>\n",
       "      <td>7.279536</td>\n",
       "      <td>7954</td>\n",
       "      <td>0.736618</td>\n",
       "    </tr>\n",
       "    <tr>\n",
       "      <th>韩国料理</th>\n",
       "      <td>214.0</td>\n",
       "      <td>182.565421</td>\n",
       "      <td>46.112150</td>\n",
       "      <td>7.336449</td>\n",
       "      <td>7.378972</td>\n",
       "      <td>7.440187</td>\n",
       "      <td>299</td>\n",
       "      <td>0.582846</td>\n",
       "    </tr>\n",
       "  </tbody>\n",
       "</table>\n",
       "</div>"
      ],
      "text/plain": [
       "          hot_shop  review_num  mean_price     taste       env     serve  \\\n",
       "category                                                                   \n",
       "东南亚菜          72.0  566.361111   99.861111  7.766667  8.093056  7.947222   \n",
       "串串香         1343.0   61.479523   41.483246  7.342815  7.171109  7.297617   \n",
       "其他          1017.0  138.367748   44.874140  7.255654  7.254572  7.239725   \n",
       "咖啡厅          918.0   69.552288   38.971678  7.259913  7.389107  7.335294   \n",
       "小吃快餐        6744.0   48.074881   21.025504  7.142052  7.040273  7.087767   \n",
       "川菜          3563.0  105.030873   50.929273  7.227477  7.192254  7.161128   \n",
       "新疆菜           37.0  111.891892   33.135135  7.267568  7.035135  7.102703   \n",
       "日本料理         507.0  260.883629   69.954635  7.644970  7.728994  7.789152   \n",
       "海鲜           277.0  125.981949   69.169675  7.300000  7.238628  7.245487   \n",
       "清真菜           66.0   10.742424   22.000000  7.154545  7.045455  7.086364   \n",
       "火锅          3945.0  150.549810   54.316603  7.409252  7.371128  7.372801   \n",
       "烧烤           920.0  127.923913   51.098913  7.369565  7.254348  7.348043   \n",
       "私房菜          162.0   71.543210  104.166667  7.564198  7.701235  7.677160   \n",
       "粤菜           183.0  291.688525   62.103825  7.153005  7.279235  7.168852   \n",
       "自助餐          516.0  233.017442   63.416667  7.203876  7.342442  7.317442   \n",
       "茶馆             0.0    0.000000    0.000000  0.000000  0.000000  0.000000   \n",
       "西餐           693.0  154.539683   75.139971  7.367100  7.535931  7.486724   \n",
       "酒吧             1.0    6.000000   25.000000  7.200000  7.200000  7.200000   \n",
       "面包甜点        2844.0   69.632208   21.995781  7.285830  7.275387  7.279536   \n",
       "韩国料理         214.0  182.565421   46.112150  7.336449  7.378972  7.440187   \n",
       "\n",
       "          cool_shop  cool_pct  \n",
       "category                       \n",
       "东南亚菜             46  0.389831  \n",
       "串串香            2275  0.628800  \n",
       "其他            10636  0.912726  \n",
       "咖啡厅            1847  0.667993  \n",
       "小吃快餐          26705  0.798380  \n",
       "川菜             8354  0.701015  \n",
       "新疆菜             140  0.790960  \n",
       "日本料理            391  0.435412  \n",
       "海鲜              854  0.755084  \n",
       "清真菜             318  0.828125  \n",
       "火锅             6054  0.605461  \n",
       "烧烤             2645  0.741935  \n",
       "私房菜             477  0.746479  \n",
       "粤菜              496  0.730486  \n",
       "自助餐             824  0.614925  \n",
       "茶馆             7213  1.000000  \n",
       "西餐              737  0.515385  \n",
       "酒吧              351  0.997159  \n",
       "面包甜点           7954  0.736618  \n",
       "韩国料理            299  0.582846  "
      ]
     },
     "execution_count": 101,
     "metadata": {},
     "output_type": "execute_result"
    }
   ],
   "source": [
    "by_category=groupby_category_hot.merge(groupby_category_cool,left_index=True,right_index=True,\n",
    "                                                    how='outer')\n",
    "by_category.fillna(0,inplace=True)\n",
    "by_category.columns=['hot_shop','review_num','serve','env','taste','mean_price','cool_shop']\n",
    "by_category['cool_pct']=by_category.cool_shop/(by_category.hot_shop+by_category.cool_shop)\n",
    "columns=['hot_shop','review_num','mean_price','taste','env','serve','cool_shop','cool_pct']\n",
    "by_category=by_category[columns]\n",
    "by_category"
   ]
  },
  {
   "cell_type": "code",
   "execution_count": 104,
   "metadata": {
    "collapsed": false
   },
   "outputs": [
    {
     "data": {
      "text/plain": [
       "shop          7213\n",
       "area          7213\n",
       "addr          7213\n",
       "category      7213\n",
       "review_num    1813\n",
       "mean_price     112\n",
       "taste            0\n",
       "env              0\n",
       "serve            0\n",
       "dtype: int64"
      ]
     },
     "execution_count": 104,
     "metadata": {},
     "output_type": "execute_result"
    }
   ],
   "source": [
    "#我要说说这7213家茶馆...据说成都的茶馆数量全国居首,这样的成绩,实在说不过去..\n",
    "teahouse=data[data.category=='茶馆'].count()\n",
    "teahouse"
   ]
  },
  {
   "cell_type": "code",
   "execution_count": 134,
   "metadata": {
    "collapsed": false,
    "scrolled": true
   },
   "outputs": [
    {
     "data": {
      "text/plain": [
       "shop          352\n",
       "area          352\n",
       "addr          352\n",
       "category      352\n",
       "review_num    121\n",
       "mean_price     17\n",
       "taste           1\n",
       "env             1\n",
       "serve           1\n",
       "dtype: int64"
      ]
     },
     "execution_count": 134,
     "metadata": {},
     "output_type": "execute_result"
    }
   ],
   "source": [
    "#噢,竟然没有一家的数据是齐全的..还好有1813家是有人光顾的,不过,只有112家有人点评了价格...\n",
    "#看来茶馆在网上很少有人关注,难道都是线下口口相传么?\n",
    "#暂时剔除,待细分研究\n",
    "#酒吧的情况也值得我们一窥究竟:\n",
    "bar=data[data.category=='酒吧'].count()\n",
    "bar"
   ]
  },
  {
   "cell_type": "code",
   "execution_count": 136,
   "metadata": {
    "collapsed": true
   },
   "outputs": [],
   "source": [
    "#看来成都人对酒吧缺少热爱噢(待分析完上海来确认一下)\n",
    "#同样剔除\n",
    "by_category=by_category[by_category.hot_shop>1]"
   ]
  },
  {
   "cell_type": "code",
   "execution_count": 137,
   "metadata": {
    "collapsed": false,
    "scrolled": false
   },
   "outputs": [
    {
     "data": {
      "text/plain": [
       "<matplotlib.text.Text at 0x7fdce232ebe0>"
      ]
     },
     "execution_count": 137,
     "metadata": {},
     "output_type": "execute_result"
    },
    {
     "data": {
      "image/png": "[encoded data removed]",
      "text/plain": [
       "<matplotlib.figure.Figure at 0x7fdce5006cf8>"
      ]
     },
     "metadata": {},
     "output_type": "display_data"
    }
   ],
   "source": [
    "#分类分析:\n",
    "#hot_shop分类情况:\n",
    "by_category.hot_shop.plot(kind='bar',figsize=(10,5)).set_ylabel('店铺数量')"
   ]
  },
  {
   "cell_type": "code",
   "execution_count": 114,
   "metadata": {
    "collapsed": false
   },
   "outputs": [],
   "source": [
    "#小吃快餐数量接近7000家,瑶瑶领先...不过,似乎小一点儿的店铺都能叫\"小吃快餐\",不足为奇\n",
    "#川菜和火锅不用说了,大本营...面包和甜点倒是有些出乎我的意料了,看来这个分类里包含奶茶了:\n",
    "#不过,这个数量应该远远不止,奶茶店的名字实在不好捉摸..."
   ]
  },
  {
   "cell_type": "code",
   "execution_count": 133,
   "metadata": {
    "collapsed": false
   },
   "outputs": [
    {
     "data": {
      "text/plain": [
       "162"
      ]
     },
     "execution_count": 133,
     "metadata": {},
     "output_type": "execute_result"
    }
   ],
   "source": [
    "sum([1 for shop in hot_shops.shop.values if (('奶茶'in shop) | ('茶饮' in shop) | ('快乐柠檬' in shop))])"
   ]
  },
  {
   "cell_type": "code",
   "execution_count": 138,
   "metadata": {
    "collapsed": true
   },
   "outputs": [],
   "source": [
    "#另外我们也注意到东南亚菜,新疆菜,清真菜数量很少,在100家以下."
   ]
  },
  {
   "cell_type": "code",
   "execution_count": 144,
   "metadata": {
    "collapsed": false,
    "scrolled": false
   },
   "outputs": [
    {
     "data": {
      "text/plain": [
       "<matplotlib.lines.Line2D at 0x7fdce208cda0>"
      ]
     },
     "execution_count": 144,
     "metadata": {},
     "output_type": "execute_result"
    },
    {
     "data": {
      "image/png": "[encoded data removed]",
      "text/plain": [
       "<matplotlib.figure.Figure at 0x7fdce2087320>"
      ]
     },
     "metadata": {},
     "output_type": "display_data"
    }
   ],
   "source": [
    "#各类店铺\"冷清\"比例[只是针对网络环境上的冷清,无线下数据..]:\n",
    "by_category.cool_pct.plot(kind='bar',figsize=(10,5)).set_ylabel('\"冷清\"比例 (只针对网络环境)')\n",
    "plt.axhline(y=by_category.cool_shop.sum()/(by_category.hot_shop.sum()+by_category.cool_shop.sum()))"
   ]
  },
  {
   "cell_type": "code",
   "execution_count": 143,
   "metadata": {
    "collapsed": false
   },
   "outputs": [
    {
     "data": {
      "text/plain": [
       "0.74734151651888547"
      ]
     },
     "execution_count": 143,
     "metadata": {},
     "output_type": "execute_result"
    }
   ],
   "source": [
    "#\"冷清\"店铺总体比例:\n",
    "by_category.cool_shop.sum()/(by_category.hot_shop.sum()+by_category.cool_shop.sum())"
   ]
  },
  {
   "cell_type": "code",
   "execution_count": 62,
   "metadata": {
    "collapsed": false
   },
   "outputs": [],
   "source": [
    "#网络上\"冷清\"店铺总体比例达到74.7%,可见目前3/4的店铺还是较少依赖网络流量...当然,也能反映出这些店铺相对光顾人数较少,\n",
    "#长期处于\"无需预约\"状态.其中,又以小吃快餐,新疆菜和清真菜更为突出,冷清比例在80%左右,虽然新疆菜菜和清真菜数量较少.可见新疆菜和清真菜\n",
    "#在成都受欢迎程度较低.而东南亚菜和日本料理在网络环境上相对比较火爆,特别是东南亚菜,\"冷清\"比例低于40%. 加之店铺数量不多,可见还有一\n",
    "#定发展空间.接下来看平均评论数,也对以上结论做个验证"
   ]
  },
  {
   "cell_type": "code",
   "execution_count": 145,
   "metadata": {
    "collapsed": false,
    "scrolled": false
   },
   "outputs": [
    {
     "data": {
      "text/plain": [
       "<matplotlib.lines.Line2D at 0x7fdce21bc940>"
      ]
     },
     "execution_count": 145,
     "metadata": {},
     "output_type": "execute_result"
    },
    {
     "data": {
      "image/png": "[encoded data removed]",
      "text/plain": [
       "<matplotlib.figure.Figure at 0x7fdce21757b8>"
      ]
     },
     "metadata": {},
     "output_type": "display_data"
    }
   ],
   "source": [
    "#各类店铺平均评论数情况:\n",
    "by_category.review_num.plot.bar(figsize=(10,5)).set_ylabel('平均评论数')\n",
    "plt.axhline(y=by_category.review_num.mean())"
   ]
  },
  {
   "cell_type": "code",
   "execution_count": 148,
   "metadata": {
    "collapsed": false,
    "scrolled": false
   },
   "outputs": [
    {
     "data": {
      "text/plain": [
       "154.43480722009224"
      ]
     },
     "execution_count": 148,
     "metadata": {},
     "output_type": "execute_result"
    }
   ],
   "source": [
    "#平均评论数:\n",
    "by_category.review_num.mean()"
   ]
  },
  {
   "cell_type": "code",
   "execution_count": 152,
   "metadata": {
    "collapsed": true
   },
   "outputs": [],
   "source": [
    "#东南亚菜完美胜出...其次是粤菜及日本料理...自助餐当然是情理之中~..垫底的清真菜,那就用\"门可罗雀\"来形容吧.."
   ]
  },
  {
   "cell_type": "code",
   "execution_count": 159,
   "metadata": {
    "collapsed": false,
    "scrolled": false
   },
   "outputs": [
    {
     "data": {
      "text/plain": [
       "53.87527630015768"
      ]
     },
     "execution_count": 159,
     "metadata": {},
     "output_type": "execute_result"
    },
    {
     "data": {
      "image/png": "[encoded data removed]",
      "text/plain": [
       "<matplotlib.figure.Figure at 0x7fdce199f748>"
      ]
     },
     "metadata": {},
     "output_type": "display_data"
    }
   ],
   "source": [
    "#价格水平:\n",
    "by_category.mean_price.plot.bar(figsize=(10,5)).set_ylabel('平均价格')\n",
    "plt.axhline(y=by_category.mean_price.mean())\n",
    "by_category.mean_price.mean()"
   ]
  },
  {
   "cell_type": "code",
   "execution_count": 154,
   "metadata": {
    "collapsed": true
   },
   "outputs": [],
   "source": [
    "#最高的3类,私房菜,东南亚菜和西餐;最低的3类:小吃快餐,清真菜和面包甜点"
   ]
  },
  {
   "cell_type": "code",
   "execution_count": 157,
   "metadata": {
    "collapsed": false,
    "scrolled": false
   },
   "outputs": [
    {
     "data": {
      "text/plain": [
       "<matplotlib.text.Text at 0x7fdce1b0f9e8>"
      ]
     },
     "execution_count": 157,
     "metadata": {},
     "output_type": "execute_result"
    },
    {
     "data": {
      "image/png": "[encoded data removed]",
      "text/plain": [
       "<matplotlib.figure.Figure at 0x7fdce1bc55c0>"
      ]
     },
     "metadata": {},
     "output_type": "display_data"
    }
   ],
   "source": [
    "#口味,环境和服务:\n",
    "by_category[['taste','env','serve']].plot.bar(figsize=(10,5),ylim=[5,9]).set_ylabel('评分')"
   ]
  },
  {
   "cell_type": "code",
   "execution_count": null,
   "metadata": {
    "collapsed": true
   },
   "outputs": [],
   "source": [
    "#评分总体上差别不大,但是东南亚菜,日本料理及私房菜得分有一定优势"
   ]
  },
  {
   "cell_type": "code",
   "execution_count": 149,
   "metadata": {
    "collapsed": false
   },
   "outputs": [],
   "source": [
    "#总结:\n",
    "#清真菜:店铺数量较少,\"冷清\"比例较高,人均评论数远低于平均水平,人均价格低于平均水平50%以上,评价普通,不具有优势..在成都不受欢迎,新开店铺\n",
    "#需避免\n",
    "#小吃快餐,面包甜点:店铺数量较多,\"冷清\"比例与平均水平相当,人均评论数为平均水平50%左右,人均价格为平均水平50%左右,总体评价普通,不占优势..\n",
    "#此两类店铺在成都过于饱和,竞争较大,新开店铺需避免;另外需注意川菜也无优势...联想到现在的外卖市场空间,此类店铺应积极转型,抢占外卖市场\n",
    "#私房菜:店铺数量较少,\"冷清\"比例与平均水平相当,人均评论数为平均水平50%左右,人均价格为平均水平2倍,总体评价较好,有价格优势,但是不占市场优势\n",
    "#粤菜:店铺数量较少,\"冷清\"比例与平均水平相当,人均评论数为平均水平2倍左右,人均价格与平均水平相当,总体评价普通..可见,粤菜分化较大,若有较好\n",
    "#的技术水平,市场空间还有有的...不过,话又说回来,在哪个领域又不是这样呢..\n",
    "#火锅:数量较多,其余指标均处于平均水平..可见火锅在成都最受欢迎,存活率最好,但是市场已接近饱和..\n",
    "#日本料理:店铺数量不多,\"冷清\"比例较低,人均评论数高于平均水平68.8%,人均价格超过平均水平30%%,评价得分较好..有一定优势,,而且特色明显,\n",
    "#新开店铺可以推荐\n",
    "#东南亚菜:店铺数量较少,\"冷清\"比例最低,人均评论数为平均水平的3.66倍,人均价格超过平均水平85%,评价得分最好..可见东南亚菜在成都很火爆,\n",
    "#优势明显,在有较大市场空间和价格空间..新开店铺应强烈推荐"
   ]
  },
  {
   "cell_type": "code",
   "execution_count": 162,
   "metadata": {
    "collapsed": false
   },
   "outputs": [
    {
     "data": {
      "text/html": [
       "<div>\n",
       "<table border=\"1\" class=\"dataframe\">\n",
       "  <thead>\n",
       "    <tr style=\"text-align: right;\">\n",
       "      <th></th>\n",
       "      <th>mean_price</th>\n",
       "      <th>taste</th>\n",
       "      <th>env</th>\n",
       "      <th>serve</th>\n",
       "    </tr>\n",
       "  </thead>\n",
       "  <tbody>\n",
       "    <tr>\n",
       "      <th>mean_price</th>\n",
       "      <td>1.000000</td>\n",
       "      <td>0.728820</td>\n",
       "      <td>0.826655</td>\n",
       "      <td>0.779465</td>\n",
       "    </tr>\n",
       "    <tr>\n",
       "      <th>taste</th>\n",
       "      <td>0.728820</td>\n",
       "      <td>1.000000</td>\n",
       "      <td>0.893735</td>\n",
       "      <td>0.951991</td>\n",
       "    </tr>\n",
       "    <tr>\n",
       "      <th>env</th>\n",
       "      <td>0.826655</td>\n",
       "      <td>0.893735</td>\n",
       "      <td>1.000000</td>\n",
       "      <td>0.969883</td>\n",
       "    </tr>\n",
       "    <tr>\n",
       "      <th>serve</th>\n",
       "      <td>0.779465</td>\n",
       "      <td>0.951991</td>\n",
       "      <td>0.969883</td>\n",
       "      <td>1.000000</td>\n",
       "    </tr>\n",
       "  </tbody>\n",
       "</table>\n",
       "</div>"
      ],
      "text/plain": [
       "            mean_price     taste       env     serve\n",
       "mean_price    1.000000  0.728820  0.826655  0.779465\n",
       "taste         0.728820  1.000000  0.893735  0.951991\n",
       "env           0.826655  0.893735  1.000000  0.969883\n",
       "serve         0.779465  0.951991  0.969883  1.000000"
      ]
     },
     "execution_count": 162,
     "metadata": {},
     "output_type": "execute_result"
    }
   ],
   "source": [
    "#评价的相关系数分析:\n",
    "corr_data=by_category[['mean_price','taste','env','serve']]\n",
    "corr_data.corr()"
   ]
  },
  {
   "cell_type": "code",
   "execution_count": 170,
   "metadata": {
    "collapsed": false
   },
   "outputs": [
    {
     "data": {
      "text/plain": [
       "array([[<matplotlib.axes._subplots.AxesSubplot object at 0x7fdcd96b5898>,\n",
       "        <matplotlib.axes._subplots.AxesSubplot object at 0x7fdcd909d6d8>,\n",
       "        <matplotlib.axes._subplots.AxesSubplot object at 0x7fdcd9063ac8>,\n",
       "        <matplotlib.axes._subplots.AxesSubplot object at 0x7fdcd9020278>],\n",
       "       [<matplotlib.axes._subplots.AxesSubplot object at 0x7fdcd8fe9588>,\n",
       "        <matplotlib.axes._subplots.AxesSubplot object at 0x7fdcd8fa2f60>,\n",
       "        <matplotlib.axes._subplots.AxesSubplot object at 0x7fdcd8f72d30>,\n",
       "        <matplotlib.axes._subplots.AxesSubplot object at 0x7fdcd8f27f60>],\n",
       "       [<matplotlib.axes._subplots.AxesSubplot object at 0x7fdcd8f02208>,\n",
       "        <matplotlib.axes._subplots.AxesSubplot object at 0x7fdcd8e4b518>,\n",
       "        <matplotlib.axes._subplots.AxesSubplot object at 0x7fdcd8e87668>,\n",
       "        <matplotlib.axes._subplots.AxesSubplot object at 0x7fdcd8dd1860>],\n",
       "       [<matplotlib.axes._subplots.AxesSubplot object at 0x7fdcd8d8f588>,\n",
       "        <matplotlib.axes._subplots.AxesSubplot object at 0x7fdcd8d60080>,\n",
       "        <matplotlib.axes._subplots.AxesSubplot object at 0x7fdcd8d159e8>,\n",
       "        <matplotlib.axes._subplots.AxesSubplot object at 0x7fdcd8ce9278>]], dtype=object)"
      ]
     },
     "execution_count": 170,
     "metadata": {},
     "output_type": "execute_result"
    },
    {
     "data": {
      "image/png": "[encoded data removed]",
      "text/plain": [
       "<matplotlib.figure.Figure at 0x7fdcd912d588>"
      ]
     },
     "metadata": {},
     "output_type": "display_data"
    }
   ],
   "source": [
    "pd.scatter_matrix(corr_data,alpha=0.3,figsize=(8,8),diagonal='kde',c='k')"
   ]
  },
  {
   "cell_type": "code",
   "execution_count": 171,
   "metadata": {
    "collapsed": true
   },
   "outputs": [],
   "source": [
    "#从分类的平均消费和平均得分来看,人均消费和口味的相关系数为0.729,与服务的相关系数为0.78,与环境的相关系数为0.827,可见人均消费在整体上与\n",
    "#口味,服务和环境存在较强的正相关关系,这也与我们的生活情况相匹配.\n",
    "#而味道与环境和服务的相关系数均达到了0.9及以上,可见味道和环境及服务高度相关.味道不错的餐厅环境和服务也相对较好,而环境和服务相对较好的餐厅\n",
    "#味道也不差...似乎..味道好坏和消费者的心情是高度相关的~环境好,服务好,消费者对味道反而就不那么敏感了吧~"
   ]
  },
  {
   "cell_type": "code",
   "execution_count": 35,
   "metadata": {
    "collapsed": true
   },
   "outputs": [],
   "source": [
    "#分区域分析:\n",
    "grouped_area_hot=hot_shops.groupby('area')['shop','review_num','mean_price','taste','env','serve']\n",
    "mapping={'shop':'count','review_num':'mean','mean_price':'mean','taste':'mean','env':'mean','serve':'mean'}\n",
    "groupby_area_hot=grouped_area_hot.agg(mapping)\n",
    "groupby_area_cool=DataFrame(cool_shops.groupby('area')['shop'].count())"
   ]
  },
  {
   "cell_type": "code",
   "execution_count": 43,
   "metadata": {
    "collapsed": true
   },
   "outputs": [],
   "source": [
    "#成都市各区县人口(2014年底,单位为十万)\n",
    "papulation_chengdu=DataFrame(pd.read_table('papulation_chengdu.txt',delimiter=' ',header=None,index_col=0,\n",
    "                                           skiprows=1)[4])\n",
    "papulation_chengdu=papulation_chengdu/100000"
   ]
  },
  {
   "cell_type": "code",
   "execution_count": 44,
   "metadata": {
    "collapsed": true
   },
   "outputs": [],
   "source": [
    "by_area=pd.merge(groupby_area_hot,groupby_area_cool,how='outer',left_index=True,right_index=True).merge(\\\n",
    "        papulation_chengdu,how='inner',left_index=True,right_index=True)"
   ]
  },
  {
   "cell_type": "code",
   "execution_count": 45,
   "metadata": {
    "collapsed": false
   },
   "outputs": [],
   "source": [
    "by_area.columns=['hot_shop','review_num','serve','env','taste','mean_price','cool_shop','papulation']\n",
    "by_area['cool_pct']=by_area.cool_shop/(by_area.hot_shop+by_area.cool_shop)\n",
    "by_area['hot_density']=by_area.hot_shop/by_area.papulation\n",
    "by_area['cool_density']=by_area.cool_shop/by_area.papulation"
   ]
  },
  {
   "cell_type": "code",
   "execution_count": 46,
   "metadata": {
    "collapsed": false
   },
   "outputs": [
    {
     "data": {
      "text/html": [
       "<div>\n",
       "<table border=\"1\" class=\"dataframe\">\n",
       "  <thead>\n",
       "    <tr style=\"text-align: right;\">\n",
       "      <th></th>\n",
       "      <th>hot_shop</th>\n",
       "      <th>review_num</th>\n",
       "      <th>mean_price</th>\n",
       "      <th>taste</th>\n",
       "      <th>env</th>\n",
       "      <th>serve</th>\n",
       "      <th>cool_shop</th>\n",
       "      <th>cool_pct</th>\n",
       "      <th>hot_density</th>\n",
       "      <th>cool_density</th>\n",
       "    </tr>\n",
       "  </thead>\n",
       "  <tbody>\n",
       "    <tr>\n",
       "      <th>锦江区</th>\n",
       "      <td>7.327284</td>\n",
       "      <td>45.831481</td>\n",
       "      <td>7.341265</td>\n",
       "      <td>7.358395</td>\n",
       "      <td>194.154321</td>\n",
       "      <td>3240</td>\n",
       "      <td>4357</td>\n",
       "      <td>0.998321</td>\n",
       "      <td>1.486593</td>\n",
       "      <td>883.968261</td>\n",
       "    </tr>\n",
       "    <tr>\n",
       "      <th>青羊区</th>\n",
       "      <td>7.243738</td>\n",
       "      <td>41.028169</td>\n",
       "      <td>7.265284</td>\n",
       "      <td>7.301751</td>\n",
       "      <td>120.060525</td>\n",
       "      <td>2627</td>\n",
       "      <td>5014</td>\n",
       "      <td>0.998557</td>\n",
       "      <td>1.131032</td>\n",
       "      <td>782.882143</td>\n",
       "    </tr>\n",
       "    <tr>\n",
       "      <th>金牛区</th>\n",
       "      <td>7.199915</td>\n",
       "      <td>38.973651</td>\n",
       "      <td>7.231619</td>\n",
       "      <td>7.270888</td>\n",
       "      <td>104.024649</td>\n",
       "      <td>2353</td>\n",
       "      <td>5268</td>\n",
       "      <td>0.998635</td>\n",
       "      <td>0.955123</td>\n",
       "      <td>698.839645</td>\n",
       "    </tr>\n",
       "    <tr>\n",
       "      <th>武侯区</th>\n",
       "      <td>7.343341</td>\n",
       "      <td>45.786840</td>\n",
       "      <td>7.345035</td>\n",
       "      <td>7.361604</td>\n",
       "      <td>155.955674</td>\n",
       "      <td>5076</td>\n",
       "      <td>8534</td>\n",
       "      <td>0.999140</td>\n",
       "      <td>0.699247</td>\n",
       "      <td>812.624146</td>\n",
       "    </tr>\n",
       "    <tr>\n",
       "      <th>成华区</th>\n",
       "      <td>7.211180</td>\n",
       "      <td>36.155486</td>\n",
       "      <td>7.251222</td>\n",
       "      <td>7.290224</td>\n",
       "      <td>117.567343</td>\n",
       "      <td>1923</td>\n",
       "      <td>3747</td>\n",
       "      <td>0.998079</td>\n",
       "      <td>1.018877</td>\n",
       "      <td>529.418247</td>\n",
       "    </tr>\n",
       "    <tr>\n",
       "      <th>龙泉驿区</th>\n",
       "      <td>7.159449</td>\n",
       "      <td>37.122047</td>\n",
       "      <td>7.168110</td>\n",
       "      <td>7.198228</td>\n",
       "      <td>24.025591</td>\n",
       "      <td>508</td>\n",
       "      <td>1601</td>\n",
       "      <td>0.995548</td>\n",
       "      <td>1.132842</td>\n",
       "      <td>253.326793</td>\n",
       "    </tr>\n",
       "    <tr>\n",
       "      <th>青白江区</th>\n",
       "      <td>7.123936</td>\n",
       "      <td>36.132979</td>\n",
       "      <td>7.123936</td>\n",
       "      <td>7.150532</td>\n",
       "      <td>12.941489</td>\n",
       "      <td>188</td>\n",
       "      <td>2160</td>\n",
       "      <td>0.996713</td>\n",
       "      <td>1.709456</td>\n",
       "      <td>518.312509</td>\n",
       "    </tr>\n",
       "    <tr>\n",
       "      <th>新都区</th>\n",
       "      <td>7.192136</td>\n",
       "      <td>36.008502</td>\n",
       "      <td>7.190542</td>\n",
       "      <td>7.209564</td>\n",
       "      <td>17.941552</td>\n",
       "      <td>941</td>\n",
       "      <td>6297</td>\n",
       "      <td>0.998859</td>\n",
       "      <td>1.000819</td>\n",
       "      <td>876.256740</td>\n",
       "    </tr>\n",
       "    <tr>\n",
       "      <th>温江区</th>\n",
       "      <td>7.183988</td>\n",
       "      <td>34.115914</td>\n",
       "      <td>7.207171</td>\n",
       "      <td>7.223477</td>\n",
       "      <td>34.371316</td>\n",
       "      <td>1018</td>\n",
       "      <td>5137</td>\n",
       "      <td>0.998603</td>\n",
       "      <td>1.778778</td>\n",
       "      <td>1271.937644</td>\n",
       "    </tr>\n",
       "    <tr>\n",
       "      <th>金堂县</th>\n",
       "      <td>7.131076</td>\n",
       "      <td>31.677291</td>\n",
       "      <td>7.127490</td>\n",
       "      <td>7.135857</td>\n",
       "      <td>10.159363</td>\n",
       "      <td>251</td>\n",
       "      <td>2447</td>\n",
       "      <td>0.997094</td>\n",
       "      <td>0.797811</td>\n",
       "      <td>273.765705</td>\n",
       "    </tr>\n",
       "    <tr>\n",
       "      <th>双流区</th>\n",
       "      <td>7.174149</td>\n",
       "      <td>40.060964</td>\n",
       "      <td>7.187996</td>\n",
       "      <td>7.211578</td>\n",
       "      <td>38.569471</td>\n",
       "      <td>2116</td>\n",
       "      <td>8992</td>\n",
       "      <td>0.999203</td>\n",
       "      <td>0.710532</td>\n",
       "      <td>890.573019</td>\n",
       "    </tr>\n",
       "    <tr>\n",
       "      <th>郫县</th>\n",
       "      <td>7.121712</td>\n",
       "      <td>33.411863</td>\n",
       "      <td>7.138165</td>\n",
       "      <td>7.132289</td>\n",
       "      <td>27.270285</td>\n",
       "      <td>1787</td>\n",
       "      <td>7854</td>\n",
       "      <td>0.999094</td>\n",
       "      <td>1.312698</td>\n",
       "      <td>1447.675222</td>\n",
       "    </tr>\n",
       "    <tr>\n",
       "      <th>大邑县</th>\n",
       "      <td>7.049123</td>\n",
       "      <td>35.491228</td>\n",
       "      <td>7.069737</td>\n",
       "      <td>7.112281</td>\n",
       "      <td>12.140351</td>\n",
       "      <td>228</td>\n",
       "      <td>2220</td>\n",
       "      <td>0.996835</td>\n",
       "      <td>1.376362</td>\n",
       "      <td>433.461680</td>\n",
       "    </tr>\n",
       "    <tr>\n",
       "      <th>蒲江县</th>\n",
       "      <td>7.033333</td>\n",
       "      <td>42.566667</td>\n",
       "      <td>7.045000</td>\n",
       "      <td>7.106667</td>\n",
       "      <td>15.466667</td>\n",
       "      <td>60</td>\n",
       "      <td>1296</td>\n",
       "      <td>0.994602</td>\n",
       "      <td>2.640259</td>\n",
       "      <td>486.508401</td>\n",
       "    </tr>\n",
       "    <tr>\n",
       "      <th>新津县</th>\n",
       "      <td>7.065842</td>\n",
       "      <td>40.569307</td>\n",
       "      <td>7.104950</td>\n",
       "      <td>7.147525</td>\n",
       "      <td>13.480198</td>\n",
       "      <td>202</td>\n",
       "      <td>1900</td>\n",
       "      <td>0.996295</td>\n",
       "      <td>2.267222</td>\n",
       "      <td>609.654358</td>\n",
       "    </tr>\n",
       "    <tr>\n",
       "      <th>都江堰市</th>\n",
       "      <td>7.125505</td>\n",
       "      <td>39.562986</td>\n",
       "      <td>7.142768</td>\n",
       "      <td>7.165941</td>\n",
       "      <td>21.973561</td>\n",
       "      <td>643</td>\n",
       "      <td>3832</td>\n",
       "      <td>0.998144</td>\n",
       "      <td>1.150613</td>\n",
       "      <td>618.784102</td>\n",
       "    </tr>\n",
       "    <tr>\n",
       "      <th>彭州市</th>\n",
       "      <td>7.151145</td>\n",
       "      <td>36.249364</td>\n",
       "      <td>7.163868</td>\n",
       "      <td>7.180916</td>\n",
       "      <td>20.875318</td>\n",
       "      <td>393</td>\n",
       "      <td>3003</td>\n",
       "      <td>0.997624</td>\n",
       "      <td>0.884488</td>\n",
       "      <td>371.425356</td>\n",
       "    </tr>\n",
       "    <tr>\n",
       "      <th>邛崃市</th>\n",
       "      <td>6.992187</td>\n",
       "      <td>32.583333</td>\n",
       "      <td>7.007292</td>\n",
       "      <td>7.024479</td>\n",
       "      <td>9.197917</td>\n",
       "      <td>192</td>\n",
       "      <td>2087</td>\n",
       "      <td>0.996661</td>\n",
       "      <td>1.064007</td>\n",
       "      <td>317.580605</td>\n",
       "    </tr>\n",
       "    <tr>\n",
       "      <th>崇州市</th>\n",
       "      <td>7.072993</td>\n",
       "      <td>36.890511</td>\n",
       "      <td>7.108759</td>\n",
       "      <td>7.110219</td>\n",
       "      <td>9.204380</td>\n",
       "      <td>274</td>\n",
       "      <td>2856</td>\n",
       "      <td>0.997530</td>\n",
       "      <td>1.055896</td>\n",
       "      <td>426.359656</td>\n",
       "    </tr>\n",
       "  </tbody>\n",
       "</table>\n",
       "</div>"
      ],
      "text/plain": [
       "      hot_shop  review_num  mean_price     taste         env  serve  \\\n",
       "锦江区   7.327284   45.831481    7.341265  7.358395  194.154321   3240   \n",
       "青羊区   7.243738   41.028169    7.265284  7.301751  120.060525   2627   \n",
       "金牛区   7.199915   38.973651    7.231619  7.270888  104.024649   2353   \n",
       "武侯区   7.343341   45.786840    7.345035  7.361604  155.955674   5076   \n",
       "成华区   7.211180   36.155486    7.251222  7.290224  117.567343   1923   \n",
       "龙泉驿区  7.159449   37.122047    7.168110  7.198228   24.025591    508   \n",
       "青白江区  7.123936   36.132979    7.123936  7.150532   12.941489    188   \n",
       "新都区   7.192136   36.008502    7.190542  7.209564   17.941552    941   \n",
       "温江区   7.183988   34.115914    7.207171  7.223477   34.371316   1018   \n",
       "金堂县   7.131076   31.677291    7.127490  7.135857   10.159363    251   \n",
       "双流区   7.174149   40.060964    7.187996  7.211578   38.569471   2116   \n",
       "郫县    7.121712   33.411863    7.138165  7.132289   27.270285   1787   \n",
       "大邑县   7.049123   35.491228    7.069737  7.112281   12.140351    228   \n",
       "蒲江县   7.033333   42.566667    7.045000  7.106667   15.466667     60   \n",
       "新津县   7.065842   40.569307    7.104950  7.147525   13.480198    202   \n",
       "都江堰市  7.125505   39.562986    7.142768  7.165941   21.973561    643   \n",
       "彭州市   7.151145   36.249364    7.163868  7.180916   20.875318    393   \n",
       "邛崃市   6.992187   32.583333    7.007292  7.024479    9.197917    192   \n",
       "崇州市   7.072993   36.890511    7.108759  7.110219    9.204380    274   \n",
       "\n",
       "      cool_shop  cool_pct  hot_density  cool_density  \n",
       "锦江区        4357  0.998321     1.486593    883.968261  \n",
       "青羊区        5014  0.998557     1.131032    782.882143  \n",
       "金牛区        5268  0.998635     0.955123    698.839645  \n",
       "武侯区        8534  0.999140     0.699247    812.624146  \n",
       "成华区        3747  0.998079     1.018877    529.418247  \n",
       "龙泉驿区       1601  0.995548     1.132842    253.326793  \n",
       "青白江区       2160  0.996713     1.709456    518.312509  \n",
       "新都区        6297  0.998859     1.000819    876.256740  \n",
       "温江区        5137  0.998603     1.778778   1271.937644  \n",
       "金堂县        2447  0.997094     0.797811    273.765705  \n",
       "双流区        8992  0.999203     0.710532    890.573019  \n",
       "郫县         7854  0.999094     1.312698   1447.675222  \n",
       "大邑县        2220  0.996835     1.376362    433.461680  \n",
       "蒲江县        1296  0.994602     2.640259    486.508401  \n",
       "新津县        1900  0.996295     2.267222    609.654358  \n",
       "都江堰市       3832  0.998144     1.150613    618.784102  \n",
       "彭州市        3003  0.997624     0.884488    371.425356  \n",
       "邛崃市        2087  0.996661     1.064007    317.580605  \n",
       "崇州市        2856  0.997530     1.055896    426.359656  "
      ]
     },
     "execution_count": 46,
     "metadata": {},
     "output_type": "execute_result"
    }
   ],
   "source": [
    "columns=['hot_shop','review_num','mean_price','taste','env','serve',\n",
    "         'cool_shop','cool_pct','hot_density','cool_density']\n",
    "by_area=by_area[columns]\n",
    "by_area"
   ]
  },
  {
   "cell_type": "code",
   "execution_count": null,
   "metadata": {
    "collapsed": false
   },
   "outputs": [],
   "source": []
  },
  {
   "cell_type": "code",
   "execution_count": null,
   "metadata": {
    "collapsed": true
   },
   "outputs": [],
   "source": []
  }
 ],
 "metadata": {
  "kernelspec": {
   "display_name": "Python 3",
   "language": "python",
   "name": "python3"
  },
  "language_info": {
   "codemirror_mode": {
    "name": "ipython",
    "version": 3
   },
   "file_extension": ".py",
   "mimetype": "text/x-python",
   "name": "python",
   "nbconvert_exporter": "python",
   "pygments_lexer": "ipython3",
   "version": "3.5.2"
  }
 },
 "nbformat": 4,
 "nbformat_minor": 1
}
